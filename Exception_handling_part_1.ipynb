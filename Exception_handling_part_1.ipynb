{
 "cells": [
  {
   "cell_type": "markdown",
   "id": "f3f83ef8-9faf-45b9-ad81-9e51656abc15",
   "metadata": {},
   "source": [
    "# Exception handling"
   ]
  },
  {
   "cell_type": "markdown",
   "id": "ac260049-48e1-4d0e-aa96-aa36a521a51c",
   "metadata": {},
   "source": [
    "# Q1. What is an Exception in python? Write the difference between Exceptions and Syntax errors."
   ]
  },
  {
   "cell_type": "markdown",
   "id": "48ee207b-dd7b-4b8f-b8f9-ff8b8a35a993",
   "metadata": {},
   "source": [
    "# Answer:-\n",
    "Exception is an error during the execution of the program which disrupts the normal flow of the program's.\n",
    "Difference between Exception and Syntax Errors are:-\n",
    "# 1. Exception:\n",
    "- An error occure during the execution of the program.\n",
    "- it detected during the runtime.\n",
    "- it can be caught and handle by the try and except blocks.\n",
    "# 2. Syntax Errors:\n",
    "- An error from the structure of the code which stop them from running.\n",
    "- it detected during the compilation stage.\n",
    "- cannot be handled by try and except it will only handled by rewrite or modify the syntax."
   ]
  },
  {
   "cell_type": "markdown",
   "id": "2b91f855-3350-4f16-abf1-d81a90c7baf7",
   "metadata": {},
   "source": [
    "# Q2. What happens when an exception is not handled? Explain with an example."
   ]
  },
  {
   "cell_type": "markdown",
   "id": "98751df6-777c-4dd1-9c8b-365db84afe63",
   "metadata": {},
   "source": [
    "# Answer:-"
   ]
  },
  {
   "cell_type": "markdown",
   "id": "dc379a01-df62-48ee-8272-c5f883efd654",
   "metadata": {},
   "source": [
    "If an exception is not handled, the program will stop executing at the point where the exception occurs, and the rest of the code will not be executed.\n"
   ]
  },
  {
   "cell_type": "code",
   "execution_count": 14,
   "id": "ed471cbe-45a3-4c86-b5fd-fd9c3fd77b92",
   "metadata": {},
   "outputs": [],
   "source": [
    "def divide_num(num1,num2):\n",
    "    d=num1/num2\n",
    "    print(\"the divide number is {}\",d)"
   ]
  },
  {
   "cell_type": "code",
   "execution_count": 26,
   "id": "fbe60e5f-09bd-4fd8-9860-0e30abdaec8b",
   "metadata": {},
   "outputs": [],
   "source": [
    "def divide_num_handle_error(num1,num2):\n",
    "    try:\n",
    "        d=num1/num2\n",
    "    except ZeroDivisionError as e:\n",
    "        print(\"Division by Zero Error we got \",e)\n",
    "    else:\n",
    "        print(\"the divided number is \",d)\n",
    "    print(\"I am also execute\")"
   ]
  },
  {
   "cell_type": "code",
   "execution_count": 28,
   "id": "750f66b1-24e9-4bfb-af1f-02dc925df84d",
   "metadata": {},
   "outputs": [
    {
     "ename": "ZeroDivisionError",
     "evalue": "division by zero",
     "output_type": "error",
     "traceback": [
      "\u001b[1;31m---------------------------------------------------------------------------\u001b[0m",
      "\u001b[1;31mZeroDivisionError\u001b[0m                         Traceback (most recent call last)",
      "Cell \u001b[1;32mIn[28], line 1\u001b[0m\n\u001b[1;32m----> 1\u001b[0m divide_num(\u001b[38;5;241m9\u001b[39m,\u001b[38;5;241m0\u001b[39m)\n",
      "Cell \u001b[1;32mIn[14], line 2\u001b[0m, in \u001b[0;36mdivide_num\u001b[1;34m(num1, num2)\u001b[0m\n\u001b[0;32m      1\u001b[0m \u001b[38;5;28;01mdef\u001b[39;00m \u001b[38;5;21mdivide_num\u001b[39m(num1,num2):\n\u001b[1;32m----> 2\u001b[0m     d\u001b[38;5;241m=\u001b[39mnum1\u001b[38;5;241m/\u001b[39mnum2\n\u001b[0;32m      3\u001b[0m     \u001b[38;5;28mprint\u001b[39m(\u001b[38;5;124m\"\u001b[39m\u001b[38;5;124mthe divide number is \u001b[39m\u001b[38;5;132;01m{}\u001b[39;00m\u001b[38;5;124m\"\u001b[39m,d)\n",
      "\u001b[1;31mZeroDivisionError\u001b[0m: division by zero"
     ]
    }
   ],
   "source": [
    "divide_num(9,0)\n"
   ]
  },
  {
   "cell_type": "markdown",
   "id": "87f8f7f8-7a02-4ce8-91a6-dcac2fdc5c2b",
   "metadata": {},
   "source": [
    "As we see if we not handle the Error then the program stop running at point where we got error. In divide_num() function if we pass num1=9 and num2=0 then we got error and print statement doesnot run."
   ]
  },
  {
   "cell_type": "code",
   "execution_count": 31,
   "id": "97311523-d290-4458-bac2-07880fcfee65",
   "metadata": {},
   "outputs": [
    {
     "name": "stdout",
     "output_type": "stream",
     "text": [
      "Division by Zero Error we got  division by zero\n",
      "I am also execute\n"
     ]
    }
   ],
   "source": [
    "divide_num_handle_error(9,0)"
   ]
  },
  {
   "cell_type": "markdown",
   "id": "b4a23401-ec46-447d-8e3f-b84b8af770e7",
   "metadata": {},
   "source": [
    "As we saw if we handle error then rest of the code after the error were also executed."
   ]
  },
  {
   "cell_type": "markdown",
   "id": "d6eb28e1-e56f-4f0a-8ede-50646bf69856",
   "metadata": {},
   "source": [
    "# Q3. Which Python statements are used to catch and handle exceptions? Explain with an example."
   ]
  },
  {
   "cell_type": "markdown",
   "id": "b8e552ef-8826-401f-93d4-94d878331b9c",
   "metadata": {},
   "source": [
    "# Answer:-\n",
    "Try block is used to catch the Error and except block is used to handle the Error."
   ]
  },
  {
   "cell_type": "code",
   "execution_count": null,
   "id": "eb5b39cc-c58e-4191-84a2-e5ee9fd8d424",
   "metadata": {},
   "outputs": [],
   "source": [
    "def divide_numbers(a, b):\n",
    "    try:\n",
    "        result = a / b  # Try block to catch any exceptions\n",
    "    except ZeroDivisionError:  # Handles the ZeroDivisionError exception\n",
    "        print(\"Error: You cannot divide by zero!\")\n",
    "    except TypeError:  # Handles the case where non-numeric types are passed\n",
    "        print(\"Error: Both arguments must be numbers!\")\n",
    "    else:  # Executes if no exception occurs\n",
    "        print(\"Result:\", result)\n",
    "    finally:  # Always executes\n",
    "        print(\"Execution completed.\")\n",
    "\n",
    "# Test cases\n",
    "divide_numbers(10, 2)  # Normal case, no exception\n",
    "divide_numbers(10, 0)  # ZeroDivisionError\n",
    "divide_numbers(10, \"a\")  # TypeError"
   ]
  },
  {
   "cell_type": "code",
   "execution_count": 41,
   "id": "6b9330d7-bc24-4eb8-a87b-1942cd233cc7",
   "metadata": {},
   "outputs": [],
   "source": [
    "def divide_number(a,b):\n",
    "    try:\n",
    "        result=a/b\n",
    "    except ZeroDivisionError as e:\n",
    "        print(\"Error: you can't divide by Zero {}\",e)\n",
    "    except TypeError as e:\n",
    "        print(\"Error: both argument must be number {}\",e)\n",
    "    else:\n",
    "        print(\"result : \",result)\n",
    "    finally:\n",
    "        print(\"Excution completed\")"
   ]
  },
  {
   "cell_type": "code",
   "execution_count": 43,
   "id": "fe3c28bf-4437-4eeb-ae05-2b464a3ca39c",
   "metadata": {},
   "outputs": [
    {
     "name": "stdout",
     "output_type": "stream",
     "text": [
      "Error: you can't divide by Zero {} division by zero\n",
      "Excution completed\n"
     ]
    }
   ],
   "source": [
    "divide_number(9,0)"
   ]
  },
  {
   "cell_type": "code",
   "execution_count": 45,
   "id": "3352199f-cc06-41bc-92c0-43fe7e67e73f",
   "metadata": {},
   "outputs": [
    {
     "name": "stdout",
     "output_type": "stream",
     "text": [
      "Error: both argument must be number {} unsupported operand type(s) for /: 'int' and 'str'\n",
      "Excution completed\n"
     ]
    }
   ],
   "source": [
    "divide_number(9,\"abc\")"
   ]
  },
  {
   "cell_type": "code",
   "execution_count": 47,
   "id": "430c0d9e-c8a4-478b-9e6e-ed4a00e2f2a5",
   "metadata": {},
   "outputs": [
    {
     "name": "stdout",
     "output_type": "stream",
     "text": [
      "result :  1.5\n",
      "Excution completed\n"
     ]
    }
   ],
   "source": [
    "divide_number(9,6)"
   ]
  },
  {
   "cell_type": "markdown",
   "id": "27197262-c30b-4a31-898a-59945cf2cd81",
   "metadata": {},
   "source": [
    "- try block: This is where you place the code that might raise an exception.\n",
    "- except block: You can specify one or more except clauses to handle specific exceptions (e.g., ZeroDivisionError, TypeError).\n",
    "- else block: If no exception is raised in the try block, the code in the else block executes.\n",
    "- finally block: This block always runs, regardless of whether an exception occurred. It is useful for resource management, like closing files or connections."
   ]
  },
  {
   "cell_type": "markdown",
   "id": "738ff3c5-b7ea-406b-b8f3-fbc23f3751f6",
   "metadata": {},
   "source": [
    "# Q4. Explain with an example:\n",
    " -  try and else\n",
    " - finall\n",
    " -  raise"
   ]
  },
  {
   "cell_type": "markdown",
   "id": "0bec8df8-6d0a-4eb0-a1fe-78f8df657516",
   "metadata": {},
   "source": [
    "try and else :-\n",
    "- try: The code that might rise an exception is written inside the try block.\n",
    "- else: if there is no any error got from the code then else block execute.\n",
    "- final: the code inside this block runs always.\n",
    "- raise: you can create a new exception by using raise keywords."
   ]
  },
  {
   "cell_type": "code",
   "execution_count": 56,
   "id": "f40fab2f-5674-486e-904a-65d76148dec7",
   "metadata": {},
   "outputs": [
    {
     "name": "stdout",
     "output_type": "stream",
     "text": [
      "Test Case 1:\n",
      "Division successful. Result: 5.0\n",
      "This will always execute, regardless of an exception.\n",
      "\n",
      "Test Case 2:\n",
      "Error: Cannot divide by zero!\n",
      "This will always execute, regardless of an exception.\n"
     ]
    }
   ],
   "source": [
    "def divide_numbers(a, b):\n",
    "    try:\n",
    "        if b == 0:\n",
    "            raise ValueError(\"Cannot divide by zero!\")\n",
    "        result = a / b\n",
    "    except ValueError as e:\n",
    "        print(f\"Error: {e}\") \n",
    "    else:\n",
    "        print(\"Division successful. Result:\", result)  \n",
    "    finally:\n",
    "        print(\"This will always execute, regardless of an exception.\")  \n",
    "\n",
    "# Test cases\n",
    "print(\"Test Case 1:\")\n",
    "divide_numbers(10, 2) \n",
    "\n",
    "print(\"\\nTest Case 2:\")\n",
    "divide_numbers(10, 0) "
   ]
  },
  {
   "cell_type": "markdown",
   "id": "a229fed1-aa3b-4685-beb5-38776f171cfa",
   "metadata": {},
   "source": [
    "# Q5. What are Custom Exceptions in python? Why do we need Custom Exceptions? Explain with an example."
   ]
  },
  {
   "cell_type": "markdown",
   "id": "dc664168-3b49-4bc7-98b2-ac039344e774",
   "metadata": {},
   "source": [
    "# Answer:-"
   ]
  },
  {
   "cell_type": "markdown",
   "id": "79ddeef0-9fcc-43c7-a117-a38d658b8348",
   "metadata": {},
   "source": [
    "Custom exceptions in Python are user-defined error types that allow you to define specific error conditions in your program that are not covered by the built-in exceptions.\n",
    "- Built-in exceptions like ValueError, TypeError, or IndexError are generic, so they may not provide enough detail for complex or domain-specific issues in your application.\n",
    "- Custom exceptions make it easier for other developers (or yourself in the future) to understand the specific conditions under which errors are raised."
   ]
  },
  {
   "cell_type": "code",
   "execution_count": 88,
   "id": "4070931c-c804-409c-b7de-3c3f4e9624a1",
   "metadata": {},
   "outputs": [],
   "source": [
    "class Negative_number_error(Exception):\n",
    "    def __init__(self,age,message=\"Age could not be negative\"):\n",
    "        self.number=age\n",
    "        self.message=message\n",
    "        super().__init__(message)"
   ]
  },
  {
   "cell_type": "code",
   "execution_count": 90,
   "id": "b42f8c3e-d704-4038-b169-d9c88e8ad420",
   "metadata": {},
   "outputs": [],
   "source": [
    "def cal_age(age):\n",
    "    if age<0:\n",
    "        raise Negative_number_error(age)\n",
    "    return 2024-age    "
   ]
  },
  {
   "cell_type": "code",
   "execution_count": 100,
   "id": "4ef95127-3585-4bbf-bc3f-27fc2806befa",
   "metadata": {},
   "outputs": [
    {
     "name": "stdout",
     "output_type": "stream",
     "text": [
      "Error: Age could not be negative\n"
     ]
    }
   ],
   "source": [
    "try:\n",
    "    result=cal_age(-23)\n",
    "    print(\"result\",result)\n",
    "except Negative_number_error as e:\n",
    "    print(\"Error:\" ,e)\n",
    "    "
   ]
  },
  {
   "cell_type": "markdown",
   "id": "d686e4cb-1784-44a7-9f09-9d33c579b5b5",
   "metadata": {},
   "source": [
    "# Q6. Create a custom exception class. Use this class to handle an exception."
   ]
  },
  {
   "cell_type": "markdown",
   "id": "0da35557-ed30-49c2-be59-1fbfcdd3c9bd",
   "metadata": {},
   "source": [
    "# Answer:-"
   ]
  },
  {
   "cell_type": "code",
   "execution_count": 108,
   "id": "7e77a6e9-3a93-4aba-a79a-6bae9636aea3",
   "metadata": {},
   "outputs": [
    {
     "name": "stdin",
     "output_type": "stream",
     "text": [
      "Enter your age:  4\n"
     ]
    },
    {
     "name": "stdout",
     "output_type": "stream",
     "text": [
      "Error: Age is too small. Must be at least 18.\n"
     ]
    }
   ],
   "source": [
    "class AgeTooSmallError(Exception):\n",
    "    \"\"\"Exception raised when the input age is below the minimum allowed.\"\"\"\n",
    "    def __init__(self, age, message=\"Age is too small. Must be at least 18.\"):\n",
    "        self.age = age\n",
    "        self.message = message\n",
    "        super().__init__(self.message)\n",
    "\n",
    "# Step 2: Function to check age\n",
    "def check_age(age):\n",
    "    if age < 18:\n",
    "        raise AgeTooSmallError(age)  # Raise the custom exception if age is below 18\n",
    "    print(f\"Age {age} is valid. You are allowed access.\")\n",
    "\n",
    "# Step 3: Handling the custom exception\n",
    "try:\n",
    "    user_age = int(input(\"Enter your age: \"))\n",
    "    check_age(user_age)\n",
    "except AgeTooSmallError as e:\n",
    "    print(f\"Error: {e}\")\n",
    "except ValueError:\n",
    "    print(\"Error: Invalid input. Please enter a number.\")"
   ]
  },
  {
   "cell_type": "code",
   "execution_count": null,
   "id": "a8b5627b-ea8c-4fa5-b042-dd93c91f0368",
   "metadata": {},
   "outputs": [],
   "source": []
  }
 ],
 "metadata": {
  "kernelspec": {
   "display_name": "Python 3 (ipykernel)",
   "language": "python",
   "name": "python3"
  },
  "language_info": {
   "codemirror_mode": {
    "name": "ipython",
    "version": 3
   },
   "file_extension": ".py",
   "mimetype": "text/x-python",
   "name": "python",
   "nbconvert_exporter": "python",
   "pygments_lexer": "ipython3",
   "version": "3.11.7"
  }
 },
 "nbformat": 4,
 "nbformat_minor": 5
}
