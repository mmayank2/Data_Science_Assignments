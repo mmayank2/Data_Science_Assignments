{
 "cells": [
  {
   "cell_type": "markdown",
   "id": "634e0a97-6173-4391-9e32-af3b12b0ba9d",
   "metadata": {},
   "source": [
    "# Q1. What is multithreading in python? Why is it used? Name the module used to handle threads in python."
   ]
  },
  {
   "cell_type": "markdown",
   "id": "179d05ad-2db2-450b-b5d2-469bff57cbbd",
   "metadata": {},
   "source": [
    "# Answer:-"
   ]
  },
  {
   "cell_type": "markdown",
   "id": "7200b5f2-4cc5-4896-84e5-f9719213b37d",
   "metadata": {},
   "source": [
    "Multithreading in Python is a technique that allows multiple threads to run concurrently within a single process. Each thread represents a separate path of execution within a program, which can help perform multiple tasks at the same time (concurrently).\n",
    "Multithreading is Used for :-\n",
    "1. Concurrency\n",
    "2. Responsiveness\n",
    "3. Resource Sharing\n",
    "Limitations of Multithreading in Python\n",
    "Python's Global Interpreter Lock (GIL) restricts threads from executing Python bytecodes in true parallel on multiple CPUs.\n",
    "The threading module is used to create and handle threads in Python."
   ]
  },
  {
   "cell_type": "markdown",
   "id": "902c7ad9-a330-4eac-8728-7516a013ac16",
   "metadata": {},
   "source": [
    "# Q2. Why threading module used? Write the use of the following functions:\n",
    "1. activeCount()\n",
    "2. currentThread()\n",
    "3. enumerate()"
   ]
  },
  {
   "cell_type": "markdown",
   "id": "d088ad26-80e2-475d-af7c-9b8fdae6574a",
   "metadata": {},
   "source": [
    "# Answer:-"
   ]
  },
  {
   "cell_type": "markdown",
   "id": "a9aeb276-fe8f-4da2-8c30-661728b4ff79",
   "metadata": {},
   "source": [
    "The threading module in Python is used to create and manage threads, allowing concurrent execution of tasks within the same process. \n",
    "1. activeCount():- Returns the number of currently active threads in the program.\n",
    "- This function is helpful for monitoring the number of threads running in the background. You can use it to keep track of thread usage and ensure that the program doesn’t create an excessive number of threads.\n",
    "2. currentThread():- Returns the Thread object representing the current thread of execution.\n",
    "-  This function is helpful when you need to identify or manipulate the current thread, such as printing thread-specific information or checking attributes of the running thread.\n",
    "3. enumerate():-  Returns a list of all currently active Thread objects in the program.\n",
    "-  This function is useful for getting detailed information about all active threads, which can help in debugging or managing thread activity. It can be used to track specific threads or check if certain threads are still running."
   ]
  },
  {
   "cell_type": "markdown",
   "id": "713ad8a6-2a79-4b54-8f08-d30a70857ddd",
   "metadata": {},
   "source": [
    "# Q3. Explain the following functions\n",
    "1. run()\n",
    "2. start()\n",
    "3. join()\n",
    "4. isAlive()"
   ]
  },
  {
   "cell_type": "markdown",
   "id": "8e41ac8d-807d-4af5-84a5-c6bf4ee584f5",
   "metadata": {},
   "source": [
    "# Answer:-"
   ]
  },
  {
   "cell_type": "markdown",
   "id": "5502e5c9-0028-40b5-a207-334057584568",
   "metadata": {},
   "source": [
    "- run() :-  Defines the behavior of the thread and contains the code that will execute when the thread starts.\n",
    "- start() :- Starts the thread’s activity by scheduling the run() method to be executed in a separate thread.\n",
    "- join() :- Blocks the calling thread (main thread, in most cases) until the thread on which join() is called has completed its execution.\n",
    "- isAlive() :- Checks if a thread is still executing."
   ]
  },
  {
   "cell_type": "markdown",
   "id": "78ac50e2-4af6-4a7c-a0ed-0a68756a692c",
   "metadata": {},
   "source": [
    "# Q4. Write a python program to create two threads. Thread one must print the list of squares and thread two must print the list of cubes."
   ]
  },
  {
   "cell_type": "markdown",
   "id": "307e38c7-c18e-4fef-b2ec-128849dec9cb",
   "metadata": {},
   "source": [
    "# Answer :- "
   ]
  },
  {
   "cell_type": "code",
   "execution_count": 35,
   "id": "3c6313d2-e19a-44c8-959e-08a451ff7a7a",
   "metadata": {},
   "outputs": [],
   "source": [
    "import threading\n",
    "import time"
   ]
  },
  {
   "cell_type": "code",
   "execution_count": 37,
   "id": "3ec44699-f447-4484-88a9-eed1dbd42f09",
   "metadata": {},
   "outputs": [],
   "source": [
    "def print_squares(number):\n",
    "    squares=[n**2 for n in number]\n",
    "    time.sleep(1)\n",
    "    print(\"squares : \",squares)\n",
    "\n",
    "def print_cubes(number):\n",
    "    cubes=[n**3 for n in number]\n",
    "    time.sleep(1)\n",
    "    print(\"cubes :\",cubes)"
   ]
  },
  {
   "cell_type": "code",
   "execution_count": 39,
   "id": "c03a9c33-4ce3-4eee-985f-55eab9dd9ab0",
   "metadata": {},
   "outputs": [],
   "source": [
    "number=[1,2,3,4,5]"
   ]
  },
  {
   "cell_type": "code",
   "execution_count": 41,
   "id": "f1ec1c5f-3af5-4b88-86f9-9a090316e35e",
   "metadata": {},
   "outputs": [],
   "source": [
    "thread1=threading.Thread(target=print_squares,args=(number,))"
   ]
  },
  {
   "cell_type": "code",
   "execution_count": 43,
   "id": "3dfc46c3-f015-4dd7-aef6-59622c9de076",
   "metadata": {},
   "outputs": [],
   "source": [
    "thread2=threading.Thread(target=print_cubes,args=(number,))"
   ]
  },
  {
   "cell_type": "code",
   "execution_count": 45,
   "id": "08a10936-405c-4420-8f09-47595e02b7e8",
   "metadata": {},
   "outputs": [],
   "source": [
    "thread1.start()\n",
    "thread2.start()"
   ]
  },
  {
   "cell_type": "code",
   "execution_count": 47,
   "id": "3b116693-1091-4a71-a3aa-98a921e941a7",
   "metadata": {},
   "outputs": [
    {
     "name": "stdout",
     "output_type": "stream",
     "text": [
      "Done!\n"
     ]
    }
   ],
   "source": [
    "thread1.join()\n",
    "thread2.join()\n",
    "\n",
    "print(\"Done!\")"
   ]
  },
  {
   "cell_type": "markdown",
   "id": "bee42816-71b5-4df0-a58a-1da42a3d4ba6",
   "metadata": {},
   "source": [
    "# Q5. State advantages and disadvantages of multithreading."
   ]
  },
  {
   "cell_type": "markdown",
   "id": "9a8e5063-d115-4f59-bb7b-be792c86b6a5",
   "metadata": {},
   "source": [
    "# Answer:-"
   ]
  },
  {
   "cell_type": "markdown",
   "id": "ede716c0-c37d-4534-aa52-cf7be8b2f10d",
   "metadata": {},
   "source": [
    "Advantages of Multithreading\n",
    "- Concurrency: Runs multiple tasks at once, great for I/O-bound tasks.\n",
    "- Responsiveness: Keeps applications responsive, especially in GUIs.\n",
    "- Resource Sharing: Threads share memory, making data sharing faster.\n",
    "- Lower Context Switching Cost: Faster switching compared to processes.\n",
    "- Efficient Resource Use: CPU and I/O can work together seamlessly.<h><br>\n",
    "Disadvantages of Multithreading</h>\n",
    "- Complex Debugging: Hard to design and debug due to issues like race conditions.\n",
    "- GIL Limitation: Python’s GIL restricts true parallelism for CPU-bound tasks.\n",
    "- Higher Resource Usage: Extra memory and CPU load with too many threads.\n",
    "- Synchronization Complexity: Shared resources need locks, adding complexity.\n",
    "- Deadlock and Race Conditions: Improper handling can cause unpredictable results."
   ]
  },
  {
   "cell_type": "markdown",
   "id": "30e868fc-d448-43f7-8e93-a3dc93ba00ba",
   "metadata": {},
   "source": [
    "Q6. Explain deadlocks and race conditions."
   ]
  },
  {
   "cell_type": "markdown",
   "id": "0fb9128e-bd0a-4c70-b2a1-ed8313624b66",
   "metadata": {},
   "source": [
    "# Answer:-"
   ]
  },
  {
   "cell_type": "code",
   "execution_count": null,
   "id": "8be217ba-1bf7-4568-a850-0530d6059517",
   "metadata": {},
   "outputs": [],
   "source": []
  }
 ],
 "metadata": {
  "kernelspec": {
   "display_name": "Python 3 (ipykernel)",
   "language": "python",
   "name": "python3"
  },
  "language_info": {
   "codemirror_mode": {
    "name": "ipython",
    "version": 3
   },
   "file_extension": ".py",
   "mimetype": "text/x-python",
   "name": "python",
   "nbconvert_exporter": "python",
   "pygments_lexer": "ipython3",
   "version": "3.11.7"
  }
 },
 "nbformat": 4,
 "nbformat_minor": 5
}
