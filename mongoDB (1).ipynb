{
 "cells": [
  {
   "cell_type": "markdown",
   "id": "82bdc222-60e5-4db8-b5a0-bce2ac3d19dd",
   "metadata": {},
   "source": [
    "# MongoDB "
   ]
  },
  {
   "cell_type": "code",
   "execution_count": 9,
   "id": "1b8b355c-5da4-4570-a21d-d77abf3b9b90",
   "metadata": {},
   "outputs": [
    {
     "name": "stdout",
     "output_type": "stream",
     "text": [
      "Requirement already satisfied: pymongo in c:\\users\\maury\\anaconda3\\lib\\site-packages (3.6.0)\n",
      "Collecting pymongo\n",
      "  Using cached pymongo-4.10.1-cp311-cp311-win_amd64.whl.metadata (22 kB)\n",
      "Requirement already satisfied: dnspython<3.0.0,>=1.16.0 in c:\\users\\maury\\anaconda3\\lib\\site-packages (from pymongo) (1.16.0)\n",
      "Using cached pymongo-4.10.1-cp311-cp311-win_amd64.whl (876 kB)\n",
      "Installing collected packages: pymongo\n",
      "  Attempting uninstall: pymongo\n",
      "    Found existing installation: pymongo 3.6.0\n",
      "    Uninstalling pymongo-3.6.0:\n",
      "      Successfully uninstalled pymongo-3.6.0\n",
      "Successfully installed pymongo-4.10.1\n",
      "Note: you may need to restart the kernel to use updated packages.\n"
     ]
    }
   ],
   "source": [
    "pip install --upgrade pymongo"
   ]
  },
  {
   "cell_type": "code",
   "execution_count": null,
   "id": "93e6db44-f6cf-4c18-97e5-67fea01c897b",
   "metadata": {},
   "outputs": [],
   "source": []
  },
  {
   "cell_type": "markdown",
   "id": "aa52e700-cf2b-485b-9563-3124df0d88ee",
   "metadata": {},
   "source": [
    "# Q1. What is MongoDB? Explain non-relational databases in short. In which scenarios it is preferred to use MongoDB over SQL databases?"
   ]
  },
  {
   "cell_type": "markdown",
   "id": "df3951d9-66de-4df5-b5e2-a738fd8c4b89",
   "metadata": {},
   "source": [
    "- Mongodb is a NoSQL database that stores data in a flexible, JSON-like format. Unlike traditional databases, MongoDB doesn’t use tables, rows, or fixed schemas.\n",
    "- Non-relational databases databases don’t rely on a strict structure like SQL databases. They store data as key-value pairs, documents, or graphs, making them ideal for unstructured or semi-structured data.\n",
    "- we can prefer MongoDB over SQL in this scenarios:-\n",
    " 1. When dealing with unstructured or semi-structured data.\n",
    " 2. When you need high scalability and flexibility.\n",
    " 3. For applications with rapidly changing data or schema.\n",
    " 4. For handling large volumes of real-time data.\n",
    " 5. Handling image, video and mp3 datas."
   ]
  },
  {
   "cell_type": "markdown",
   "id": "04c88de6-cf2a-4576-b97b-8c08a2d73bf7",
   "metadata": {},
   "source": [
    "# Q2. State and Explain the features of MongoDB."
   ]
  },
  {
   "cell_type": "markdown",
   "id": "a7cc34f7-fec5-40b2-b628-902c4a7549ea",
   "metadata": {},
   "source": [
    "- Data is stored as JSON-like documents.\n",
    "- No fixed schema, making it adaptable to changing data structures.\n",
    "- Provides fast query execution with support for various types of indexes.\n",
    "- Offers a powerful aggregation framework for data analysis\n",
    "- Handles location-based queries."
   ]
  },
  {
   "cell_type": "markdown",
   "id": "3c03f68c-a82a-4ec5-9654-0b6ec79685ea",
   "metadata": {},
   "source": [
    "# Q3. Write a code to connect MongoDB to Python. Also, create a database and a collection in MongoDB."
   ]
  },
  {
   "cell_type": "code",
   "execution_count": 20,
   "id": "0d11aa4d-8d05-4511-a4ba-adcb413661d5",
   "metadata": {},
   "outputs": [],
   "source": [
    "from pymongo.mongo_client import MongoClient\n",
    "uri = \"mongodb+srv://mmayank3585:<mauryamayank>@cluster0.hpn6g.mongodb.net/?retryWrites=true&w=majority&appName=Cluster0\"\n"
   ]
  },
  {
   "cell_type": "code",
   "execution_count": 22,
   "id": "42cb853b-23a8-44c6-9b65-0c523209e278",
   "metadata": {},
   "outputs": [],
   "source": [
    "# Connect to MongoDB\n",
    "client = MongoClient(uri)\n",
    "\n",
    "# Create a database\n",
    "db = client[\"mydatabase\"]\n",
    "\n",
    "# Create a collection\n",
    "col= db[\"mycollection\"]"
   ]
  },
  {
   "cell_type": "markdown",
   "id": "aa867504-25f2-4436-94fd-691eb33b686d",
   "metadata": {},
   "source": [
    "# Q4. Using the database and the collection created in question number 3, write a code to insert one record, and insert many records. Use the find() and find_one() methods to print the inserted record."
   ]
  },
  {
   "cell_type": "code",
   "execution_count": 23,
   "id": "cdeed430-554e-4a5a-87cd-0812705458a9",
   "metadata": {},
   "outputs": [
    {
     "ename": "OperationFailure",
     "evalue": "bad auth : authentication failed, full error: {'ok': 0, 'errmsg': 'bad auth : authentication failed', 'code': 8000, 'codeName': 'AtlasError'}",
     "output_type": "error",
     "traceback": [
      "\u001b[1;31m---------------------------------------------------------------------------\u001b[0m",
      "\u001b[1;31mOperationFailure\u001b[0m                          Traceback (most recent call last)",
      "Cell \u001b[1;32mIn[23], line 3\u001b[0m\n\u001b[0;32m      1\u001b[0m \u001b[38;5;66;03m# Insert one record\u001b[39;00m\n\u001b[0;32m      2\u001b[0m data\u001b[38;5;241m=\u001b[39m{\u001b[38;5;124m\"\u001b[39m\u001b[38;5;124mname\u001b[39m\u001b[38;5;124m\"\u001b[39m:\u001b[38;5;124m\"\u001b[39m\u001b[38;5;124mmayank\u001b[39m\u001b[38;5;124m\"\u001b[39m,\u001b[38;5;124m\"\u001b[39m\u001b[38;5;124mage\u001b[39m\u001b[38;5;124m\"\u001b[39m:\u001b[38;5;241m25\u001b[39m,\u001b[38;5;124m\"\u001b[39m\u001b[38;5;124mstate\u001b[39m\u001b[38;5;124m\"\u001b[39m:\u001b[38;5;124m\"\u001b[39m\u001b[38;5;124mJharkhand\u001b[39m\u001b[38;5;124m\"\u001b[39m}\n\u001b[1;32m----> 3\u001b[0m col\u001b[38;5;241m.\u001b[39minsert_one(data)\n",
      "File \u001b[1;32m~\\anaconda3\\Lib\\site-packages\\pymongo\\synchronous\\collection.py:891\u001b[0m, in \u001b[0;36mCollection.insert_one\u001b[1;34m(self, document, bypass_document_validation, session, comment)\u001b[0m\n\u001b[0;32m    887\u001b[0m     document[\u001b[38;5;124m\"\u001b[39m\u001b[38;5;124m_id\u001b[39m\u001b[38;5;124m\"\u001b[39m] \u001b[38;5;241m=\u001b[39m ObjectId()  \u001b[38;5;66;03m# type: ignore[index]\u001b[39;00m\n\u001b[0;32m    889\u001b[0m write_concern \u001b[38;5;241m=\u001b[39m \u001b[38;5;28mself\u001b[39m\u001b[38;5;241m.\u001b[39m_write_concern_for(session)\n\u001b[0;32m    890\u001b[0m \u001b[38;5;28;01mreturn\u001b[39;00m InsertOneResult(\n\u001b[1;32m--> 891\u001b[0m     \u001b[38;5;28mself\u001b[39m\u001b[38;5;241m.\u001b[39m_insert_one(\n\u001b[0;32m    892\u001b[0m         document,\n\u001b[0;32m    893\u001b[0m         ordered\u001b[38;5;241m=\u001b[39m\u001b[38;5;28;01mTrue\u001b[39;00m,\n\u001b[0;32m    894\u001b[0m         write_concern\u001b[38;5;241m=\u001b[39mwrite_concern,\n\u001b[0;32m    895\u001b[0m         op_id\u001b[38;5;241m=\u001b[39m\u001b[38;5;28;01mNone\u001b[39;00m,\n\u001b[0;32m    896\u001b[0m         bypass_doc_val\u001b[38;5;241m=\u001b[39mbypass_document_validation,\n\u001b[0;32m    897\u001b[0m         session\u001b[38;5;241m=\u001b[39msession,\n\u001b[0;32m    898\u001b[0m         comment\u001b[38;5;241m=\u001b[39mcomment,\n\u001b[0;32m    899\u001b[0m     ),\n\u001b[0;32m    900\u001b[0m     write_concern\u001b[38;5;241m.\u001b[39macknowledged,\n\u001b[0;32m    901\u001b[0m )\n",
      "File \u001b[1;32m~\\anaconda3\\Lib\\site-packages\\pymongo\\synchronous\\collection.py:831\u001b[0m, in \u001b[0;36mCollection._insert_one\u001b[1;34m(self, doc, ordered, write_concern, op_id, bypass_doc_val, session, comment)\u001b[0m\n\u001b[0;32m    819\u001b[0m     result \u001b[38;5;241m=\u001b[39m conn\u001b[38;5;241m.\u001b[39mcommand(\n\u001b[0;32m    820\u001b[0m         \u001b[38;5;28mself\u001b[39m\u001b[38;5;241m.\u001b[39m_database\u001b[38;5;241m.\u001b[39mname,\n\u001b[0;32m    821\u001b[0m         command,\n\u001b[1;32m   (...)\u001b[0m\n\u001b[0;32m    826\u001b[0m         retryable_write\u001b[38;5;241m=\u001b[39mretryable_write,\n\u001b[0;32m    827\u001b[0m     )\n\u001b[0;32m    829\u001b[0m     _check_write_command_response(result)\n\u001b[1;32m--> 831\u001b[0m \u001b[38;5;28mself\u001b[39m\u001b[38;5;241m.\u001b[39m_database\u001b[38;5;241m.\u001b[39mclient\u001b[38;5;241m.\u001b[39m_retryable_write(\n\u001b[0;32m    832\u001b[0m     acknowledged, _insert_command, session, operation\u001b[38;5;241m=\u001b[39m_Op\u001b[38;5;241m.\u001b[39mINSERT\n\u001b[0;32m    833\u001b[0m )\n\u001b[0;32m    835\u001b[0m \u001b[38;5;28;01mif\u001b[39;00m \u001b[38;5;129;01mnot\u001b[39;00m \u001b[38;5;28misinstance\u001b[39m(doc, RawBSONDocument):\n\u001b[0;32m    836\u001b[0m     \u001b[38;5;28;01mreturn\u001b[39;00m doc\u001b[38;5;241m.\u001b[39mget(\u001b[38;5;124m\"\u001b[39m\u001b[38;5;124m_id\u001b[39m\u001b[38;5;124m\"\u001b[39m)\n",
      "File \u001b[1;32m~\\anaconda3\\Lib\\site-packages\\pymongo\\synchronous\\mongo_client.py:1898\u001b[0m, in \u001b[0;36mMongoClient._retryable_write\u001b[1;34m(self, retryable, func, session, operation, bulk, operation_id)\u001b[0m\n\u001b[0;32m   1884\u001b[0m \u001b[38;5;250m\u001b[39m\u001b[38;5;124;03m\"\"\"Execute an operation with consecutive retries if possible\u001b[39;00m\n\u001b[0;32m   1885\u001b[0m \n\u001b[0;32m   1886\u001b[0m \u001b[38;5;124;03mReturns func()'s return value on success. On error retries the same\u001b[39;00m\n\u001b[1;32m   (...)\u001b[0m\n\u001b[0;32m   1895\u001b[0m \u001b[38;5;124;03m:param bulk: bulk abstraction to execute operations in bulk, defaults to None\u001b[39;00m\n\u001b[0;32m   1896\u001b[0m \u001b[38;5;124;03m\"\"\"\u001b[39;00m\n\u001b[0;32m   1897\u001b[0m \u001b[38;5;28;01mwith\u001b[39;00m \u001b[38;5;28mself\u001b[39m\u001b[38;5;241m.\u001b[39m_tmp_session(session) \u001b[38;5;28;01mas\u001b[39;00m s:\n\u001b[1;32m-> 1898\u001b[0m     \u001b[38;5;28;01mreturn\u001b[39;00m \u001b[38;5;28mself\u001b[39m\u001b[38;5;241m.\u001b[39m_retry_with_session(retryable, func, s, bulk, operation, operation_id)\n",
      "File \u001b[1;32m~\\anaconda3\\Lib\\site-packages\\pymongo\\synchronous\\mongo_client.py:1784\u001b[0m, in \u001b[0;36mMongoClient._retry_with_session\u001b[1;34m(self, retryable, func, session, bulk, operation, operation_id)\u001b[0m\n\u001b[0;32m   1779\u001b[0m \u001b[38;5;66;03m# Ensure that the options supports retry_writes and there is a valid session not in\u001b[39;00m\n\u001b[0;32m   1780\u001b[0m \u001b[38;5;66;03m# transaction, otherwise, we will not support retry behavior for this txn.\u001b[39;00m\n\u001b[0;32m   1781\u001b[0m retryable \u001b[38;5;241m=\u001b[39m \u001b[38;5;28mbool\u001b[39m(\n\u001b[0;32m   1782\u001b[0m     retryable \u001b[38;5;129;01mand\u001b[39;00m \u001b[38;5;28mself\u001b[39m\u001b[38;5;241m.\u001b[39moptions\u001b[38;5;241m.\u001b[39mretry_writes \u001b[38;5;129;01mand\u001b[39;00m session \u001b[38;5;129;01mand\u001b[39;00m \u001b[38;5;129;01mnot\u001b[39;00m session\u001b[38;5;241m.\u001b[39min_transaction\n\u001b[0;32m   1783\u001b[0m )\n\u001b[1;32m-> 1784\u001b[0m \u001b[38;5;28;01mreturn\u001b[39;00m \u001b[38;5;28mself\u001b[39m\u001b[38;5;241m.\u001b[39m_retry_internal(\n\u001b[0;32m   1785\u001b[0m     func\u001b[38;5;241m=\u001b[39mfunc,\n\u001b[0;32m   1786\u001b[0m     session\u001b[38;5;241m=\u001b[39msession,\n\u001b[0;32m   1787\u001b[0m     bulk\u001b[38;5;241m=\u001b[39mbulk,\n\u001b[0;32m   1788\u001b[0m     operation\u001b[38;5;241m=\u001b[39moperation,\n\u001b[0;32m   1789\u001b[0m     retryable\u001b[38;5;241m=\u001b[39mretryable,\n\u001b[0;32m   1790\u001b[0m     operation_id\u001b[38;5;241m=\u001b[39moperation_id,\n\u001b[0;32m   1791\u001b[0m )\n",
      "File \u001b[1;32m~\\anaconda3\\Lib\\site-packages\\pymongo\\_csot.py:119\u001b[0m, in \u001b[0;36mapply.<locals>.csot_wrapper\u001b[1;34m(self, *args, **kwargs)\u001b[0m\n\u001b[0;32m    117\u001b[0m         \u001b[38;5;28;01mwith\u001b[39;00m _TimeoutContext(timeout):\n\u001b[0;32m    118\u001b[0m             \u001b[38;5;28;01mreturn\u001b[39;00m func(\u001b[38;5;28mself\u001b[39m, \u001b[38;5;241m*\u001b[39margs, \u001b[38;5;241m*\u001b[39m\u001b[38;5;241m*\u001b[39mkwargs)\n\u001b[1;32m--> 119\u001b[0m \u001b[38;5;28;01mreturn\u001b[39;00m func(\u001b[38;5;28mself\u001b[39m, \u001b[38;5;241m*\u001b[39margs, \u001b[38;5;241m*\u001b[39m\u001b[38;5;241m*\u001b[39mkwargs)\n",
      "File \u001b[1;32m~\\anaconda3\\Lib\\site-packages\\pymongo\\synchronous\\mongo_client.py:1830\u001b[0m, in \u001b[0;36mMongoClient._retry_internal\u001b[1;34m(self, func, session, bulk, operation, is_read, address, read_pref, retryable, operation_id)\u001b[0m\n\u001b[0;32m   1793\u001b[0m \u001b[38;5;129m@_csot\u001b[39m\u001b[38;5;241m.\u001b[39mapply\n\u001b[0;32m   1794\u001b[0m \u001b[38;5;28;01mdef\u001b[39;00m \u001b[38;5;21m_retry_internal\u001b[39m(\n\u001b[0;32m   1795\u001b[0m     \u001b[38;5;28mself\u001b[39m,\n\u001b[1;32m   (...)\u001b[0m\n\u001b[0;32m   1804\u001b[0m     operation_id: Optional[\u001b[38;5;28mint\u001b[39m] \u001b[38;5;241m=\u001b[39m \u001b[38;5;28;01mNone\u001b[39;00m,\n\u001b[0;32m   1805\u001b[0m ) \u001b[38;5;241m-\u001b[39m\u001b[38;5;241m>\u001b[39m T:\n\u001b[0;32m   1806\u001b[0m \u001b[38;5;250m    \u001b[39m\u001b[38;5;124;03m\"\"\"Internal retryable helper for all client transactions.\u001b[39;00m\n\u001b[0;32m   1807\u001b[0m \n\u001b[0;32m   1808\u001b[0m \u001b[38;5;124;03m    :param func: Callback function we want to retry\u001b[39;00m\n\u001b[1;32m   (...)\u001b[0m\n\u001b[0;32m   1817\u001b[0m \u001b[38;5;124;03m    :return: Output of the calling func()\u001b[39;00m\n\u001b[0;32m   1818\u001b[0m \u001b[38;5;124;03m    \"\"\"\u001b[39;00m\n\u001b[0;32m   1819\u001b[0m     \u001b[38;5;28;01mreturn\u001b[39;00m _ClientConnectionRetryable(\n\u001b[0;32m   1820\u001b[0m         mongo_client\u001b[38;5;241m=\u001b[39m\u001b[38;5;28mself\u001b[39m,\n\u001b[0;32m   1821\u001b[0m         func\u001b[38;5;241m=\u001b[39mfunc,\n\u001b[0;32m   1822\u001b[0m         bulk\u001b[38;5;241m=\u001b[39mbulk,\n\u001b[0;32m   1823\u001b[0m         operation\u001b[38;5;241m=\u001b[39moperation,\n\u001b[0;32m   1824\u001b[0m         is_read\u001b[38;5;241m=\u001b[39mis_read,\n\u001b[0;32m   1825\u001b[0m         session\u001b[38;5;241m=\u001b[39msession,\n\u001b[0;32m   1826\u001b[0m         read_pref\u001b[38;5;241m=\u001b[39mread_pref,\n\u001b[0;32m   1827\u001b[0m         address\u001b[38;5;241m=\u001b[39maddress,\n\u001b[0;32m   1828\u001b[0m         retryable\u001b[38;5;241m=\u001b[39mretryable,\n\u001b[0;32m   1829\u001b[0m         operation_id\u001b[38;5;241m=\u001b[39moperation_id,\n\u001b[1;32m-> 1830\u001b[0m     )\u001b[38;5;241m.\u001b[39mrun()\n",
      "File \u001b[1;32m~\\anaconda3\\Lib\\site-packages\\pymongo\\synchronous\\mongo_client.py:2554\u001b[0m, in \u001b[0;36m_ClientConnectionRetryable.run\u001b[1;34m(self)\u001b[0m\n\u001b[0;32m   2552\u001b[0m \u001b[38;5;28mself\u001b[39m\u001b[38;5;241m.\u001b[39m_check_last_error(check_csot\u001b[38;5;241m=\u001b[39m\u001b[38;5;28;01mTrue\u001b[39;00m)\n\u001b[0;32m   2553\u001b[0m \u001b[38;5;28;01mtry\u001b[39;00m:\n\u001b[1;32m-> 2554\u001b[0m     \u001b[38;5;28;01mreturn\u001b[39;00m \u001b[38;5;28mself\u001b[39m\u001b[38;5;241m.\u001b[39m_read() \u001b[38;5;28;01mif\u001b[39;00m \u001b[38;5;28mself\u001b[39m\u001b[38;5;241m.\u001b[39m_is_read \u001b[38;5;28;01melse\u001b[39;00m \u001b[38;5;28mself\u001b[39m\u001b[38;5;241m.\u001b[39m_write()\n\u001b[0;32m   2555\u001b[0m \u001b[38;5;28;01mexcept\u001b[39;00m ServerSelectionTimeoutError:\n\u001b[0;32m   2556\u001b[0m     \u001b[38;5;66;03m# The application may think the write was never attempted\u001b[39;00m\n\u001b[0;32m   2557\u001b[0m     \u001b[38;5;66;03m# if we raise ServerSelectionTimeoutError on the retry\u001b[39;00m\n\u001b[0;32m   2558\u001b[0m     \u001b[38;5;66;03m# attempt. Raise the original exception instead.\u001b[39;00m\n\u001b[0;32m   2559\u001b[0m     \u001b[38;5;28mself\u001b[39m\u001b[38;5;241m.\u001b[39m_check_last_error()\n",
      "File \u001b[1;32m~\\anaconda3\\Lib\\site-packages\\pymongo\\synchronous\\mongo_client.py:2663\u001b[0m, in \u001b[0;36m_ClientConnectionRetryable._write\u001b[1;34m(self)\u001b[0m\n\u001b[0;32m   2661\u001b[0m is_mongos \u001b[38;5;241m=\u001b[39m \u001b[38;5;28;01mFalse\u001b[39;00m\n\u001b[0;32m   2662\u001b[0m \u001b[38;5;28mself\u001b[39m\u001b[38;5;241m.\u001b[39m_server \u001b[38;5;241m=\u001b[39m \u001b[38;5;28mself\u001b[39m\u001b[38;5;241m.\u001b[39m_get_server()\n\u001b[1;32m-> 2663\u001b[0m \u001b[38;5;28;01mwith\u001b[39;00m \u001b[38;5;28mself\u001b[39m\u001b[38;5;241m.\u001b[39m_client\u001b[38;5;241m.\u001b[39m_checkout(\u001b[38;5;28mself\u001b[39m\u001b[38;5;241m.\u001b[39m_server, \u001b[38;5;28mself\u001b[39m\u001b[38;5;241m.\u001b[39m_session) \u001b[38;5;28;01mas\u001b[39;00m conn:\n\u001b[0;32m   2664\u001b[0m     max_wire_version \u001b[38;5;241m=\u001b[39m conn\u001b[38;5;241m.\u001b[39mmax_wire_version\n\u001b[0;32m   2665\u001b[0m     sessions_supported \u001b[38;5;241m=\u001b[39m (\n\u001b[0;32m   2666\u001b[0m         \u001b[38;5;28mself\u001b[39m\u001b[38;5;241m.\u001b[39m_session\n\u001b[0;32m   2667\u001b[0m         \u001b[38;5;129;01mand\u001b[39;00m \u001b[38;5;28mself\u001b[39m\u001b[38;5;241m.\u001b[39m_server\u001b[38;5;241m.\u001b[39mdescription\u001b[38;5;241m.\u001b[39mretryable_writes_supported\n\u001b[0;32m   2668\u001b[0m         \u001b[38;5;129;01mand\u001b[39;00m conn\u001b[38;5;241m.\u001b[39msupports_sessions\n\u001b[0;32m   2669\u001b[0m     )\n",
      "File \u001b[1;32m~\\anaconda3\\Lib\\contextlib.py:137\u001b[0m, in \u001b[0;36m_GeneratorContextManager.__enter__\u001b[1;34m(self)\u001b[0m\n\u001b[0;32m    135\u001b[0m \u001b[38;5;28;01mdel\u001b[39;00m \u001b[38;5;28mself\u001b[39m\u001b[38;5;241m.\u001b[39margs, \u001b[38;5;28mself\u001b[39m\u001b[38;5;241m.\u001b[39mkwds, \u001b[38;5;28mself\u001b[39m\u001b[38;5;241m.\u001b[39mfunc\n\u001b[0;32m    136\u001b[0m \u001b[38;5;28;01mtry\u001b[39;00m:\n\u001b[1;32m--> 137\u001b[0m     \u001b[38;5;28;01mreturn\u001b[39;00m \u001b[38;5;28mnext\u001b[39m(\u001b[38;5;28mself\u001b[39m\u001b[38;5;241m.\u001b[39mgen)\n\u001b[0;32m    138\u001b[0m \u001b[38;5;28;01mexcept\u001b[39;00m \u001b[38;5;167;01mStopIteration\u001b[39;00m:\n\u001b[0;32m    139\u001b[0m     \u001b[38;5;28;01mraise\u001b[39;00m \u001b[38;5;167;01mRuntimeError\u001b[39;00m(\u001b[38;5;124m\"\u001b[39m\u001b[38;5;124mgenerator didn\u001b[39m\u001b[38;5;124m'\u001b[39m\u001b[38;5;124mt yield\u001b[39m\u001b[38;5;124m\"\u001b[39m) \u001b[38;5;28;01mfrom\u001b[39;00m \u001b[38;5;28;01mNone\u001b[39;00m\n",
      "File \u001b[1;32m~\\anaconda3\\Lib\\site-packages\\pymongo\\synchronous\\mongo_client.py:1593\u001b[0m, in \u001b[0;36mMongoClient._checkout\u001b[1;34m(self, server, session)\u001b[0m\n\u001b[0;32m   1591\u001b[0m     \u001b[38;5;28;01myield\u001b[39;00m session\u001b[38;5;241m.\u001b[39m_pinned_connection\n\u001b[0;32m   1592\u001b[0m     \u001b[38;5;28;01mreturn\u001b[39;00m\n\u001b[1;32m-> 1593\u001b[0m \u001b[38;5;28;01mwith\u001b[39;00m server\u001b[38;5;241m.\u001b[39mcheckout(handler\u001b[38;5;241m=\u001b[39merr_handler) \u001b[38;5;28;01mas\u001b[39;00m conn:\n\u001b[0;32m   1594\u001b[0m     \u001b[38;5;66;03m# Pin this session to the selected server or connection.\u001b[39;00m\n\u001b[0;32m   1595\u001b[0m     \u001b[38;5;28;01mif\u001b[39;00m (\n\u001b[0;32m   1596\u001b[0m         in_txn\n\u001b[0;32m   1597\u001b[0m         \u001b[38;5;129;01mand\u001b[39;00m session\n\u001b[1;32m   (...)\u001b[0m\n\u001b[0;32m   1602\u001b[0m         )\n\u001b[0;32m   1603\u001b[0m     ):\n\u001b[0;32m   1604\u001b[0m         session\u001b[38;5;241m.\u001b[39m_pin(server, conn)\n",
      "File \u001b[1;32m~\\anaconda3\\Lib\\contextlib.py:137\u001b[0m, in \u001b[0;36m_GeneratorContextManager.__enter__\u001b[1;34m(self)\u001b[0m\n\u001b[0;32m    135\u001b[0m \u001b[38;5;28;01mdel\u001b[39;00m \u001b[38;5;28mself\u001b[39m\u001b[38;5;241m.\u001b[39margs, \u001b[38;5;28mself\u001b[39m\u001b[38;5;241m.\u001b[39mkwds, \u001b[38;5;28mself\u001b[39m\u001b[38;5;241m.\u001b[39mfunc\n\u001b[0;32m    136\u001b[0m \u001b[38;5;28;01mtry\u001b[39;00m:\n\u001b[1;32m--> 137\u001b[0m     \u001b[38;5;28;01mreturn\u001b[39;00m \u001b[38;5;28mnext\u001b[39m(\u001b[38;5;28mself\u001b[39m\u001b[38;5;241m.\u001b[39mgen)\n\u001b[0;32m    138\u001b[0m \u001b[38;5;28;01mexcept\u001b[39;00m \u001b[38;5;167;01mStopIteration\u001b[39;00m:\n\u001b[0;32m    139\u001b[0m     \u001b[38;5;28;01mraise\u001b[39;00m \u001b[38;5;167;01mRuntimeError\u001b[39;00m(\u001b[38;5;124m\"\u001b[39m\u001b[38;5;124mgenerator didn\u001b[39m\u001b[38;5;124m'\u001b[39m\u001b[38;5;124mt yield\u001b[39m\u001b[38;5;124m\"\u001b[39m) \u001b[38;5;28;01mfrom\u001b[39;00m \u001b[38;5;28;01mNone\u001b[39;00m\n",
      "File \u001b[1;32m~\\anaconda3\\Lib\\site-packages\\pymongo\\synchronous\\pool.py:1336\u001b[0m, in \u001b[0;36mPool.checkout\u001b[1;34m(self, handler)\u001b[0m\n\u001b[0;32m   1327\u001b[0m \u001b[38;5;28;01mif\u001b[39;00m \u001b[38;5;28mself\u001b[39m\u001b[38;5;241m.\u001b[39menabled_for_logging \u001b[38;5;129;01mand\u001b[39;00m _CONNECTION_LOGGER\u001b[38;5;241m.\u001b[39misEnabledFor(logging\u001b[38;5;241m.\u001b[39mDEBUG):\n\u001b[0;32m   1328\u001b[0m     _debug_log(\n\u001b[0;32m   1329\u001b[0m         _CONNECTION_LOGGER,\n\u001b[0;32m   1330\u001b[0m         clientId\u001b[38;5;241m=\u001b[39m\u001b[38;5;28mself\u001b[39m\u001b[38;5;241m.\u001b[39m_client_id,\n\u001b[1;32m   (...)\u001b[0m\n\u001b[0;32m   1333\u001b[0m         serverPort\u001b[38;5;241m=\u001b[39m\u001b[38;5;28mself\u001b[39m\u001b[38;5;241m.\u001b[39maddress[\u001b[38;5;241m1\u001b[39m],\n\u001b[0;32m   1334\u001b[0m     )\n\u001b[1;32m-> 1336\u001b[0m conn \u001b[38;5;241m=\u001b[39m \u001b[38;5;28mself\u001b[39m\u001b[38;5;241m.\u001b[39m_get_conn(checkout_started_time, handler\u001b[38;5;241m=\u001b[39mhandler)\n\u001b[0;32m   1338\u001b[0m duration \u001b[38;5;241m=\u001b[39m time\u001b[38;5;241m.\u001b[39mmonotonic() \u001b[38;5;241m-\u001b[39m checkout_started_time\n\u001b[0;32m   1339\u001b[0m \u001b[38;5;28;01mif\u001b[39;00m \u001b[38;5;28mself\u001b[39m\u001b[38;5;241m.\u001b[39menabled_for_cmap:\n",
      "File \u001b[1;32m~\\anaconda3\\Lib\\site-packages\\pymongo\\synchronous\\pool.py:1495\u001b[0m, in \u001b[0;36mPool._get_conn\u001b[1;34m(self, checkout_started_time, handler)\u001b[0m\n\u001b[0;32m   1493\u001b[0m \u001b[38;5;28;01melse\u001b[39;00m:  \u001b[38;5;66;03m# We need to create a new connection\u001b[39;00m\n\u001b[0;32m   1494\u001b[0m     \u001b[38;5;28;01mtry\u001b[39;00m:\n\u001b[1;32m-> 1495\u001b[0m         conn \u001b[38;5;241m=\u001b[39m \u001b[38;5;28mself\u001b[39m\u001b[38;5;241m.\u001b[39mconnect(handler\u001b[38;5;241m=\u001b[39mhandler)\n\u001b[0;32m   1496\u001b[0m     \u001b[38;5;28;01mfinally\u001b[39;00m:\n\u001b[0;32m   1497\u001b[0m         \u001b[38;5;28;01mwith\u001b[39;00m \u001b[38;5;28mself\u001b[39m\u001b[38;5;241m.\u001b[39m_max_connecting_cond:\n",
      "File \u001b[1;32m~\\anaconda3\\Lib\\site-packages\\pymongo\\synchronous\\pool.py:1296\u001b[0m, in \u001b[0;36mPool.connect\u001b[1;34m(self, handler)\u001b[0m\n\u001b[0;32m   1293\u001b[0m     \u001b[38;5;28;01mif\u001b[39;00m handler:\n\u001b[0;32m   1294\u001b[0m         handler\u001b[38;5;241m.\u001b[39mcontribute_socket(conn, completed_handshake\u001b[38;5;241m=\u001b[39m\u001b[38;5;28;01mFalse\u001b[39;00m)\n\u001b[1;32m-> 1296\u001b[0m     conn\u001b[38;5;241m.\u001b[39mauthenticate()\n\u001b[0;32m   1297\u001b[0m \u001b[38;5;28;01mexcept\u001b[39;00m \u001b[38;5;167;01mBaseException\u001b[39;00m:\n\u001b[0;32m   1298\u001b[0m     conn\u001b[38;5;241m.\u001b[39mclose_conn(ConnectionClosedReason\u001b[38;5;241m.\u001b[39mERROR)\n",
      "File \u001b[1;32m~\\anaconda3\\Lib\\site-packages\\pymongo\\synchronous\\pool.py:648\u001b[0m, in \u001b[0;36mConnection.authenticate\u001b[1;34m(self, reauthenticate)\u001b[0m\n\u001b[0;32m    645\u001b[0m \u001b[38;5;28;01mif\u001b[39;00m creds:\n\u001b[0;32m    646\u001b[0m     \u001b[38;5;28;01mfrom\u001b[39;00m \u001b[38;5;21;01mpymongo\u001b[39;00m\u001b[38;5;21;01m.\u001b[39;00m\u001b[38;5;21;01msynchronous\u001b[39;00m \u001b[38;5;28;01mimport\u001b[39;00m auth\n\u001b[1;32m--> 648\u001b[0m     auth\u001b[38;5;241m.\u001b[39mauthenticate(creds, \u001b[38;5;28mself\u001b[39m, reauthenticate\u001b[38;5;241m=\u001b[39mreauthenticate)\n\u001b[0;32m    649\u001b[0m \u001b[38;5;28mself\u001b[39m\u001b[38;5;241m.\u001b[39mready \u001b[38;5;241m=\u001b[39m \u001b[38;5;28;01mTrue\u001b[39;00m\n\u001b[0;32m    650\u001b[0m duration \u001b[38;5;241m=\u001b[39m time\u001b[38;5;241m.\u001b[39mmonotonic() \u001b[38;5;241m-\u001b[39m \u001b[38;5;28mself\u001b[39m\u001b[38;5;241m.\u001b[39mcreation_time\n",
      "File \u001b[1;32m~\\anaconda3\\Lib\\site-packages\\pymongo\\synchronous\\auth.py:452\u001b[0m, in \u001b[0;36mauthenticate\u001b[1;34m(credentials, conn, reauthenticate)\u001b[0m\n\u001b[0;32m    450\u001b[0m     _authenticate_oidc(credentials, conn, reauthenticate)\n\u001b[0;32m    451\u001b[0m \u001b[38;5;28;01melse\u001b[39;00m:\n\u001b[1;32m--> 452\u001b[0m     auth_func(credentials, conn)\n",
      "File \u001b[1;32m~\\anaconda3\\Lib\\site-packages\\pymongo\\synchronous\\auth.py:356\u001b[0m, in \u001b[0;36m_authenticate_default\u001b[1;34m(credentials, conn)\u001b[0m\n\u001b[0;32m    354\u001b[0m         \u001b[38;5;28;01mreturn\u001b[39;00m _authenticate_scram(credentials, conn, \u001b[38;5;124m\"\u001b[39m\u001b[38;5;124mSCRAM-SHA-256\u001b[39m\u001b[38;5;124m\"\u001b[39m)\n\u001b[0;32m    355\u001b[0m     \u001b[38;5;28;01melse\u001b[39;00m:\n\u001b[1;32m--> 356\u001b[0m         \u001b[38;5;28;01mreturn\u001b[39;00m _authenticate_scram(credentials, conn, \u001b[38;5;124m\"\u001b[39m\u001b[38;5;124mSCRAM-SHA-1\u001b[39m\u001b[38;5;124m\"\u001b[39m)\n\u001b[0;32m    357\u001b[0m \u001b[38;5;28;01melse\u001b[39;00m:\n\u001b[0;32m    358\u001b[0m     \u001b[38;5;28;01mreturn\u001b[39;00m _authenticate_scram(credentials, conn, \u001b[38;5;124m\"\u001b[39m\u001b[38;5;124mSCRAM-SHA-1\u001b[39m\u001b[38;5;124m\"\u001b[39m)\n",
      "File \u001b[1;32m~\\anaconda3\\Lib\\site-packages\\pymongo\\synchronous\\auth.py:134\u001b[0m, in \u001b[0;36m_authenticate_scram\u001b[1;34m(credentials, conn, mechanism)\u001b[0m\n\u001b[0;32m    127\u001b[0m server_sig \u001b[38;5;241m=\u001b[39m standard_b64encode(_hmac(server_key, auth_msg, digestmod)\u001b[38;5;241m.\u001b[39mdigest())\n\u001b[0;32m    129\u001b[0m cmd \u001b[38;5;241m=\u001b[39m {\n\u001b[0;32m    130\u001b[0m     \u001b[38;5;124m\"\u001b[39m\u001b[38;5;124msaslContinue\u001b[39m\u001b[38;5;124m\"\u001b[39m: \u001b[38;5;241m1\u001b[39m,\n\u001b[0;32m    131\u001b[0m     \u001b[38;5;124m\"\u001b[39m\u001b[38;5;124mconversationId\u001b[39m\u001b[38;5;124m\"\u001b[39m: res[\u001b[38;5;124m\"\u001b[39m\u001b[38;5;124mconversationId\u001b[39m\u001b[38;5;124m\"\u001b[39m],\n\u001b[0;32m    132\u001b[0m     \u001b[38;5;124m\"\u001b[39m\u001b[38;5;124mpayload\u001b[39m\u001b[38;5;124m\"\u001b[39m: Binary(client_final),\n\u001b[0;32m    133\u001b[0m }\n\u001b[1;32m--> 134\u001b[0m res \u001b[38;5;241m=\u001b[39m conn\u001b[38;5;241m.\u001b[39mcommand(source, cmd)\n\u001b[0;32m    136\u001b[0m parsed \u001b[38;5;241m=\u001b[39m _parse_scram_response(res[\u001b[38;5;124m\"\u001b[39m\u001b[38;5;124mpayload\u001b[39m\u001b[38;5;124m\"\u001b[39m])\n\u001b[0;32m    137\u001b[0m \u001b[38;5;28;01mif\u001b[39;00m \u001b[38;5;129;01mnot\u001b[39;00m hmac\u001b[38;5;241m.\u001b[39mcompare_digest(parsed[\u001b[38;5;124mb\u001b[39m\u001b[38;5;124m\"\u001b[39m\u001b[38;5;124mv\u001b[39m\u001b[38;5;124m\"\u001b[39m], server_sig):\n",
      "File \u001b[1;32m~\\anaconda3\\Lib\\site-packages\\pymongo\\synchronous\\helpers.py:45\u001b[0m, in \u001b[0;36m_handle_reauth.<locals>.inner\u001b[1;34m(*args, **kwargs)\u001b[0m\n\u001b[0;32m     42\u001b[0m \u001b[38;5;28;01mfrom\u001b[39;00m \u001b[38;5;21;01mpymongo\u001b[39;00m\u001b[38;5;21;01m.\u001b[39;00m\u001b[38;5;21;01msynchronous\u001b[39;00m\u001b[38;5;21;01m.\u001b[39;00m\u001b[38;5;21;01mpool\u001b[39;00m \u001b[38;5;28;01mimport\u001b[39;00m Connection\n\u001b[0;32m     44\u001b[0m \u001b[38;5;28;01mtry\u001b[39;00m:\n\u001b[1;32m---> 45\u001b[0m     \u001b[38;5;28;01mreturn\u001b[39;00m func(\u001b[38;5;241m*\u001b[39margs, \u001b[38;5;241m*\u001b[39m\u001b[38;5;241m*\u001b[39mkwargs)\n\u001b[0;32m     46\u001b[0m \u001b[38;5;28;01mexcept\u001b[39;00m OperationFailure \u001b[38;5;28;01mas\u001b[39;00m exc:\n\u001b[0;32m     47\u001b[0m     \u001b[38;5;28;01mif\u001b[39;00m no_reauth:\n",
      "File \u001b[1;32m~\\anaconda3\\Lib\\site-packages\\pymongo\\synchronous\\pool.py:538\u001b[0m, in \u001b[0;36mConnection.command\u001b[1;34m(self, dbname, spec, read_preference, codec_options, check, allowable_errors, read_concern, write_concern, parse_write_concern_error, collation, session, client, retryable_write, publish_events, user_fields, exhaust_allowed)\u001b[0m\n\u001b[0;32m    536\u001b[0m     \u001b[38;5;28mself\u001b[39m\u001b[38;5;241m.\u001b[39m_raise_if_not_writable(unacknowledged)\n\u001b[0;32m    537\u001b[0m \u001b[38;5;28;01mtry\u001b[39;00m:\n\u001b[1;32m--> 538\u001b[0m     \u001b[38;5;28;01mreturn\u001b[39;00m command(\n\u001b[0;32m    539\u001b[0m         \u001b[38;5;28mself\u001b[39m,\n\u001b[0;32m    540\u001b[0m         dbname,\n\u001b[0;32m    541\u001b[0m         spec,\n\u001b[0;32m    542\u001b[0m         \u001b[38;5;28mself\u001b[39m\u001b[38;5;241m.\u001b[39mis_mongos,\n\u001b[0;32m    543\u001b[0m         read_preference,\n\u001b[0;32m    544\u001b[0m         codec_options,\n\u001b[0;32m    545\u001b[0m         session,\n\u001b[0;32m    546\u001b[0m         client,\n\u001b[0;32m    547\u001b[0m         check,\n\u001b[0;32m    548\u001b[0m         allowable_errors,\n\u001b[0;32m    549\u001b[0m         \u001b[38;5;28mself\u001b[39m\u001b[38;5;241m.\u001b[39maddress,\n\u001b[0;32m    550\u001b[0m         listeners,\n\u001b[0;32m    551\u001b[0m         \u001b[38;5;28mself\u001b[39m\u001b[38;5;241m.\u001b[39mmax_bson_size,\n\u001b[0;32m    552\u001b[0m         read_concern,\n\u001b[0;32m    553\u001b[0m         parse_write_concern_error\u001b[38;5;241m=\u001b[39mparse_write_concern_error,\n\u001b[0;32m    554\u001b[0m         collation\u001b[38;5;241m=\u001b[39mcollation,\n\u001b[0;32m    555\u001b[0m         compression_ctx\u001b[38;5;241m=\u001b[39m\u001b[38;5;28mself\u001b[39m\u001b[38;5;241m.\u001b[39mcompression_context,\n\u001b[0;32m    556\u001b[0m         use_op_msg\u001b[38;5;241m=\u001b[39m\u001b[38;5;28mself\u001b[39m\u001b[38;5;241m.\u001b[39mop_msg_enabled,\n\u001b[0;32m    557\u001b[0m         unacknowledged\u001b[38;5;241m=\u001b[39munacknowledged,\n\u001b[0;32m    558\u001b[0m         user_fields\u001b[38;5;241m=\u001b[39muser_fields,\n\u001b[0;32m    559\u001b[0m         exhaust_allowed\u001b[38;5;241m=\u001b[39mexhaust_allowed,\n\u001b[0;32m    560\u001b[0m         write_concern\u001b[38;5;241m=\u001b[39mwrite_concern,\n\u001b[0;32m    561\u001b[0m     )\n\u001b[0;32m    562\u001b[0m \u001b[38;5;28;01mexcept\u001b[39;00m (OperationFailure, NotPrimaryError):\n\u001b[0;32m    563\u001b[0m     \u001b[38;5;28;01mraise\u001b[39;00m\n",
      "File \u001b[1;32m~\\anaconda3\\Lib\\site-packages\\pymongo\\synchronous\\network.py:218\u001b[0m, in \u001b[0;36mcommand\u001b[1;34m(conn, dbname, spec, is_mongos, read_preference, codec_options, session, client, check, allowable_errors, address, listeners, max_bson_size, read_concern, parse_write_concern_error, collation, compression_ctx, use_op_msg, unacknowledged, user_fields, exhaust_allowed, write_concern)\u001b[0m\n\u001b[0;32m    216\u001b[0m             client\u001b[38;5;241m.\u001b[39m_process_response(response_doc, session)\n\u001b[0;32m    217\u001b[0m         \u001b[38;5;28;01mif\u001b[39;00m check:\n\u001b[1;32m--> 218\u001b[0m             helpers_shared\u001b[38;5;241m.\u001b[39m_check_command_response(\n\u001b[0;32m    219\u001b[0m                 response_doc,\n\u001b[0;32m    220\u001b[0m                 conn\u001b[38;5;241m.\u001b[39mmax_wire_version,\n\u001b[0;32m    221\u001b[0m                 allowable_errors,\n\u001b[0;32m    222\u001b[0m                 parse_write_concern_error\u001b[38;5;241m=\u001b[39mparse_write_concern_error,\n\u001b[0;32m    223\u001b[0m             )\n\u001b[0;32m    224\u001b[0m \u001b[38;5;28;01mexcept\u001b[39;00m \u001b[38;5;167;01mException\u001b[39;00m \u001b[38;5;28;01mas\u001b[39;00m exc:\n\u001b[0;32m    225\u001b[0m     duration \u001b[38;5;241m=\u001b[39m datetime\u001b[38;5;241m.\u001b[39mdatetime\u001b[38;5;241m.\u001b[39mnow() \u001b[38;5;241m-\u001b[39m start\n",
      "File \u001b[1;32m~\\anaconda3\\Lib\\site-packages\\pymongo\\helpers_shared.py:247\u001b[0m, in \u001b[0;36m_check_command_response\u001b[1;34m(response, max_wire_version, allowable_errors, parse_write_concern_error)\u001b[0m\n\u001b[0;32m    244\u001b[0m \u001b[38;5;28;01melif\u001b[39;00m code \u001b[38;5;241m==\u001b[39m \u001b[38;5;241m43\u001b[39m:\n\u001b[0;32m    245\u001b[0m     \u001b[38;5;28;01mraise\u001b[39;00m CursorNotFound(errmsg, code, response, max_wire_version)\n\u001b[1;32m--> 247\u001b[0m \u001b[38;5;28;01mraise\u001b[39;00m OperationFailure(errmsg, code, response, max_wire_version)\n",
      "\u001b[1;31mOperationFailure\u001b[0m: bad auth : authentication failed, full error: {'ok': 0, 'errmsg': 'bad auth : authentication failed', 'code': 8000, 'codeName': 'AtlasError'}"
     ]
    }
   ],
   "source": [
    "# Insert one record\n",
    "data={\"name\":\"mayank\",\"age\":25,\"state\":\"Jharkhand\"}\n",
    "col.insert_one(data)"
   ]
  },
  {
   "cell_type": "code",
   "execution_count": null,
   "id": "521efba4-3986-41f8-abda-5395a6748a10",
   "metadata": {},
   "outputs": [],
   "source": [
    "# Insert many records\n",
    "datas=[{\"name\":\"maurya\",\"age\":22,\"state\":\"bihar\"},\n",
    "{\"name\":\"ankit\",\"age\":28,\"state\":\"Delhi\"}]\n",
    "col.insert_many(datas)"
   ]
  },
  {
   "cell_type": "code",
   "execution_count": null,
   "id": "c8827c6f-21c2-4052-944c-bc05a7e2a68b",
   "metadata": {},
   "outputs": [],
   "source": [
    "# Retrieve one record\n",
    "print(col.find_one())"
   ]
  },
  {
   "cell_type": "code",
   "execution_count": null,
   "id": "30a9a066-0e54-4f11-a3e2-1cdf1fec3f87",
   "metadata": {},
   "outputs": [],
   "source": [
    "# Retrieve all records\n",
    "for i in col.find():\n",
    "    print(i)"
   ]
  },
  {
   "cell_type": "markdown",
   "id": "b2f1910d-99ef-4ad4-8b86-e34e7140400a",
   "metadata": {},
   "source": [
    "# Q5. Explain how you can use the find() method to query the MongoDB database. Write a simple code to demonstrate this."
   ]
  },
  {
   "cell_type": "code",
   "execution_count": 27,
   "id": "80ecdba3-de02-4c14-8bc4-d6b6d2d253f4",
   "metadata": {},
   "outputs": [
    {
     "ename": "ServerSelectionTimeoutError",
     "evalue": "#link from mongodb site:27017: [Errno 11001] getaddrinfo failed (configured timeouts: socketTimeoutMS: 20000.0ms, connectTimeoutMS: 20000.0ms), Timeout: 30s, Topology Description: <TopologyDescription id: 673f5e5f9901e3a2c9c9d575, topology_type: Unknown, servers: [<ServerDescription ('#link from mongodb site', 27017) server_type: Unknown, rtt: None, error=AutoReconnect('#link from mongodb site:27017: [Errno 11001] getaddrinfo failed (configured timeouts: socketTimeoutMS: 20000.0ms, connectTimeoutMS: 20000.0ms)')>]>",
     "output_type": "error",
     "traceback": [
      "\u001b[1;31m---------------------------------------------------------------------------\u001b[0m",
      "\u001b[1;31mServerSelectionTimeoutError\u001b[0m               Traceback (most recent call last)",
      "Cell \u001b[1;32mIn[27], line 4\u001b[0m\n\u001b[0;32m      1\u001b[0m query \u001b[38;5;241m=\u001b[39m {\u001b[38;5;124m\"\u001b[39m\u001b[38;5;124mage\u001b[39m\u001b[38;5;124m\"\u001b[39m: {\u001b[38;5;124m\"\u001b[39m\u001b[38;5;124m$gt\u001b[39m\u001b[38;5;124m\"\u001b[39m: \u001b[38;5;241m23\u001b[39m}}\n\u001b[0;32m      2\u001b[0m results \u001b[38;5;241m=\u001b[39m col\u001b[38;5;241m.\u001b[39mfind(query)\n\u001b[1;32m----> 4\u001b[0m \u001b[38;5;28;01mfor\u001b[39;00m result \u001b[38;5;129;01min\u001b[39;00m results:\n\u001b[0;32m      5\u001b[0m     \u001b[38;5;28mprint\u001b[39m(result)\n",
      "File \u001b[1;32m~\\anaconda3\\Lib\\site-packages\\pymongo\\synchronous\\cursor.py:1281\u001b[0m, in \u001b[0;36mCursor.__next__\u001b[1;34m(self)\u001b[0m\n\u001b[0;32m   1280\u001b[0m \u001b[38;5;28;01mdef\u001b[39;00m \u001b[38;5;21m__next__\u001b[39m(\u001b[38;5;28mself\u001b[39m) \u001b[38;5;241m-\u001b[39m\u001b[38;5;241m>\u001b[39m _DocumentType:\n\u001b[1;32m-> 1281\u001b[0m     \u001b[38;5;28;01mreturn\u001b[39;00m \u001b[38;5;28mself\u001b[39m\u001b[38;5;241m.\u001b[39mnext()\n",
      "File \u001b[1;32m~\\anaconda3\\Lib\\site-packages\\pymongo\\synchronous\\cursor.py:1257\u001b[0m, in \u001b[0;36mCursor.next\u001b[1;34m(self)\u001b[0m\n\u001b[0;32m   1255\u001b[0m \u001b[38;5;28;01mif\u001b[39;00m \u001b[38;5;28mself\u001b[39m\u001b[38;5;241m.\u001b[39m_empty:\n\u001b[0;32m   1256\u001b[0m     \u001b[38;5;28;01mraise\u001b[39;00m \u001b[38;5;167;01mStopIteration\u001b[39;00m\n\u001b[1;32m-> 1257\u001b[0m \u001b[38;5;28;01mif\u001b[39;00m \u001b[38;5;28mlen\u001b[39m(\u001b[38;5;28mself\u001b[39m\u001b[38;5;241m.\u001b[39m_data) \u001b[38;5;129;01mor\u001b[39;00m \u001b[38;5;28mself\u001b[39m\u001b[38;5;241m.\u001b[39m_refresh():\n\u001b[0;32m   1258\u001b[0m     \u001b[38;5;28;01mreturn\u001b[39;00m \u001b[38;5;28mself\u001b[39m\u001b[38;5;241m.\u001b[39m_data\u001b[38;5;241m.\u001b[39mpopleft()\n\u001b[0;32m   1259\u001b[0m \u001b[38;5;28;01melse\u001b[39;00m:\n",
      "File \u001b[1;32m~\\anaconda3\\Lib\\site-packages\\pymongo\\synchronous\\cursor.py:1205\u001b[0m, in \u001b[0;36mCursor._refresh\u001b[1;34m(self)\u001b[0m\n\u001b[0;32m   1183\u001b[0m         \u001b[38;5;28;01mraise\u001b[39;00m InvalidOperation(\n\u001b[0;32m   1184\u001b[0m             \u001b[38;5;124m\"\u001b[39m\u001b[38;5;124mPassing a \u001b[39m\u001b[38;5;124m'\u001b[39m\u001b[38;5;124mhint\u001b[39m\u001b[38;5;124m'\u001b[39m\u001b[38;5;124m is required when using the min/max query\u001b[39m\u001b[38;5;124m\"\u001b[39m\n\u001b[0;32m   1185\u001b[0m             \u001b[38;5;124m\"\u001b[39m\u001b[38;5;124m option to ensure the query utilizes the correct index\u001b[39m\u001b[38;5;124m\"\u001b[39m\n\u001b[0;32m   1186\u001b[0m         )\n\u001b[0;32m   1187\u001b[0m     q \u001b[38;5;241m=\u001b[39m \u001b[38;5;28mself\u001b[39m\u001b[38;5;241m.\u001b[39m_query_class(\n\u001b[0;32m   1188\u001b[0m         \u001b[38;5;28mself\u001b[39m\u001b[38;5;241m.\u001b[39m_query_flags,\n\u001b[0;32m   1189\u001b[0m         \u001b[38;5;28mself\u001b[39m\u001b[38;5;241m.\u001b[39m_collection\u001b[38;5;241m.\u001b[39mdatabase\u001b[38;5;241m.\u001b[39mname,\n\u001b[1;32m   (...)\u001b[0m\n\u001b[0;32m   1203\u001b[0m         \u001b[38;5;28mself\u001b[39m\u001b[38;5;241m.\u001b[39m_exhaust,\n\u001b[0;32m   1204\u001b[0m     )\n\u001b[1;32m-> 1205\u001b[0m     \u001b[38;5;28mself\u001b[39m\u001b[38;5;241m.\u001b[39m_send_message(q)\n\u001b[0;32m   1206\u001b[0m \u001b[38;5;28;01melif\u001b[39;00m \u001b[38;5;28mself\u001b[39m\u001b[38;5;241m.\u001b[39m_id:  \u001b[38;5;66;03m# Get More\u001b[39;00m\n\u001b[0;32m   1207\u001b[0m     \u001b[38;5;28;01mif\u001b[39;00m \u001b[38;5;28mself\u001b[39m\u001b[38;5;241m.\u001b[39m_limit:\n",
      "File \u001b[1;32m~\\anaconda3\\Lib\\site-packages\\pymongo\\synchronous\\cursor.py:1100\u001b[0m, in \u001b[0;36mCursor._send_message\u001b[1;34m(self, operation)\u001b[0m\n\u001b[0;32m   1097\u001b[0m     \u001b[38;5;28;01mraise\u001b[39;00m InvalidOperation(\u001b[38;5;124m\"\u001b[39m\u001b[38;5;124mexhaust cursors do not support auto encryption\u001b[39m\u001b[38;5;124m\"\u001b[39m)\n\u001b[0;32m   1099\u001b[0m \u001b[38;5;28;01mtry\u001b[39;00m:\n\u001b[1;32m-> 1100\u001b[0m     response \u001b[38;5;241m=\u001b[39m client\u001b[38;5;241m.\u001b[39m_run_operation(\n\u001b[0;32m   1101\u001b[0m         operation, \u001b[38;5;28mself\u001b[39m\u001b[38;5;241m.\u001b[39m_unpack_response, address\u001b[38;5;241m=\u001b[39m\u001b[38;5;28mself\u001b[39m\u001b[38;5;241m.\u001b[39m_address\n\u001b[0;32m   1102\u001b[0m     )\n\u001b[0;32m   1103\u001b[0m \u001b[38;5;28;01mexcept\u001b[39;00m OperationFailure \u001b[38;5;28;01mas\u001b[39;00m exc:\n\u001b[0;32m   1104\u001b[0m     \u001b[38;5;28;01mif\u001b[39;00m exc\u001b[38;5;241m.\u001b[39mcode \u001b[38;5;129;01min\u001b[39;00m _CURSOR_CLOSED_ERRORS \u001b[38;5;129;01mor\u001b[39;00m \u001b[38;5;28mself\u001b[39m\u001b[38;5;241m.\u001b[39m_exhaust:\n\u001b[0;32m   1105\u001b[0m         \u001b[38;5;66;03m# Don't send killCursors because the cursor is already closed.\u001b[39;00m\n",
      "File \u001b[1;32m~\\anaconda3\\Lib\\site-packages\\pymongo\\_csot.py:119\u001b[0m, in \u001b[0;36mapply.<locals>.csot_wrapper\u001b[1;34m(self, *args, **kwargs)\u001b[0m\n\u001b[0;32m    117\u001b[0m         \u001b[38;5;28;01mwith\u001b[39;00m _TimeoutContext(timeout):\n\u001b[0;32m    118\u001b[0m             \u001b[38;5;28;01mreturn\u001b[39;00m func(\u001b[38;5;28mself\u001b[39m, \u001b[38;5;241m*\u001b[39margs, \u001b[38;5;241m*\u001b[39m\u001b[38;5;241m*\u001b[39mkwargs)\n\u001b[1;32m--> 119\u001b[0m \u001b[38;5;28;01mreturn\u001b[39;00m func(\u001b[38;5;28mself\u001b[39m, \u001b[38;5;241m*\u001b[39margs, \u001b[38;5;241m*\u001b[39m\u001b[38;5;241m*\u001b[39mkwargs)\n",
      "File \u001b[1;32m~\\anaconda3\\Lib\\site-packages\\pymongo\\synchronous\\mongo_client.py:1754\u001b[0m, in \u001b[0;36mMongoClient._run_operation\u001b[1;34m(self, operation, unpack_res, address)\u001b[0m\n\u001b[0;32m   1744\u001b[0m     operation\u001b[38;5;241m.\u001b[39mreset()  \u001b[38;5;66;03m# Reset op in case of retry.\u001b[39;00m\n\u001b[0;32m   1745\u001b[0m     \u001b[38;5;28;01mreturn\u001b[39;00m server\u001b[38;5;241m.\u001b[39mrun_operation(\n\u001b[0;32m   1746\u001b[0m         conn,\n\u001b[0;32m   1747\u001b[0m         operation,\n\u001b[1;32m   (...)\u001b[0m\n\u001b[0;32m   1751\u001b[0m         \u001b[38;5;28mself\u001b[39m,\n\u001b[0;32m   1752\u001b[0m     )\n\u001b[1;32m-> 1754\u001b[0m \u001b[38;5;28;01mreturn\u001b[39;00m \u001b[38;5;28mself\u001b[39m\u001b[38;5;241m.\u001b[39m_retryable_read(\n\u001b[0;32m   1755\u001b[0m     _cmd,\n\u001b[0;32m   1756\u001b[0m     operation\u001b[38;5;241m.\u001b[39mread_preference,\n\u001b[0;32m   1757\u001b[0m     operation\u001b[38;5;241m.\u001b[39msession,  \u001b[38;5;66;03m# type: ignore[arg-type]\u001b[39;00m\n\u001b[0;32m   1758\u001b[0m     address\u001b[38;5;241m=\u001b[39maddress,\n\u001b[0;32m   1759\u001b[0m     retryable\u001b[38;5;241m=\u001b[39m\u001b[38;5;28misinstance\u001b[39m(operation, _Query),\n\u001b[0;32m   1760\u001b[0m     operation\u001b[38;5;241m=\u001b[39moperation\u001b[38;5;241m.\u001b[39mname,\n\u001b[0;32m   1761\u001b[0m )\n",
      "File \u001b[1;32m~\\anaconda3\\Lib\\site-packages\\pymongo\\synchronous\\mongo_client.py:1863\u001b[0m, in \u001b[0;36mMongoClient._retryable_read\u001b[1;34m(self, func, read_pref, session, operation, address, retryable, operation_id)\u001b[0m\n\u001b[0;32m   1858\u001b[0m \u001b[38;5;66;03m# Ensure that the client supports retrying on reads and there is no session in\u001b[39;00m\n\u001b[0;32m   1859\u001b[0m \u001b[38;5;66;03m# transaction, otherwise, we will not support retry behavior for this call.\u001b[39;00m\n\u001b[0;32m   1860\u001b[0m retryable \u001b[38;5;241m=\u001b[39m \u001b[38;5;28mbool\u001b[39m(\n\u001b[0;32m   1861\u001b[0m     retryable \u001b[38;5;129;01mand\u001b[39;00m \u001b[38;5;28mself\u001b[39m\u001b[38;5;241m.\u001b[39moptions\u001b[38;5;241m.\u001b[39mretry_reads \u001b[38;5;129;01mand\u001b[39;00m \u001b[38;5;129;01mnot\u001b[39;00m (session \u001b[38;5;129;01mand\u001b[39;00m session\u001b[38;5;241m.\u001b[39min_transaction)\n\u001b[0;32m   1862\u001b[0m )\n\u001b[1;32m-> 1863\u001b[0m \u001b[38;5;28;01mreturn\u001b[39;00m \u001b[38;5;28mself\u001b[39m\u001b[38;5;241m.\u001b[39m_retry_internal(\n\u001b[0;32m   1864\u001b[0m     func,\n\u001b[0;32m   1865\u001b[0m     session,\n\u001b[0;32m   1866\u001b[0m     \u001b[38;5;28;01mNone\u001b[39;00m,\n\u001b[0;32m   1867\u001b[0m     operation,\n\u001b[0;32m   1868\u001b[0m     is_read\u001b[38;5;241m=\u001b[39m\u001b[38;5;28;01mTrue\u001b[39;00m,\n\u001b[0;32m   1869\u001b[0m     address\u001b[38;5;241m=\u001b[39maddress,\n\u001b[0;32m   1870\u001b[0m     read_pref\u001b[38;5;241m=\u001b[39mread_pref,\n\u001b[0;32m   1871\u001b[0m     retryable\u001b[38;5;241m=\u001b[39mretryable,\n\u001b[0;32m   1872\u001b[0m     operation_id\u001b[38;5;241m=\u001b[39moperation_id,\n\u001b[0;32m   1873\u001b[0m )\n",
      "File \u001b[1;32m~\\anaconda3\\Lib\\site-packages\\pymongo\\_csot.py:119\u001b[0m, in \u001b[0;36mapply.<locals>.csot_wrapper\u001b[1;34m(self, *args, **kwargs)\u001b[0m\n\u001b[0;32m    117\u001b[0m         \u001b[38;5;28;01mwith\u001b[39;00m _TimeoutContext(timeout):\n\u001b[0;32m    118\u001b[0m             \u001b[38;5;28;01mreturn\u001b[39;00m func(\u001b[38;5;28mself\u001b[39m, \u001b[38;5;241m*\u001b[39margs, \u001b[38;5;241m*\u001b[39m\u001b[38;5;241m*\u001b[39mkwargs)\n\u001b[1;32m--> 119\u001b[0m \u001b[38;5;28;01mreturn\u001b[39;00m func(\u001b[38;5;28mself\u001b[39m, \u001b[38;5;241m*\u001b[39margs, \u001b[38;5;241m*\u001b[39m\u001b[38;5;241m*\u001b[39mkwargs)\n",
      "File \u001b[1;32m~\\anaconda3\\Lib\\site-packages\\pymongo\\synchronous\\mongo_client.py:1830\u001b[0m, in \u001b[0;36mMongoClient._retry_internal\u001b[1;34m(self, func, session, bulk, operation, is_read, address, read_pref, retryable, operation_id)\u001b[0m\n\u001b[0;32m   1793\u001b[0m \u001b[38;5;129m@_csot\u001b[39m\u001b[38;5;241m.\u001b[39mapply\n\u001b[0;32m   1794\u001b[0m \u001b[38;5;28;01mdef\u001b[39;00m \u001b[38;5;21m_retry_internal\u001b[39m(\n\u001b[0;32m   1795\u001b[0m     \u001b[38;5;28mself\u001b[39m,\n\u001b[1;32m   (...)\u001b[0m\n\u001b[0;32m   1804\u001b[0m     operation_id: Optional[\u001b[38;5;28mint\u001b[39m] \u001b[38;5;241m=\u001b[39m \u001b[38;5;28;01mNone\u001b[39;00m,\n\u001b[0;32m   1805\u001b[0m ) \u001b[38;5;241m-\u001b[39m\u001b[38;5;241m>\u001b[39m T:\n\u001b[0;32m   1806\u001b[0m \u001b[38;5;250m    \u001b[39m\u001b[38;5;124;03m\"\"\"Internal retryable helper for all client transactions.\u001b[39;00m\n\u001b[0;32m   1807\u001b[0m \n\u001b[0;32m   1808\u001b[0m \u001b[38;5;124;03m    :param func: Callback function we want to retry\u001b[39;00m\n\u001b[1;32m   (...)\u001b[0m\n\u001b[0;32m   1817\u001b[0m \u001b[38;5;124;03m    :return: Output of the calling func()\u001b[39;00m\n\u001b[0;32m   1818\u001b[0m \u001b[38;5;124;03m    \"\"\"\u001b[39;00m\n\u001b[0;32m   1819\u001b[0m     \u001b[38;5;28;01mreturn\u001b[39;00m _ClientConnectionRetryable(\n\u001b[0;32m   1820\u001b[0m         mongo_client\u001b[38;5;241m=\u001b[39m\u001b[38;5;28mself\u001b[39m,\n\u001b[0;32m   1821\u001b[0m         func\u001b[38;5;241m=\u001b[39mfunc,\n\u001b[0;32m   1822\u001b[0m         bulk\u001b[38;5;241m=\u001b[39mbulk,\n\u001b[0;32m   1823\u001b[0m         operation\u001b[38;5;241m=\u001b[39moperation,\n\u001b[0;32m   1824\u001b[0m         is_read\u001b[38;5;241m=\u001b[39mis_read,\n\u001b[0;32m   1825\u001b[0m         session\u001b[38;5;241m=\u001b[39msession,\n\u001b[0;32m   1826\u001b[0m         read_pref\u001b[38;5;241m=\u001b[39mread_pref,\n\u001b[0;32m   1827\u001b[0m         address\u001b[38;5;241m=\u001b[39maddress,\n\u001b[0;32m   1828\u001b[0m         retryable\u001b[38;5;241m=\u001b[39mretryable,\n\u001b[0;32m   1829\u001b[0m         operation_id\u001b[38;5;241m=\u001b[39moperation_id,\n\u001b[1;32m-> 1830\u001b[0m     )\u001b[38;5;241m.\u001b[39mrun()\n",
      "File \u001b[1;32m~\\anaconda3\\Lib\\site-packages\\pymongo\\synchronous\\mongo_client.py:2554\u001b[0m, in \u001b[0;36m_ClientConnectionRetryable.run\u001b[1;34m(self)\u001b[0m\n\u001b[0;32m   2552\u001b[0m \u001b[38;5;28mself\u001b[39m\u001b[38;5;241m.\u001b[39m_check_last_error(check_csot\u001b[38;5;241m=\u001b[39m\u001b[38;5;28;01mTrue\u001b[39;00m)\n\u001b[0;32m   2553\u001b[0m \u001b[38;5;28;01mtry\u001b[39;00m:\n\u001b[1;32m-> 2554\u001b[0m     \u001b[38;5;28;01mreturn\u001b[39;00m \u001b[38;5;28mself\u001b[39m\u001b[38;5;241m.\u001b[39m_read() \u001b[38;5;28;01mif\u001b[39;00m \u001b[38;5;28mself\u001b[39m\u001b[38;5;241m.\u001b[39m_is_read \u001b[38;5;28;01melse\u001b[39;00m \u001b[38;5;28mself\u001b[39m\u001b[38;5;241m.\u001b[39m_write()\n\u001b[0;32m   2555\u001b[0m \u001b[38;5;28;01mexcept\u001b[39;00m ServerSelectionTimeoutError:\n\u001b[0;32m   2556\u001b[0m     \u001b[38;5;66;03m# The application may think the write was never attempted\u001b[39;00m\n\u001b[0;32m   2557\u001b[0m     \u001b[38;5;66;03m# if we raise ServerSelectionTimeoutError on the retry\u001b[39;00m\n\u001b[0;32m   2558\u001b[0m     \u001b[38;5;66;03m# attempt. Raise the original exception instead.\u001b[39;00m\n\u001b[0;32m   2559\u001b[0m     \u001b[38;5;28mself\u001b[39m\u001b[38;5;241m.\u001b[39m_check_last_error()\n",
      "File \u001b[1;32m~\\anaconda3\\Lib\\site-packages\\pymongo\\synchronous\\mongo_client.py:2689\u001b[0m, in \u001b[0;36m_ClientConnectionRetryable._read\u001b[1;34m(self)\u001b[0m\n\u001b[0;32m   2684\u001b[0m \u001b[38;5;28;01mdef\u001b[39;00m \u001b[38;5;21m_read\u001b[39m(\u001b[38;5;28mself\u001b[39m) \u001b[38;5;241m-\u001b[39m\u001b[38;5;241m>\u001b[39m T:\n\u001b[0;32m   2685\u001b[0m \u001b[38;5;250m    \u001b[39m\u001b[38;5;124;03m\"\"\"Wrapper method for read-type retryable client executions\u001b[39;00m\n\u001b[0;32m   2686\u001b[0m \n\u001b[0;32m   2687\u001b[0m \u001b[38;5;124;03m    :return: Output for func()'s call\u001b[39;00m\n\u001b[0;32m   2688\u001b[0m \u001b[38;5;124;03m    \"\"\"\u001b[39;00m\n\u001b[1;32m-> 2689\u001b[0m     \u001b[38;5;28mself\u001b[39m\u001b[38;5;241m.\u001b[39m_server \u001b[38;5;241m=\u001b[39m \u001b[38;5;28mself\u001b[39m\u001b[38;5;241m.\u001b[39m_get_server()\n\u001b[0;32m   2690\u001b[0m     \u001b[38;5;28;01massert\u001b[39;00m \u001b[38;5;28mself\u001b[39m\u001b[38;5;241m.\u001b[39m_read_pref \u001b[38;5;129;01mis\u001b[39;00m \u001b[38;5;129;01mnot\u001b[39;00m \u001b[38;5;28;01mNone\u001b[39;00m, \u001b[38;5;124m\"\u001b[39m\u001b[38;5;124mRead Preference required on read calls\u001b[39m\u001b[38;5;124m\"\u001b[39m\n\u001b[0;32m   2691\u001b[0m     \u001b[38;5;28;01mwith\u001b[39;00m \u001b[38;5;28mself\u001b[39m\u001b[38;5;241m.\u001b[39m_client\u001b[38;5;241m.\u001b[39m_conn_from_server(\u001b[38;5;28mself\u001b[39m\u001b[38;5;241m.\u001b[39m_read_pref, \u001b[38;5;28mself\u001b[39m\u001b[38;5;241m.\u001b[39m_server, \u001b[38;5;28mself\u001b[39m\u001b[38;5;241m.\u001b[39m_session) \u001b[38;5;28;01mas\u001b[39;00m (\n\u001b[0;32m   2692\u001b[0m         conn,\n\u001b[0;32m   2693\u001b[0m         read_pref,\n\u001b[0;32m   2694\u001b[0m     ):\n",
      "File \u001b[1;32m~\\anaconda3\\Lib\\site-packages\\pymongo\\synchronous\\mongo_client.py:2645\u001b[0m, in \u001b[0;36m_ClientConnectionRetryable._get_server\u001b[1;34m(self)\u001b[0m\n\u001b[0;32m   2640\u001b[0m \u001b[38;5;28;01mdef\u001b[39;00m \u001b[38;5;21m_get_server\u001b[39m(\u001b[38;5;28mself\u001b[39m) \u001b[38;5;241m-\u001b[39m\u001b[38;5;241m>\u001b[39m Server:\n\u001b[0;32m   2641\u001b[0m \u001b[38;5;250m    \u001b[39m\u001b[38;5;124;03m\"\"\"Retrieves a server object based on provided object context\u001b[39;00m\n\u001b[0;32m   2642\u001b[0m \n\u001b[0;32m   2643\u001b[0m \u001b[38;5;124;03m    :return: Abstraction to connect to server\u001b[39;00m\n\u001b[0;32m   2644\u001b[0m \u001b[38;5;124;03m    \"\"\"\u001b[39;00m\n\u001b[1;32m-> 2645\u001b[0m     \u001b[38;5;28;01mreturn\u001b[39;00m \u001b[38;5;28mself\u001b[39m\u001b[38;5;241m.\u001b[39m_client\u001b[38;5;241m.\u001b[39m_select_server(\n\u001b[0;32m   2646\u001b[0m         \u001b[38;5;28mself\u001b[39m\u001b[38;5;241m.\u001b[39m_server_selector,\n\u001b[0;32m   2647\u001b[0m         \u001b[38;5;28mself\u001b[39m\u001b[38;5;241m.\u001b[39m_session,\n\u001b[0;32m   2648\u001b[0m         \u001b[38;5;28mself\u001b[39m\u001b[38;5;241m.\u001b[39m_operation,\n\u001b[0;32m   2649\u001b[0m         address\u001b[38;5;241m=\u001b[39m\u001b[38;5;28mself\u001b[39m\u001b[38;5;241m.\u001b[39m_address,\n\u001b[0;32m   2650\u001b[0m         deprioritized_servers\u001b[38;5;241m=\u001b[39m\u001b[38;5;28mself\u001b[39m\u001b[38;5;241m.\u001b[39m_deprioritized_servers,\n\u001b[0;32m   2651\u001b[0m         operation_id\u001b[38;5;241m=\u001b[39m\u001b[38;5;28mself\u001b[39m\u001b[38;5;241m.\u001b[39m_operation_id,\n\u001b[0;32m   2652\u001b[0m     )\n",
      "File \u001b[1;32m~\\anaconda3\\Lib\\site-packages\\pymongo\\synchronous\\mongo_client.py:1649\u001b[0m, in \u001b[0;36mMongoClient._select_server\u001b[1;34m(self, server_selector, session, operation, address, deprioritized_servers, operation_id)\u001b[0m\n\u001b[0;32m   1647\u001b[0m             \u001b[38;5;28;01mraise\u001b[39;00m AutoReconnect(\u001b[38;5;124m\"\u001b[39m\u001b[38;5;124mserver \u001b[39m\u001b[38;5;132;01m%s\u001b[39;00m\u001b[38;5;124m:\u001b[39m\u001b[38;5;132;01m%s\u001b[39;00m\u001b[38;5;124m no longer available\u001b[39m\u001b[38;5;124m\"\u001b[39m \u001b[38;5;241m%\u001b[39m address)  \u001b[38;5;66;03m# noqa: UP031\u001b[39;00m\n\u001b[0;32m   1648\u001b[0m     \u001b[38;5;28;01melse\u001b[39;00m:\n\u001b[1;32m-> 1649\u001b[0m         server \u001b[38;5;241m=\u001b[39m topology\u001b[38;5;241m.\u001b[39mselect_server(\n\u001b[0;32m   1650\u001b[0m             server_selector,\n\u001b[0;32m   1651\u001b[0m             operation,\n\u001b[0;32m   1652\u001b[0m             deprioritized_servers\u001b[38;5;241m=\u001b[39mdeprioritized_servers,\n\u001b[0;32m   1653\u001b[0m             operation_id\u001b[38;5;241m=\u001b[39moperation_id,\n\u001b[0;32m   1654\u001b[0m         )\n\u001b[0;32m   1655\u001b[0m     \u001b[38;5;28;01mreturn\u001b[39;00m server\n\u001b[0;32m   1656\u001b[0m \u001b[38;5;28;01mexcept\u001b[39;00m PyMongoError \u001b[38;5;28;01mas\u001b[39;00m exc:\n\u001b[0;32m   1657\u001b[0m     \u001b[38;5;66;03m# Server selection errors in a transaction are transient.\u001b[39;00m\n",
      "File \u001b[1;32m~\\anaconda3\\Lib\\site-packages\\pymongo\\synchronous\\topology.py:398\u001b[0m, in \u001b[0;36mTopology.select_server\u001b[1;34m(self, selector, operation, server_selection_timeout, address, deprioritized_servers, operation_id)\u001b[0m\n\u001b[0;32m    388\u001b[0m \u001b[38;5;28;01mdef\u001b[39;00m \u001b[38;5;21mselect_server\u001b[39m(\n\u001b[0;32m    389\u001b[0m     \u001b[38;5;28mself\u001b[39m,\n\u001b[0;32m    390\u001b[0m     selector: Callable[[Selection], Selection],\n\u001b[1;32m   (...)\u001b[0m\n\u001b[0;32m    395\u001b[0m     operation_id: Optional[\u001b[38;5;28mint\u001b[39m] \u001b[38;5;241m=\u001b[39m \u001b[38;5;28;01mNone\u001b[39;00m,\n\u001b[0;32m    396\u001b[0m ) \u001b[38;5;241m-\u001b[39m\u001b[38;5;241m>\u001b[39m Server:\n\u001b[0;32m    397\u001b[0m \u001b[38;5;250m    \u001b[39m\u001b[38;5;124;03m\"\"\"Like select_servers, but choose a random server if several match.\"\"\"\u001b[39;00m\n\u001b[1;32m--> 398\u001b[0m     server \u001b[38;5;241m=\u001b[39m \u001b[38;5;28mself\u001b[39m\u001b[38;5;241m.\u001b[39m_select_server(\n\u001b[0;32m    399\u001b[0m         selector,\n\u001b[0;32m    400\u001b[0m         operation,\n\u001b[0;32m    401\u001b[0m         server_selection_timeout,\n\u001b[0;32m    402\u001b[0m         address,\n\u001b[0;32m    403\u001b[0m         deprioritized_servers,\n\u001b[0;32m    404\u001b[0m         operation_id\u001b[38;5;241m=\u001b[39moperation_id,\n\u001b[0;32m    405\u001b[0m     )\n\u001b[0;32m    406\u001b[0m     \u001b[38;5;28;01mif\u001b[39;00m _csot\u001b[38;5;241m.\u001b[39mget_timeout():\n\u001b[0;32m    407\u001b[0m         _csot\u001b[38;5;241m.\u001b[39mset_rtt(server\u001b[38;5;241m.\u001b[39mdescription\u001b[38;5;241m.\u001b[39mmin_round_trip_time)\n",
      "File \u001b[1;32m~\\anaconda3\\Lib\\site-packages\\pymongo\\synchronous\\topology.py:376\u001b[0m, in \u001b[0;36mTopology._select_server\u001b[1;34m(self, selector, operation, server_selection_timeout, address, deprioritized_servers, operation_id)\u001b[0m\n\u001b[0;32m    367\u001b[0m \u001b[38;5;28;01mdef\u001b[39;00m \u001b[38;5;21m_select_server\u001b[39m(\n\u001b[0;32m    368\u001b[0m     \u001b[38;5;28mself\u001b[39m,\n\u001b[0;32m    369\u001b[0m     selector: Callable[[Selection], Selection],\n\u001b[1;32m   (...)\u001b[0m\n\u001b[0;32m    374\u001b[0m     operation_id: Optional[\u001b[38;5;28mint\u001b[39m] \u001b[38;5;241m=\u001b[39m \u001b[38;5;28;01mNone\u001b[39;00m,\n\u001b[0;32m    375\u001b[0m ) \u001b[38;5;241m-\u001b[39m\u001b[38;5;241m>\u001b[39m Server:\n\u001b[1;32m--> 376\u001b[0m     servers \u001b[38;5;241m=\u001b[39m \u001b[38;5;28mself\u001b[39m\u001b[38;5;241m.\u001b[39mselect_servers(\n\u001b[0;32m    377\u001b[0m         selector, operation, server_selection_timeout, address, operation_id\n\u001b[0;32m    378\u001b[0m     )\n\u001b[0;32m    379\u001b[0m     servers \u001b[38;5;241m=\u001b[39m _filter_servers(servers, deprioritized_servers)\n\u001b[0;32m    380\u001b[0m     \u001b[38;5;28;01mif\u001b[39;00m \u001b[38;5;28mlen\u001b[39m(servers) \u001b[38;5;241m==\u001b[39m \u001b[38;5;241m1\u001b[39m:\n",
      "File \u001b[1;32m~\\anaconda3\\Lib\\site-packages\\pymongo\\synchronous\\topology.py:283\u001b[0m, in \u001b[0;36mTopology.select_servers\u001b[1;34m(self, selector, operation, server_selection_timeout, address, operation_id)\u001b[0m\n\u001b[0;32m    280\u001b[0m     server_timeout \u001b[38;5;241m=\u001b[39m server_selection_timeout\n\u001b[0;32m    282\u001b[0m \u001b[38;5;28;01mwith\u001b[39;00m \u001b[38;5;28mself\u001b[39m\u001b[38;5;241m.\u001b[39m_lock:\n\u001b[1;32m--> 283\u001b[0m     server_descriptions \u001b[38;5;241m=\u001b[39m \u001b[38;5;28mself\u001b[39m\u001b[38;5;241m.\u001b[39m_select_servers_loop(\n\u001b[0;32m    284\u001b[0m         selector, server_timeout, operation, operation_id, address\n\u001b[0;32m    285\u001b[0m     )\n\u001b[0;32m    287\u001b[0m     \u001b[38;5;28;01mreturn\u001b[39;00m [\n\u001b[0;32m    288\u001b[0m         cast(Server, \u001b[38;5;28mself\u001b[39m\u001b[38;5;241m.\u001b[39mget_server_by_address(sd\u001b[38;5;241m.\u001b[39maddress)) \u001b[38;5;28;01mfor\u001b[39;00m sd \u001b[38;5;129;01min\u001b[39;00m server_descriptions\n\u001b[0;32m    289\u001b[0m     ]\n",
      "File \u001b[1;32m~\\anaconda3\\Lib\\site-packages\\pymongo\\synchronous\\topology.py:333\u001b[0m, in \u001b[0;36mTopology._select_servers_loop\u001b[1;34m(self, selector, timeout, operation, operation_id, address)\u001b[0m\n\u001b[0;32m    322\u001b[0m     \u001b[38;5;28;01mif\u001b[39;00m _SERVER_SELECTION_LOGGER\u001b[38;5;241m.\u001b[39misEnabledFor(logging\u001b[38;5;241m.\u001b[39mDEBUG):\n\u001b[0;32m    323\u001b[0m         _debug_log(\n\u001b[0;32m    324\u001b[0m             _SERVER_SELECTION_LOGGER,\n\u001b[0;32m    325\u001b[0m             message\u001b[38;5;241m=\u001b[39m_ServerSelectionStatusMessage\u001b[38;5;241m.\u001b[39mFAILED,\n\u001b[1;32m   (...)\u001b[0m\n\u001b[0;32m    331\u001b[0m             failure\u001b[38;5;241m=\u001b[39m\u001b[38;5;28mself\u001b[39m\u001b[38;5;241m.\u001b[39m_error_message(selector),\n\u001b[0;32m    332\u001b[0m         )\n\u001b[1;32m--> 333\u001b[0m     \u001b[38;5;28;01mraise\u001b[39;00m ServerSelectionTimeoutError(\n\u001b[0;32m    334\u001b[0m         \u001b[38;5;124mf\u001b[39m\u001b[38;5;124m\"\u001b[39m\u001b[38;5;132;01m{\u001b[39;00m\u001b[38;5;28mself\u001b[39m\u001b[38;5;241m.\u001b[39m_error_message(selector)\u001b[38;5;132;01m}\u001b[39;00m\u001b[38;5;124m, Timeout: \u001b[39m\u001b[38;5;132;01m{\u001b[39;00mtimeout\u001b[38;5;132;01m}\u001b[39;00m\u001b[38;5;124ms, Topology Description: \u001b[39m\u001b[38;5;132;01m{\u001b[39;00m\u001b[38;5;28mself\u001b[39m\u001b[38;5;241m.\u001b[39mdescription\u001b[38;5;132;01m!r}\u001b[39;00m\u001b[38;5;124m\"\u001b[39m\n\u001b[0;32m    335\u001b[0m     )\n\u001b[0;32m    337\u001b[0m \u001b[38;5;28;01mif\u001b[39;00m \u001b[38;5;129;01mnot\u001b[39;00m logged_waiting:\n\u001b[0;32m    338\u001b[0m     _debug_log(\n\u001b[0;32m    339\u001b[0m         _SERVER_SELECTION_LOGGER,\n\u001b[0;32m    340\u001b[0m         message\u001b[38;5;241m=\u001b[39m_ServerSelectionStatusMessage\u001b[38;5;241m.\u001b[39mWAITING,\n\u001b[1;32m   (...)\u001b[0m\n\u001b[0;32m    346\u001b[0m         remainingTimeMS\u001b[38;5;241m=\u001b[39m\u001b[38;5;28mint\u001b[39m(end_time \u001b[38;5;241m-\u001b[39m time\u001b[38;5;241m.\u001b[39mmonotonic()),\n\u001b[0;32m    347\u001b[0m     )\n",
      "\u001b[1;31mServerSelectionTimeoutError\u001b[0m: #link from mongodb site:27017: [Errno 11001] getaddrinfo failed (configured timeouts: socketTimeoutMS: 20000.0ms, connectTimeoutMS: 20000.0ms), Timeout: 30s, Topology Description: <TopologyDescription id: 673f5e5f9901e3a2c9c9d575, topology_type: Unknown, servers: [<ServerDescription ('#link from mongodb site', 27017) server_type: Unknown, rtt: None, error=AutoReconnect('#link from mongodb site:27017: [Errno 11001] getaddrinfo failed (configured timeouts: socketTimeoutMS: 20000.0ms, connectTimeoutMS: 20000.0ms)')>]>"
     ]
    }
   ],
   "source": [
    "query = {\"age\": {\"$gt\": 23}}\n",
    "results = col.find(query)\n",
    "\n",
    "for result in results:\n",
    "    print(result)"
   ]
  },
  {
   "cell_type": "markdown",
   "id": "81b80677-4257-4b4d-b667-0faa55a3cb64",
   "metadata": {},
   "source": [
    "# Q6. Explain the sort() method. Give an example to demonstrate sorting in MongoDB."
   ]
  },
  {
   "cell_type": "code",
   "execution_count": null,
   "id": "ffb8b70b-36e2-41ee-9deb-703cf5bccbbc",
   "metadata": {},
   "outputs": [],
   "source": [
    "sorted_result = col.find().sort(\"age\", 1)\n",
    "\n",
    "for i in sorted_result:\n",
    "    print(i)"
   ]
  },
  {
   "cell_type": "markdown",
   "id": "7af9f61d-8efb-424a-8e01-d93205ef4a82",
   "metadata": {},
   "source": [
    "# Q7. Explain why delete_one(), delete_many(), and drop() is used."
   ]
  },
  {
   "cell_type": "code",
   "execution_count": null,
   "id": "030c1e2a-9ab7-46f0-b3fd-5f670a440d7d",
   "metadata": {},
   "outputs": [],
   "source": [
    "# delete_one:- Remove first record matching the condition. \n",
    "col.delete_one({\"name\": \"ankit\"})\n",
    "\n",
    "# delete_many:-Removes all reords matching the conditions.\n",
    "col.delete_many({\"age\":25})\n",
    "\n",
    "# drop:- delete entire collection\n",
    "col.drop()"
   ]
  },
  {
   "cell_type": "code",
   "execution_count": null,
   "id": "8148bfef-2ec0-406c-ad2a-3758f42c5cef",
   "metadata": {},
   "outputs": [],
   "source": []
  }
 ],
 "metadata": {
  "kernelspec": {
   "display_name": "Python 3 (ipykernel)",
   "language": "python",
   "name": "python3"
  },
  "language_info": {
   "codemirror_mode": {
    "name": "ipython",
    "version": 3
   },
   "file_extension": ".py",
   "mimetype": "text/x-python",
   "name": "python",
   "nbconvert_exporter": "python",
   "pygments_lexer": "ipython3",
   "version": "3.11.7"
  }
 },
 "nbformat": 4,
 "nbformat_minor": 5
}
