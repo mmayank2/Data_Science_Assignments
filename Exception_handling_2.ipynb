{
 "cells": [
  {
   "cell_type": "markdown",
   "id": "00dff272-b86c-4d0a-8dc9-7709f0b8b906",
   "metadata": {},
   "source": [
    "# Q1. Explain why we have to use the Exception class while creating a Custom Exception."
   ]
  },
  {
   "cell_type": "markdown",
   "id": "48065cf3-46d0-48c2-9d67-94328c96c8da",
   "metadata": {},
   "source": [
    "# Answer:- "
   ]
  },
  {
   "cell_type": "markdown",
   "id": "5377ebdb-81ee-451b-bff1-24002bf93102",
   "metadata": {},
   "source": [
    "custom exceptions are typically created by inheriting from the built-in Exception class, which is the base class for all exceptions in Python.\n",
    "There are some reason behind using Exception as base class:-\n",
    "1. Standarization and Consistency\n",
    "2. Accessibility to handle Exception\n",
    "3. Preservation of Core Exception Features"
   ]
  },
  {
   "cell_type": "markdown",
   "id": "05749ab3-0d0e-4680-9f8c-f3b1b380c094",
   "metadata": {},
   "source": [
    "# Q2. Write a python program to print Python Exception Hierarchy."
   ]
  },
  {
   "cell_type": "code",
   "execution_count": 14,
   "id": "39beb47c-126d-45f5-b036-22f9e1a6b0ca",
   "metadata": {},
   "outputs": [
    {
     "name": "stdout",
     "output_type": "stream",
     "text": [
      "Python Exception Hierarchy:\n",
      "BaseException\n",
      "    BaseExceptionGroup\n",
      "        ExceptionGroup\n",
      "    Exception\n",
      "        ArithmeticError\n",
      "            FloatingPointError\n",
      "            OverflowError\n",
      "            ZeroDivisionError\n",
      "                DivisionByZero\n",
      "                DivisionUndefined\n",
      "            DecimalException\n",
      "                Clamped\n",
      "                Rounded\n",
      "                    Underflow\n",
      "                    Overflow\n",
      "                Inexact\n",
      "                    Underflow\n",
      "                    Overflow\n",
      "                Subnormal\n",
      "                    Underflow\n",
      "                DivisionByZero\n",
      "                FloatOperation\n",
      "                InvalidOperation\n",
      "                    ConversionSyntax\n",
      "                    DivisionImpossible\n",
      "                    DivisionUndefined\n",
      "                    InvalidContext\n",
      "        AssertionError\n",
      "        AttributeError\n",
      "            FrozenInstanceError\n",
      "            OptionError\n",
      "        BufferError\n",
      "        EOFError\n",
      "            IncompleteReadError\n",
      "        ImportError\n",
      "            ModuleNotFoundError\n",
      "            ZipImportError\n",
      "        LookupError\n",
      "            IndexError\n",
      "                AxisError\n",
      "                ArrowIndexError\n",
      "            KeyError\n",
      "                NoSuchKernel\n",
      "                UnknownBackend\n",
      "                UnknownTimeZoneError\n",
      "                ArrowKeyError\n",
      "                OptionError\n",
      "                ZoneInfoNotFoundError\n",
      "                UnsortedIndexError\n",
      "            CodecRegistryError\n",
      "        MemoryError\n",
      "            MemoryError\n",
      "            ArrowMemoryError\n",
      "        NameError\n",
      "            UnboundLocalError\n",
      "            NumExprClobberingError\n",
      "            UndefinedVariableError\n",
      "        OSError\n",
      "            BlockingIOError\n",
      "            ChildProcessError\n",
      "            ConnectionError\n",
      "                BrokenPipeError\n",
      "                ConnectionAbortedError\n",
      "                ConnectionRefusedError\n",
      "                ConnectionResetError\n",
      "                    RemoteDisconnected\n",
      "            FileExistsError\n",
      "            FileNotFoundError\n",
      "            InterruptedError\n",
      "                InterruptedSystemCall\n",
      "            IsADirectoryError\n",
      "            NotADirectoryError\n",
      "            PermissionError\n",
      "            ProcessLookupError\n",
      "            TimeoutError\n",
      "            UnsupportedOperation\n",
      "            herror\n",
      "            gaierror\n",
      "            SSLError\n",
      "                SSLCertVerificationError\n",
      "                SSLZeroReturnError\n",
      "                SSLWantWriteError\n",
      "                SSLWantReadError\n",
      "                SSLSyscallError\n",
      "                SSLEOFError\n",
      "            Error\n",
      "                SameFileError\n",
      "            SpecialFileError\n",
      "            ExecError\n",
      "            ReadError\n",
      "            URLError\n",
      "                HTTPError\n",
      "                ContentTooShortError\n",
      "            BadGzipFile\n",
      "            DatabaseError\n",
      "        ReferenceError\n",
      "        RuntimeError\n",
      "            NotImplementedError\n",
      "                ZMQVersionError\n",
      "                StdinNotImplementedError\n",
      "                ArrowNotImplementedError\n",
      "                AbstractMethodError\n",
      "            RecursionError\n",
      "            _DeadlockError\n",
      "            BrokenBarrierError\n",
      "            BrokenExecutor\n",
      "                BrokenThreadPool\n",
      "            SendfileNotAvailableError\n",
      "            BrokenBarrierError\n",
      "            ExtractionError\n",
      "            VariableError\n",
      "            TooHardError\n",
      "            PyperclipException\n",
      "                PyperclipWindowsException\n",
      "        StopAsyncIteration\n",
      "        StopIteration\n",
      "        SyntaxError\n",
      "            IndentationError\n",
      "                TabError\n",
      "        SystemError\n",
      "            CodecRegistryError\n",
      "        TypeError\n",
      "            FloatOperation\n",
      "            MultipartConversionError\n",
      "            DTypePromotionError\n",
      "            UFuncTypeError\n",
      "                UFuncTypeError\n",
      "                    UFuncTypeError\n",
      "                UFuncTypeError\n",
      "                    UFuncTypeError\n",
      "                    UFuncTypeError\n",
      "            ArrowTypeError\n",
      "            ApplyTypeError\n",
      "        ValueError\n",
      "            UnicodeError\n",
      "                UnicodeDecodeError\n",
      "                UnicodeEncodeError\n",
      "                UnicodeTranslateError\n",
      "            UnsupportedOperation\n",
      "            JSONDecodeError\n",
      "            SSLCertVerificationError\n",
      "            Error\n",
      "            UnsupportedDigestmodError\n",
      "            AddressValueError\n",
      "            NetmaskValueError\n",
      "            IllegalMonthError\n",
      "            IllegalWeekdayError\n",
      "            ParserError\n",
      "            ClassNotFound\n",
      "            ClipboardEmpty\n",
      "            MessageDefect\n",
      "                NoBoundaryInMultipartDefect\n",
      "                StartBoundaryNotFoundDefect\n",
      "                CloseBoundaryNotFoundDefect\n",
      "                FirstHeaderLineIsContinuationDefect\n",
      "                MisplacedEnvelopeHeaderDefect\n",
      "                MissingHeaderBodySeparatorDefect\n",
      "                MultipartInvariantViolationDefect\n",
      "                InvalidMultipartContentTransferEncodingDefect\n",
      "                UndecodableBytesDefect\n",
      "                InvalidBase64PaddingDefect\n",
      "                InvalidBase64CharactersDefect\n",
      "                InvalidBase64LengthDefect\n",
      "                HeaderDefect\n",
      "                    InvalidHeaderDefect\n",
      "                    HeaderMissingRequiredValue\n",
      "                    NonPrintableDefect\n",
      "                    ObsoleteHeaderDefect\n",
      "                    NonASCIILocalPartDefect\n",
      "                    InvalidDateDefect\n",
      "            MacroToEdit\n",
      "            InvalidFileException\n",
      "            UnequalIterablesError\n",
      "            InvalidVersion\n",
      "            ELFInvalid\n",
      "            InvalidWheelFilename\n",
      "            InvalidSdistFilename\n",
      "            InvalidSpecifier\n",
      "            InvalidMarker\n",
      "            UndefinedComparison\n",
      "            UndefinedEnvironmentName\n",
      "            InvalidRequirement\n",
      "                RequirementParseError\n",
      "            InvalidVersion\n",
      "            AxisError\n",
      "            LinAlgError\n",
      "            InvalidVersion\n",
      "            ArrowInvalid\n",
      "            OutOfBoundsDatetime\n",
      "            OutOfBoundsTimedelta\n",
      "            DateParseError\n",
      "            IncompatibleFrequency\n",
      "            IntCastingNaNError\n",
      "            NullFrequencyError\n",
      "            UnsupportedFunctionCall\n",
      "            ParserError\n",
      "            EmptyDataError\n",
      "            MergeError\n",
      "            DuplicateLabelError\n",
      "            SettingWithCopyError\n",
      "        Warning\n",
      "            BytesWarning\n",
      "            DeprecationWarning\n",
      "                ProvisionalWarning\n",
      "                ModuleDeprecationWarning\n",
      "            EncodingWarning\n",
      "            FutureWarning\n",
      "                ProvisionalCompleterWarning\n",
      "                MaskedArrayFutureWarning\n",
      "            ImportWarning\n",
      "            PendingDeprecationWarning\n",
      "            ResourceWarning\n",
      "            RuntimeWarning\n",
      "                ProactorSelectorThreadWarning\n",
      "                UnknownTimezoneWarning\n",
      "                PEP440Warning\n",
      "                ComplexWarning\n",
      "                InvalidTZPathWarning\n",
      "            SyntaxWarning\n",
      "            UnicodeWarning\n",
      "            UserWarning\n",
      "                GetPassWarning\n",
      "                FormatterWarning\n",
      "                VisibleDeprecationWarning\n",
      "                RankWarning\n",
      "                ConversionWarning\n",
      "                RankWarning\n",
      "                CSSWarning\n",
      "            DeprecatedTzFormatWarning\n",
      "            PkgResourcesDeprecationWarning\n",
      "            PerformanceWarning\n",
      "            DtypeWarning\n",
      "            ParserWarning\n",
      "            SettingWithCopyWarning\n",
      "            ChainedAssignmentError\n",
      "            IncompatibilityWarning\n",
      "            AttributeConflictWarning\n",
      "            PossiblePrecisionLoss\n",
      "            ValueLabelTypeMismatch\n",
      "            InvalidColumnName\n",
      "            CategoricalConversionWarning\n",
      "        ExceptionGroup\n",
      "        _OptionError\n",
      "        _Error\n",
      "        error\n",
      "        Error\n",
      "        SubprocessError\n",
      "            CalledProcessError\n",
      "            TimeoutExpired\n",
      "        TokenError\n",
      "        StopTokenizing\n",
      "        ClassFoundException\n",
      "        EndOfBlock\n",
      "        TraitError\n",
      "        Error\n",
      "        Error\n",
      "            CancelledError\n",
      "            InvalidStateError\n",
      "        _GiveupOnSendfile\n",
      "        error\n",
      "        Incomplete\n",
      "        InvalidStateError\n",
      "        LimitOverrunError\n",
      "        QueueEmpty\n",
      "        QueueFull\n",
      "        error\n",
      "        LZMAError\n",
      "        RegistryError\n",
      "        _GiveupOnFastCopy\n",
      "        Empty\n",
      "        Full\n",
      "        ZMQBaseError\n",
      "            ZMQError\n",
      "                ContextTerminated\n",
      "                Again\n",
      "                InterruptedSystemCall\n",
      "            ZMQBindError\n",
      "            NotDone\n",
      "        PickleError\n",
      "            PicklingError\n",
      "            UnpicklingError\n",
      "        _Stop\n",
      "        ArgumentError\n",
      "        COMError\n",
      "        ReturnValueIgnoredError\n",
      "        ArgumentError\n",
      "        ArgumentTypeError\n",
      "        ConfigError\n",
      "            ConfigLoaderError\n",
      "                ArgumentError\n",
      "            ConfigFileNotFound\n",
      "        ConfigurableError\n",
      "            MultipleInstanceError\n",
      "        ApplicationError\n",
      "        KeyReuseError\n",
      "        UnknownKeyError\n",
      "        LeakedCallbackError\n",
      "        BadYieldError\n",
      "        ReturnValueIgnoredError\n",
      "        Return\n",
      "        InvalidPortNumber\n",
      "        NoIPAddresses\n",
      "        BadZipFile\n",
      "        LargeZipFile\n",
      "        Error\n",
      "            NoSectionError\n",
      "            DuplicateSectionError\n",
      "            DuplicateOptionError\n",
      "            NoOptionError\n",
      "            InterpolationError\n",
      "                InterpolationMissingOptionError\n",
      "                InterpolationSyntaxError\n",
      "                InterpolationDepthError\n",
      "            ParsingError\n",
      "                MissingSectionHeaderError\n",
      "        BadEntryPoint\n",
      "        NoSuchEntryPoint\n",
      "        DuplicateKernelError\n",
      "        ErrorDuringImport\n",
      "        NotOneValueFound\n",
      "        CannotEval\n",
      "        OptionError\n",
      "        BdbQuit\n",
      "        Restart\n",
      "        FindCmdError\n",
      "        HomeDirError\n",
      "        ProfileDirError\n",
      "        IPythonCoreError\n",
      "            TryNext\n",
      "            UsageError\n",
      "            StdinNotImplementedError\n",
      "        InputRejected\n",
      "        GetoptError\n",
      "        ErrorToken\n",
      "        PrefilterError\n",
      "        AliasError\n",
      "            InvalidAliasError\n",
      "        Error\n",
      "            InterfaceError\n",
      "            DatabaseError\n",
      "                InternalError\n",
      "                OperationalError\n",
      "                ProgrammingError\n",
      "                IntegrityError\n",
      "                DataError\n",
      "                NotSupportedError\n",
      "        Warning\n",
      "        SpaceInInput\n",
      "        DOMException\n",
      "            IndexSizeErr\n",
      "            DomstringSizeErr\n",
      "            HierarchyRequestErr\n",
      "            WrongDocumentErr\n",
      "            InvalidCharacterErr\n",
      "            NoDataAllowedErr\n",
      "            NoModificationAllowedErr\n",
      "            NotFoundErr\n",
      "            NotSupportedErr\n",
      "            InuseAttributeErr\n",
      "            InvalidStateErr\n",
      "            SyntaxErr\n",
      "            InvalidModificationErr\n",
      "            NamespaceErr\n",
      "            InvalidAccessErr\n",
      "            ValidationErr\n",
      "        ValidationError\n",
      "        EditReadOnlyBuffer\n",
      "        _Retry\n",
      "        InvalidLayoutError\n",
      "        HeightIsUnknownError\n",
      "        GuardRejection\n",
      "        ParserSyntaxError\n",
      "        InternalParseError\n",
      "        _PositionUpdatingFinished\n",
      "        SimpleGetItemNotFound\n",
      "        UncaughtAttributeError\n",
      "        HasNoContext\n",
      "        ParamIssue\n",
      "        _JediError\n",
      "            InternalError\n",
      "            WrongVersion\n",
      "            RefactoringError\n",
      "        OnErrorLeaf\n",
      "        InvalidPythonEnvironment\n",
      "        MessageError\n",
      "            MessageParseError\n",
      "                HeaderParseError\n",
      "                BoundaryError\n",
      "            MultipartConversionError\n",
      "            CharsetError\n",
      "        HTTPException\n",
      "            NotConnected\n",
      "            InvalidURL\n",
      "            UnknownProtocol\n",
      "            UnknownTransferEncoding\n",
      "            UnimplementedFileMode\n",
      "            IncompleteRead\n",
      "            ImproperConnectionState\n",
      "                CannotSendRequest\n",
      "                CannotSendHeader\n",
      "                ResponseNotReady\n",
      "            BadStatusLine\n",
      "                RemoteDisconnected\n",
      "            LineTooLong\n",
      "        InteractivelyDefined\n",
      "        KillEmbedded\n",
      "        Error\n",
      "            NoSuchProcess\n",
      "                ZombieProcess\n",
      "            AccessDenied\n",
      "            TimeoutExpired\n",
      "        Error\n",
      "        TimeoutExpired\n",
      "        TimeoutAbandoned\n",
      "        QueueEmpty\n",
      "        QueueFull\n",
      "        DebuggerInitializationError\n",
      "        ExpatError\n",
      "        Error\n",
      "            ProtocolError\n",
      "            ResponseError\n",
      "            Fault\n",
      "        ParserSyntaxError\n",
      "        ResolutionError\n",
      "            VersionConflict\n",
      "                ContextualVersionConflict\n",
      "            DistributionNotFound\n",
      "            UnknownExtra\n",
      "        _Error\n",
      "        UnableToResolveVariableException\n",
      "        InvalidTypeInArgsException\n",
      "        ConverterError\n",
      "            ConverterLockError\n",
      "        MAError\n",
      "            MaskError\n",
      "        Error\n",
      "            UnknownTimeZoneError\n",
      "            InvalidTimeError\n",
      "                AmbiguousTimeError\n",
      "                NonExistentTimeError\n",
      "        ArrowException\n",
      "            ArrowInvalid\n",
      "            ArrowMemoryError\n",
      "            ArrowKeyError\n",
      "            ArrowTypeError\n",
      "            ArrowNotImplementedError\n",
      "            ArrowCapacityError\n",
      "            ArrowIndexError\n",
      "            ArrowSerializationError\n",
      "            ArrowCancelled\n",
      "        NumbaUtilError\n",
      "        InvalidIndexError\n",
      "        DataError\n",
      "        SpecificationError\n",
      "        IndexingError\n",
      "        PossibleDataLossError\n",
      "        ClosedFileError\n",
      "        LossySetitemError\n",
      "        NoBufferPresent\n",
      "        InvalidComparison\n",
      "        ParseError\n",
      "        Error\n",
      "        TarError\n",
      "            ExtractError\n",
      "            ReadError\n",
      "            CompressionError\n",
      "            StreamError\n",
      "            HeaderError\n",
      "                EmptyHeaderError\n",
      "                TruncatedHeaderError\n",
      "                EOFHeaderError\n",
      "                InvalidHeaderError\n",
      "                SubsequentHeaderError\n",
      "            FilterError\n",
      "                AbsolutePathError\n",
      "                OutsideDestinationError\n",
      "                SpecialFileError\n",
      "                AbsoluteLinkError\n",
      "                LinkOutsideDestinationError\n",
      "    GeneratorExit\n",
      "    KeyboardInterrupt\n",
      "    SystemExit\n",
      "    CancelledError\n",
      "    AbortThread\n"
     ]
    }
   ],
   "source": [
    "import inspect\n",
    "\n",
    "def print_exception_hierarchy(exception_class, indent=0):\n",
    "    print(\" \" * indent + exception_class.__name__)\n",
    "    for subclass in exception_class.__subclasses__():\n",
    "        print_exception_hierarchy(subclass, indent + 4)\n",
    "\n",
    "print(\"Python Exception Hierarchy:\")\n",
    "print_exception_hierarchy(BaseException)"
   ]
  },
  {
   "cell_type": "markdown",
   "id": "a9894c10-af07-427f-916a-0fb0e573d394",
   "metadata": {},
   "source": [
    "# Q3. What errors are defined in the ArithmeticError class? Explain any two with an example."
   ]
  },
  {
   "cell_type": "code",
   "execution_count": 17,
   "id": "fc0fc57d-ac0a-4c67-939f-977ae3c8ecf3",
   "metadata": {},
   "outputs": [],
   "source": [
    "# Answer:-"
   ]
  },
  {
   "cell_type": "markdown",
   "id": "2b74b400-a17d-4a51-be0f-7486b772a31d",
   "metadata": {},
   "source": [
    "The ArithmeticError class in Python is a built-in exception class that serves as the base for all errors related to arithmetic operations,\n",
    "1. ZeroDivisionError - Raised when attempting to divide by zero.\n",
    "2. OverflowError - Raised when a calculation exceeds the maximum limit for a numerical type.\n",
    "3. FloatingPointError - Raised in cases of floating-point operations error.\n",
    "\n",
    "- ZeroDivisionError:- This error is raised when a division is performed with a divisor zero. "
   ]
  },
  {
   "cell_type": "code",
   "execution_count": 22,
   "id": "5a69d217-7499-427a-b8fe-15b281cf7d5a",
   "metadata": {},
   "outputs": [
    {
     "name": "stdout",
     "output_type": "stream",
     "text": [
      "Error : division by zero\n"
     ]
    }
   ],
   "source": [
    "try:\n",
    "    result=10/0\n",
    "except ZeroDivisionError as e:\n",
    "    print(\"Error :\",e)"
   ]
  },
  {
   "cell_type": "markdown",
   "id": "58a73d35-031e-4e0b-a868-af47be6a075f",
   "metadata": {},
   "source": [
    "- OverflowError:- This error is raised when a numeric operation (like exponentiation) produces a result that is too large to be represented within the available memory. It commonly occurs with very large floating-point numbers."
   ]
  },
  {
   "cell_type": "code",
   "execution_count": 27,
   "id": "4ad59fe5-aa73-4439-9057-123c4f5aed8f",
   "metadata": {},
   "outputs": [
    {
     "name": "stdout",
     "output_type": "stream",
     "text": [
      "Error: math range error\n"
     ]
    }
   ],
   "source": [
    "import math\n",
    "\n",
    "try:\n",
    "    result = math.exp(1000) \n",
    "except OverflowError as e:\n",
    "    print(\"Error:\", e)"
   ]
  },
  {
   "cell_type": "code",
   "execution_count": 29,
   "id": "bd057087-ca8c-4afd-98b3-d82ea85470be",
   "metadata": {},
   "outputs": [
    {
     "data": {
      "text/plain": [
       "22026.465794806718"
      ]
     },
     "execution_count": 29,
     "metadata": {},
     "output_type": "execute_result"
    }
   ],
   "source": [
    "math.exp(10)"
   ]
  },
  {
   "cell_type": "markdown",
   "id": "3f8cc969-43c9-4850-a106-992466a0a298",
   "metadata": {},
   "source": [
    "# Q4. Why LookupError class is used? Explain with an example KeyError and IndexError."
   ]
  },
  {
   "cell_type": "code",
   "execution_count": null,
   "id": "71a8b5fa-4b24-4efe-a266-672004a709a2",
   "metadata": {},
   "outputs": [],
   "source": []
  },
  {
   "cell_type": "markdown",
   "id": "80dd5b7f-5b3c-41c3-9fc2-8540fabdcfab",
   "metadata": {},
   "source": [
    "The LookupError class in Python is a base class for exceptions that occur when a specified key or index is not found in a sequence or mapping. It serves as the parent class for more specific lookup-related errors like KeyError and IndexError.\n",
    "- keyError:- This error is raised when trying to access a dictionary with a key that does not exist in the dictionary."
   ]
  },
  {
   "cell_type": "code",
   "execution_count": 33,
   "id": "9e83c685-a1a5-4f1d-b78d-60bf7377ffeb",
   "metadata": {},
   "outputs": [
    {
     "name": "stdout",
     "output_type": "stream",
     "text": [
      "Error: 'address'\n"
     ]
    }
   ],
   "source": [
    "my_dict = {\"name\": \"Alice\", \"age\": 25}\n",
    "\n",
    "try:\n",
    "    value = my_dict[\"address\"]\n",
    "except KeyError as e:\n",
    "    print(\"Error:\", e)"
   ]
  },
  {
   "cell_type": "markdown",
   "id": "ba8b47dc-2eab-4f11-bfad-5c36d6464b9e",
   "metadata": {},
   "source": [
    "- IndexError:- This error is raised when attempting to access an index that is outside the range of indices for a list, tuple, or other indexed collection."
   ]
  },
  {
   "cell_type": "code",
   "execution_count": 35,
   "id": "b2762f1c-ecff-4115-b5fd-87103066c74a",
   "metadata": {},
   "outputs": [
    {
     "name": "stdout",
     "output_type": "stream",
     "text": [
      "Error: list index out of range\n"
     ]
    }
   ],
   "source": [
    "my_list = [1, 2, 3]\n",
    "\n",
    "try:\n",
    "    value = my_list[5] \n",
    "except IndexError as e:\n",
    "    print(\"Error:\", e)"
   ]
  },
  {
   "cell_type": "markdown",
   "id": "9bd6e00a-f90b-42ae-92a4-bcabaf3c8ee3",
   "metadata": {},
   "source": [
    "# Q5. Explain ImportError. What is ModuleNotFoundError?"
   ]
  },
  {
   "cell_type": "code",
   "execution_count": 41,
   "id": "8b6a1423-cefb-46fc-8039-7a047e95db8e",
   "metadata": {},
   "outputs": [],
   "source": [
    "# Answer:-"
   ]
  },
  {
   "cell_type": "markdown",
   "id": "305e3aa6-fbd3-4b0c-a316-d14024da5c5c",
   "metadata": {},
   "source": [
    "ImportError is raised when Python fails to import a module or cannot find a particular function, class, or variable in an imported module. This error generally occurs if:\n",
    "\n",
    "- The module doesn’t exist.\n",
    "- There is an issue with the path to the module.\n",
    "- A specific function or class is not present in the module being imported."
   ]
  },
  {
   "cell_type": "code",
   "execution_count": 49,
   "id": "84112bfa-dcb5-413d-9a5f-6ae829f68275",
   "metadata": {},
   "outputs": [
    {
     "name": "stdout",
     "output_type": "stream",
     "text": [
      "ImportError: cannot import name 'square_root' from 'math' (unknown location)\n"
     ]
    }
   ],
   "source": [
    "try:\n",
    "    from math import square_root \n",
    "except ImportError as e:\n",
    "    print(\"ImportError:\", e)"
   ]
  },
  {
   "cell_type": "markdown",
   "id": "7cde51a6-f15d-44ef-a090-df1819044ac6",
   "metadata": {},
   "source": [
    "# Q6. List down some best practices for exception handling in python."
   ]
  },
  {
   "cell_type": "code",
   "execution_count": null,
   "id": "bb100990-a5ca-4036-a571-28be895530ad",
   "metadata": {},
   "outputs": [],
   "source": []
  },
  {
   "cell_type": "markdown",
   "id": "710f7b69-acf5-4542-b4cc-ae4dbb9dd12c",
   "metadata": {},
   "source": [
    "1. Use Specific Exceptions\n",
    "Always catch specific exceptions instead of using a generic Exception or BaseException. This makes your code clearer and helps avoid catching unexpected errors."
   ]
  },
  {
   "cell_type": "code",
   "execution_count": 54,
   "id": "a7dd4349-3061-4a3b-94ea-18876f98876d",
   "metadata": {},
   "outputs": [
    {
     "name": "stdout",
     "output_type": "stream",
     "text": [
      "Cannot divide by zero.\n"
     ]
    }
   ],
   "source": [
    "try:\n",
    "    result = 10 / 0\n",
    "except ZeroDivisionError:\n",
    "    print(\"Cannot divide by zero.\")"
   ]
  },
  {
   "cell_type": "markdown",
   "id": "00554ac6-c769-4a1d-b577-46771282ce52",
   "metadata": {},
   "source": [
    "2. Avoid Bare Except Clauses\n",
    "Avoid using except: without specifying an exception type. This can hide real errors and make debugging difficult."
   ]
  },
  {
   "cell_type": "code",
   "execution_count": 58,
   "id": "7d0ab153-5996-4279-b8bf-4d210a2d3802",
   "metadata": {},
   "outputs": [
    {
     "name": "stdout",
     "output_type": "stream",
     "text": [
      "ValueError occurred. Could not convert string to int.\n"
     ]
    }
   ],
   "source": [
    "try:\n",
    "    result = int(\"a string\")\n",
    "except ValueError:\n",
    "    print(\"ValueError occurred. Could not convert string to int.\")"
   ]
  },
  {
   "cell_type": "markdown",
   "id": "b2896046-d7a1-4c77-9c41-9ad57ae5e57c",
   "metadata": {},
   "source": [
    "3. Use Finally for Cleanup\n",
    "Use finally to release resources, such as closing files or database connections, regardless of whether an exception occurred."
   ]
  },
  {
   "cell_type": "code",
   "execution_count": 63,
   "id": "7f2b9935-995a-47cc-8a42-020747a9450c",
   "metadata": {},
   "outputs": [
    {
     "ename": "FileNotFoundError",
     "evalue": "[Errno 2] No such file or directory: 'data.txt'",
     "output_type": "error",
     "traceback": [
      "\u001b[1;31m---------------------------------------------------------------------------\u001b[0m",
      "\u001b[1;31mFileNotFoundError\u001b[0m                         Traceback (most recent call last)",
      "Cell \u001b[1;32mIn[63], line 1\u001b[0m\n\u001b[1;32m----> 1\u001b[0m file \u001b[38;5;241m=\u001b[39m \u001b[38;5;28mopen\u001b[39m(\u001b[38;5;124m\"\u001b[39m\u001b[38;5;124mdata.txt\u001b[39m\u001b[38;5;124m\"\u001b[39m, \u001b[38;5;124m\"\u001b[39m\u001b[38;5;124mr\u001b[39m\u001b[38;5;124m\"\u001b[39m)\n\u001b[0;32m      2\u001b[0m \u001b[38;5;28;01mtry\u001b[39;00m:\n\u001b[0;32m      3\u001b[0m     data \u001b[38;5;241m=\u001b[39m file\u001b[38;5;241m.\u001b[39mread()\n",
      "File \u001b[1;32m~\\anaconda3\\Lib\\site-packages\\IPython\\core\\interactiveshell.py:310\u001b[0m, in \u001b[0;36m_modified_open\u001b[1;34m(file, *args, **kwargs)\u001b[0m\n\u001b[0;32m    303\u001b[0m \u001b[38;5;28;01mif\u001b[39;00m file \u001b[38;5;129;01min\u001b[39;00m {\u001b[38;5;241m0\u001b[39m, \u001b[38;5;241m1\u001b[39m, \u001b[38;5;241m2\u001b[39m}:\n\u001b[0;32m    304\u001b[0m     \u001b[38;5;28;01mraise\u001b[39;00m \u001b[38;5;167;01mValueError\u001b[39;00m(\n\u001b[0;32m    305\u001b[0m         \u001b[38;5;124mf\u001b[39m\u001b[38;5;124m\"\u001b[39m\u001b[38;5;124mIPython won\u001b[39m\u001b[38;5;124m'\u001b[39m\u001b[38;5;124mt let you open fd=\u001b[39m\u001b[38;5;132;01m{\u001b[39;00mfile\u001b[38;5;132;01m}\u001b[39;00m\u001b[38;5;124m by default \u001b[39m\u001b[38;5;124m\"\u001b[39m\n\u001b[0;32m    306\u001b[0m         \u001b[38;5;124m\"\u001b[39m\u001b[38;5;124mas it is likely to crash IPython. If you know what you are doing, \u001b[39m\u001b[38;5;124m\"\u001b[39m\n\u001b[0;32m    307\u001b[0m         \u001b[38;5;124m\"\u001b[39m\u001b[38;5;124myou can use builtins\u001b[39m\u001b[38;5;124m'\u001b[39m\u001b[38;5;124m open.\u001b[39m\u001b[38;5;124m\"\u001b[39m\n\u001b[0;32m    308\u001b[0m     )\n\u001b[1;32m--> 310\u001b[0m \u001b[38;5;28;01mreturn\u001b[39;00m io_open(file, \u001b[38;5;241m*\u001b[39margs, \u001b[38;5;241m*\u001b[39m\u001b[38;5;241m*\u001b[39mkwargs)\n",
      "\u001b[1;31mFileNotFoundError\u001b[0m: [Errno 2] No such file or directory: 'data.txt'"
     ]
    }
   ],
   "source": [
    "file = open(\"data.txt\", \"r\")\n",
    "try:\n",
    "    data = file.read()\n",
    "finally:\n",
    "    file.close()"
   ]
  },
  {
   "cell_type": "code",
   "execution_count": null,
   "id": "5718e1ed-ed84-4458-8243-457b7d5bcaab",
   "metadata": {},
   "outputs": [],
   "source": []
  },
  {
   "cell_type": "code",
   "execution_count": null,
   "id": "8225d299-b487-4cb5-b233-00dc4bc0cf3a",
   "metadata": {},
   "outputs": [],
   "source": []
  }
 ],
 "metadata": {
  "kernelspec": {
   "display_name": "Python 3 (ipykernel)",
   "language": "python",
   "name": "python3"
  },
  "language_info": {
   "codemirror_mode": {
    "name": "ipython",
    "version": 3
   },
   "file_extension": ".py",
   "mimetype": "text/x-python",
   "name": "python",
   "nbconvert_exporter": "python",
   "pygments_lexer": "ipython3",
   "version": "3.11.7"
  }
 },
 "nbformat": 4,
 "nbformat_minor": 5
}
