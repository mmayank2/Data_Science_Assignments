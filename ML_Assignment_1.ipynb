{
 "cells": [
  {
   "cell_type": "markdown",
   "id": "2a558073",
   "metadata": {},
   "source": [
    "# Assignment 1 _Machine Learning"
   ]
  },
  {
   "cell_type": "raw",
   "id": "27b90521",
   "metadata": {},
   "source": [
    "1. Explain the following with example:-\n",
    "    i. Artificial Intelligence\n",
    "    ii. Machine Learning\n",
    "    iii. Deep Learning"
   ]
  },
  {
   "cell_type": "markdown",
   "id": "107e5e51",
   "metadata": {},
   "source": [
    "<font color=\"red\">Answer :-</font>"
   ]
  },
  {
   "cell_type": "markdown",
   "id": "924718c5",
   "metadata": {},
   "source": [
    "i. Artificial Intelligence:- Artificial Intelligence is a smart machine that can perform its own task without any human interaction.<br>\n",
    "    Example:-Virtual Personal Assistants:- <br>Siri, Google Assistant and alexa :- These are voice activated personal assistant that use natural language processing to understand and resposd to user commands or question."
   ]
  },
  {
   "cell_type": "markdown",
   "id": "ee52c43c",
   "metadata": {},
   "source": [
    "ii. Machine Learning :- Machine Learning is a subset of artificial intelligence that provide statistics tools to learn, analyze, viusalize and develop predictive models from data.\n",
    "Example:- Recommendation systems:-\n",
    "Content Recommendations,Recommending product,movies,music or articles based on user's Preferences and behavior used in pplatforms like Netflix and spotify."
   ]
  },
  {
   "cell_type": "markdown",
   "id": "7ab1cb5e",
   "metadata": {},
   "source": [
    "iii. Deep Learning:- Deep learning is a subfield of machine learning that focuses on training artificial neural networks to perform tasks without being explicitly programmed.Here we try to mimic human brain.\n",
    "Example:-Speech Recognition:\n",
    "Google's DeepSpeech, Amazon's Alexa: Deep learning models have significantly improved the accuracy and performance of speech recognition systems, leading to advancements in voice assistants and transcription services."
   ]
  },
  {
   "cell_type": "markdown",
   "id": "19b2512c",
   "metadata": {},
   "source": [
    "2. What is supervised machine learning? List some example of supervised learning."
   ]
  },
  {
   "cell_type": "markdown",
   "id": "9885d358",
   "metadata": {},
   "source": [
    "<font color=\"red\">Answer :- </font>"
   ]
  },
  {
   "cell_type": "markdown",
   "id": "c122f313",
   "metadata": {},
   "source": [
    "Supervised machine learning is a type of machine learning in which the model is trained on a labeled dataset. This means that the training data includes both input features and the corresponding correct output or target variable.\n",
    "\n",
    "<u>Types of Supervised Learning:</u><br>\n",
    "i. Regression: In regression the target variable is continuous, and the goal is to predict a numerical value.\n",
    "Examples :- include predicting house prices, temperature, or sales revenue.<br>\n",
    "ii. Classification: In classification tasks, the target variable is categorical, and the goal is to predict the class or category to which a new data point belongs. \n",
    "Examples:- include spam or non-spam email classification, sentiment analysis, and image recognition."
   ]
  },
  {
   "cell_type": "markdown",
   "id": "48886bbb",
   "metadata": {},
   "source": [
    "Q3. what is unsupervised learning? List some example of unsupervised learning?"
   ]
  },
  {
   "cell_type": "markdown",
   "id": "458751e7",
   "metadata": {},
   "source": [
    "<font color=\"red\">Answer:-</font>"
   ]
  },
  {
   "cell_type": "markdown",
   "id": "ec4cad36",
   "metadata": {},
   "source": [
    "Unsupervised learning is a type of machine learning where model is trained on unlabeled data meaning that the algorithm learn pattern and structure from the data without any explicit supervision or guidance. The main goal of unsupervised learning is to discover hidden pattern or structure within the data.<br>\n",
    "Example:-Imagine you have a dataset with information about different types of fruits, but there are no labels indicating which fruits are which. The dataset includes features like color, size, and weight. You want to group similar fruits together without knowing their names in advance."
   ]
  },
  {
   "cell_type": "markdown",
   "id": "1de02653",
   "metadata": {},
   "source": [
    "Q4. what is the differnece between AI,ML,DL and DS?"
   ]
  },
  {
   "cell_type": "markdown",
   "id": "a86f6b46",
   "metadata": {},
   "source": [
    "<font color=\"red\">Answer :</font>"
   ]
  },
  {
   "cell_type": "markdown",
   "id": "2638444e",
   "metadata": {},
   "source": [
    "AI:- AI stand for Artificial intelligence, it is a smart machine that can perform its own task without any human interaction.<br>\n",
    "ML:- ML is stand for Machine Learning, it is the subset of AI, it provide stats tools to learn, analyze,visualize and develop predictive model from data.<br>\n",
    "DL:- DL is stand for Deep Learning, it is a subpart of Machine Learning , it involves the use of nural networks with many layers. These network are capable of learning complex hierarchical representation of data. <br>\n",
    "DS:- DS is stand for Data Science, it is the study of the data to extract meaningful insight for business. it is a multidisciplinary approach that combines principles and practices from the fields of mathematics,statistics,artificial intelligence and computer engineering to analyze large amounts of data."
   ]
  },
  {
   "cell_type": "markdown",
   "id": "ea22ab88",
   "metadata": {},
   "source": [
    "Q5. What is the main difference between supervised, unsupervised and semisupervised learning?"
   ]
  },
  {
   "cell_type": "markdown",
   "id": "46497750",
   "metadata": {},
   "source": [
    "<font color=\"red\">Answer :-</font>"
   ]
  },
  {
   "cell_type": "markdown",
   "id": "5becffff",
   "metadata": {},
   "source": [
    "Supervised machine learning is a type of machine learning in which the model is trained on a labeled dataset.<br>\n",
    "Unsupervised learning is a type of machine learning where model is trained on unlabeled data.<br>\n",
    "Semi-supervised learning uses a combination of labeled and unlabeled data for training.\n"
   ]
  },
  {
   "cell_type": "markdown",
   "id": "e6e5d6be",
   "metadata": {},
   "source": [
    "Q6. What is train, test and validation split? Explain the importance of each of them."
   ]
  },
  {
   "cell_type": "markdown",
   "id": "c1682c33",
   "metadata": {},
   "source": [
    "<font color=\"red\">Answer :- </font>"
   ]
  },
  {
   "cell_type": "markdown",
   "id": "6ceea297",
   "metadata": {},
   "source": [
    "Training set:- The training set is a portion of the dataset that is used to train the machine learning model. It contains both input features and their corresponding target labels. This is where the model learns the patterns and relationships in the data.\n",
    "\n",
    "validation set :- The validation set is a portion of the dataset that is used to fine-tune the model hyperparameters and to provide an unbiased evaluation of a model fit during training.\n",
    "The validation set helps prevent overfitting. By periodically evaluating the model on a separate set of data that it hasn't seen during training, you can make adjustments to the model to ensure it's not too specialized to the training data.\n",
    "\n",
    "Test set :- The test set is a portion of the dataset that is not seen by the model during training or validation. It's used to provide an unbiased evaluation of a final model fit. The test set gives an estimate of the model's performance on unseen data."
   ]
  },
  {
   "cell_type": "markdown",
   "id": "52ef45d7",
   "metadata": {},
   "source": [
    "Q7. How can unsupervised learning be used in anomaly detection ? "
   ]
  },
  {
   "cell_type": "markdown",
   "id": "19d349a1",
   "metadata": {},
   "source": [
    "<font color=\"red\">Answer :- </font>"
   ]
  },
  {
   "cell_type": "markdown",
   "id": "230c5496",
   "metadata": {},
   "source": [
    "Unsupervised learning is a powerful approach for anomaly detection, as it does not require labeled data and can learn patterns and structures in data on its own. Here's how unsupervised learning can be used for anomaly detection:-<br>\n",
    "1. Clustering: One common approach is to use clustering algorithms like K-Means or DBSCAN. The idea is to group similar data points together, assuming that anomalies will form separate, smaller clusters or exist as outliers.<br>\n",
    "2. Density Estimation: Techniques like Kernel Density Estimation (KDE) or One-Class SVM (Support Vector Machine) estimate the probability density function of the data. Data points in low-density regions are considered potential anomalies."
   ]
  },
  {
   "cell_type": "markdown",
   "id": "6e450185",
   "metadata": {},
   "source": [
    "Q8. List down some commonly used supervised learning algorithms and unsupervised learning algorithm?"
   ]
  },
  {
   "cell_type": "markdown",
   "id": "0c386c05",
   "metadata": {},
   "source": [
    "<font color=\"red\">Answer :- </font><br> <br>\n",
    "Here some list of some commonly used supervised and unsupervised learning algorithm :- <br><br>\n",
    "<font color=\"red\">Supervised Learning Algorithms: </font>\n",
    "\n",
    "Linear Regression: Used for predicting a continuous target variable based on one or more input features.\n",
    "\n",
    "Logistic Regression: Used for binary classification tasks, predicting the probability of an example belonging to a particular class.\n",
    "\n",
    "Decision Trees: Tree-like models where decisions are made based on feature values. They can be used for both classification and regression.\n",
    "\n",
    "Random Forest: An ensemble method that combines multiple decision trees to improve accuracy and reduce overfitting.\n",
    "\n",
    "Support Vector Machines (SVM): Effective for both classification and regression tasks, finding the best hyperplane that separates classes or predicts a continuous value.\n",
    "\n",
    "K-Nearest Neighbors (KNN): A simple algorithm that classifies a data point by finding the majority class among its k nearest neighbors.\n",
    "\n",
    "Naive Bayes: Based on Bayes' theorem, this algorithm is commonly used for text classification and other tasks.\n",
    "\n",
    "Neural Networks (including Deep Learning): Neural networks, especially deep learning models with many layers, are powerful for complex tasks like image and speech recognition.\n",
    "\n",
    "<font color=\"red\">Unsupervised Learning Algorithms </font>\n",
    "\n",
    "K-Means Clustering: Divides the dataset into K clusters based on similarity or distance metrics.\n",
    "\n",
    "Hierarchical Clustering: Builds a tree-like structure of clusters by successively merging or dividing clusters.\n",
    "\n",
    "PCA (Principal Component Analysis): Reduces the dimensionality of data while preserving important information.\n",
    "\n",
    "Autoencoders: Neural network models used for unsupervised learning, particularly in dimensionality reduction and anomaly detection.\n",
    "\n",
    "DBSCAN (Density-Based Spatial Clustering of Applications with Noise): Groups together data points that are close to each other in feature space.\n",
    "\n",
    "Gaussian Mixture Models (GMM): Models data as a mixture of several Gaussian distributions and can be used for clustering.\n",
    "\n",
    "Isolation Forest: An ensemble learning method for anomaly detection based on isolating anomalies in decision trees.\n",
    "\n",
    "Self-Organizing Maps (SOM): A type of neural network used for dimensionality reduction and visualization of high-dimensional data."
   ]
  },
  {
   "cell_type": "code",
   "execution_count": null,
   "id": "0e0ba724",
   "metadata": {},
   "outputs": [],
   "source": []
  }
 ],
 "metadata": {
  "kernelspec": {
   "display_name": "Python 3 (ipykernel)",
   "language": "python",
   "name": "python3"
  },
  "language_info": {
   "codemirror_mode": {
    "name": "ipython",
    "version": 3
   },
   "file_extension": ".py",
   "mimetype": "text/x-python",
   "name": "python",
   "nbconvert_exporter": "python",
   "pygments_lexer": "ipython3",
   "version": "3.9.7"
  }
 },
 "nbformat": 4,
 "nbformat_minor": 5
}
