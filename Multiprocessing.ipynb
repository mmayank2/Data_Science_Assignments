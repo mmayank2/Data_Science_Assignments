{
 "cells": [
  {
   "cell_type": "markdown",
   "id": "f0589a06-ebb2-4979-acf3-1e4dc47782f3",
   "metadata": {},
   "source": [
    "# 1. What is multiprocessing in python? Why is it useful?"
   ]
  },
  {
   "cell_type": "markdown",
   "id": "4187c286-149b-412b-883f-8c96182ab49f",
   "metadata": {},
   "source": [
    "# Answer:-"
   ]
  },
  {
   "cell_type": "markdown",
   "id": "015bc9af-b717-495c-957b-d4a52dce422b",
   "metadata": {},
   "source": [
    "Multiprocessing in Python is a way to run multiple parts of a program at the same time by creating separate processes (independent mini-programs). Each process runs on its own CPU core, which means they don’t share memory and can truly work in parallel, unlike multithreading.\n",
    "- Bypasses the GIL\n",
    "- Improved Performance for CPU-Bound Tasks\n",
    "- Better Resource Utilization\n",
    "- Isolation Between Processes"
   ]
  },
  {
   "cell_type": "markdown",
   "id": "2cba2775-95c0-42c7-a2b3-c7187519eb62",
   "metadata": {},
   "source": [
    "# Q2. What are the differences between multiprocessing and multithreading?"
   ]
  },
  {
   "cell_type": "markdown",
   "id": "0008a097-5611-4036-8690-a7b74e7175b0",
   "metadata": {},
   "source": [
    "# Answer:-"
   ]
  },
  {
   "cell_type": "markdown",
   "id": "85dc8745-1c80-486e-8ea4-b7f34bfd4c10",
   "metadata": {},
   "source": [
    "# Multithreading\n",
    "- Execution: Multiple threads run within the same process.\n",
    "- Core Usage: Typically uses a single core due to Python’s GIL (Global Interpreter Lock).\n",
    "- Best For: I/O-bound tasks, like network requests, file operations, and web scraping.\n",
    "- Memory Sharing: Threads share the same memory space.\n",
    "- Parallelism: Limited parallelism due to the GIL; only one thread can execute Python bytecode at a time.\n",
    "- Data Sharing: Easy to share data between threads.\n",
    "- Resource Usage: Lightweight; threads consume less memory and start faster.\n",
    "- Overhead: Lower overhead with faster switching between threads.\n",
    "- Complexity: Requires careful synchronization to prevent race conditions and deadlocks.\n",
    "- Examples: Web scraping, handling multiple client connections, reading/writing files.\n",
    "# Multiprocessing\n",
    "- Execution: Multiple independent processes, each with its own memory space.\n",
    "- Core Usage: Can utilize multiple CPU cores for true parallelism, bypassing the GIL.\n",
    "- Best For: CPU-bound tasks, like data processing, image manipulation, and machine learning.\n",
    "- Memory Sharing: Processes do not share memory by default, leading to isolated memory spaces.\n",
    "- Parallelism: True parallelism across multiple CPU cores.\n",
    "- Data Sharing: Harder; requires inter-process communication mechanisms like pipes or queues.\n",
    "- Resource Usage: More memory-intensive; each process has its own memory allocation.\n",
    "- Overhead: Higher overhead, as starting a new process is more resource-consuming.\n",
    "- Complexity: Less prone to race conditions, but requires explicit data-sharing methods.\n",
    "- Examples: Image processing, machine learning, scientific simulations, large-scale data processing.\n",
    "\n",
    "\n",
    "\n",
    "\n",
    "\n"
   ]
  },
  {
   "cell_type": "markdown",
   "id": "b9bd98a1-a98f-4893-9c4f-75e3aaefffa8",
   "metadata": {},
   "source": [
    "# Q3. Write a python code to create a process using the multiprocessing module."
   ]
  },
  {
   "cell_type": "markdown",
   "id": "114233c7-cb1f-4956-b31c-04722d818ef3",
   "metadata": {},
   "source": [
    "# Answer:-"
   ]
  },
  {
   "cell_type": "code",
   "execution_count": 31,
   "id": "a64c526c-c678-4de7-926b-763f6f615f21",
   "metadata": {},
   "outputs": [
    {
     "name": "stdout",
     "output_type": "stream",
     "text": [
      "Both processes completed.\n"
     ]
    }
   ],
   "source": [
    "from multiprocessing import Process\n",
    "\n",
    "# Function to calculate squares\n",
    "def calculate_squares(numbers):\n",
    "    print(\"Calculating squares:\")\n",
    "    for n in numbers:\n",
    "        print(f\"Square of {n} is {n * n}\")\n",
    "\n",
    "# Function to calculate cubes\n",
    "def calculate_cubes(numbers):\n",
    "    print(\"Calculating cubes:\")\n",
    "    for n in numbers:\n",
    "        print(f\"Cube of {n} is {n * n * n}\")\n",
    "\n",
    "if __name__ == \"__main__\":\n",
    "    # List of numbers to process\n",
    "    numbers = [1, 2, 3, 4, 5]\n",
    "    \n",
    "    # Create two processes\n",
    "    process1 = Process(target=calculate_squares, args=(numbers,))\n",
    "    process2 = Process(target=calculate_cubes, args=(numbers,))\n",
    "    \n",
    "    # Start the processes\n",
    "    process1.start()\n",
    "    process2.start()\n",
    "    \n",
    "    # Wait for both processes to finish\n",
    "    process1.join()\n",
    "    process2.join()\n",
    "    \n",
    "    print(\"Both processes completed.\")"
   ]
  },
  {
   "cell_type": "markdown",
   "id": "9bfaf1f4-e48d-4cdb-b2f7-2bb8ddf26d70",
   "metadata": {},
   "source": [
    "# Q4. What is a multiprocessing pool in python? Why is it used?"
   ]
  },
  {
   "cell_type": "markdown",
   "id": "447636f8-4eae-4cc7-8dea-e46f84088be7",
   "metadata": {},
   "source": [
    "# Answer:-"
   ]
  },
  {
   "cell_type": "markdown",
   "id": "9b47d8c0-deab-466f-963d-771eebbd9d98",
   "metadata": {},
   "source": [
    "In Python, a multiprocessing pool is a powerful tool for parallel programming, allowing you to distribute tasks across multiple CPU cores. It's particularly useful for computationally intensive tasks that can be broken down into smaller, independent subtasks.\n",
    "\n",
    "\n",
    "1. Improved Performance:\n",
    "\n",
    "- By leveraging multiple cores, you can significantly speed up the execution of your code, especially for CPU-bound tasks.\n",
    "This is particularly advantageous for modern multi-core and multi-processor systems.\n",
    "\n",
    "2. Efficient Resource Utilization:\n",
    "\n",
    "- The pool efficiently manages the allocation of tasks to available cores, ensuring optimal resource utilization.\n",
    "This helps prevent idle CPU time and maximizes throughput.\n",
    "\n",
    "3. Simplified Parallel Programming:\n",
    "\n",
    "- The multiprocessing pool provides a high-level abstraction for parallel programming, making it easier to write and maintain parallel code.\n",
    "You can focus on defining the tasks to be executed, and the pool handles the distribution and execution."
   ]
  },
  {
   "cell_type": "code",
   "execution_count": null,
   "id": "c3211dc0-a109-4ac9-a3be-1f7560812006",
   "metadata": {},
   "outputs": [],
   "source": [
    "import multiprocessing\n",
    "\n",
    "def square(x):\n",
    "    return x * x\n",
    "\n",
    "if __name__ == '__main__':\n",
    "    with multiprocessing.Pool(processes=2) as pool:\n",
    "        results = pool.map(square, [1, 2, 3, 4, 5])\n",
    "        print(results)"
   ]
  },
  {
   "cell_type": "markdown",
   "id": "05620a5a-746c-4c7b-a999-3a9abce79bde",
   "metadata": {},
   "source": [
    "# Q6. Write a python program to create 4 processes, each process should print a different number using the multiprocessing module in python."
   ]
  },
  {
   "cell_type": "code",
   "execution_count": null,
   "id": "b56f649a-7e58-40b4-8e3a-8e0d69a35030",
   "metadata": {},
   "outputs": [],
   "source": [
    "# Answer:-"
   ]
  },
  {
   "cell_type": "code",
   "execution_count": null,
   "id": "eb7cf0bf-65f3-41bb-bdd1-32cfb5fcaf6e",
   "metadata": {},
   "outputs": [],
   "source": []
  }
 ],
 "metadata": {
  "kernelspec": {
   "display_name": "Python 3 (ipykernel)",
   "language": "python",
   "name": "python3"
  },
  "language_info": {
   "codemirror_mode": {
    "name": "ipython",
    "version": 3
   },
   "file_extension": ".py",
   "mimetype": "text/x-python",
   "name": "python",
   "nbconvert_exporter": "python",
   "pygments_lexer": "ipython3",
   "version": "3.11.7"
  }
 },
 "nbformat": 4,
 "nbformat_minor": 5
}
