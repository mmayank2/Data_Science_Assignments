{
 "cells": [
  {
   "cell_type": "markdown",
   "id": "7641b5a3",
   "metadata": {},
   "source": [
    "import numpy as np <br>\n",
    "list_ = [ ‘1’ , ’2’ , ‘3’ , ‘4’ , ‘5’ ] <br>\n",
    "array_list = np.array(object = list_) <br><br>\n",
    "<font color=\"red\">\n",
    "Q1. Is there any difference in the data type of variables list_ and array_list? If there is then write a code\n",
    "to print the data types of both the variables.</font>"
   ]
  },
  {
   "cell_type": "code",
   "execution_count": 1,
   "id": "aa0d33bf",
   "metadata": {},
   "outputs": [],
   "source": [
    "import numpy as np\n",
    "list_=['1','2','3','4','5']\n",
    "array_list=np.array(object=list_)"
   ]
  },
  {
   "cell_type": "markdown",
   "id": "a88e0910",
   "metadata": {},
   "source": [
    "<font color='red'>Answer:-</font>\n",
    "Yes, there is a difference in the data type of variables list_ and array_list.\n",
    "In this code 'list_' is a python list while 'array_list' is a numpy array."
   ]
  },
  {
   "cell_type": "code",
   "execution_count": 7,
   "id": "86e72155",
   "metadata": {},
   "outputs": [
    {
     "name": "stdout",
     "output_type": "stream",
     "text": [
      "data type of list_ <class 'list'>\n",
      "data type of array_list <class 'numpy.ndarray'>\n"
     ]
    }
   ],
   "source": [
    "print(\"data type of list_\",type(list_))\n",
    "print(\"data type of array_list\",type(array_list))"
   ]
  },
  {
   "cell_type": "markdown",
   "id": "f32e8098",
   "metadata": {},
   "source": [
    "<font color=\"red\">Q2. Write a code to print the data type of each and every element of both the variables list_ and\n",
    "array_list.</font>"
   ]
  },
  {
   "cell_type": "code",
   "execution_count": 9,
   "id": "aa16f8cc",
   "metadata": {},
   "outputs": [
    {
     "name": "stdout",
     "output_type": "stream",
     "text": [
      "<class 'str'>\n",
      "<class 'str'>\n",
      "<class 'str'>\n",
      "<class 'str'>\n",
      "<class 'str'>\n"
     ]
    }
   ],
   "source": [
    "for i in list_:\n",
    "    print(type(i))"
   ]
  },
  {
   "cell_type": "code",
   "execution_count": 10,
   "id": "29663d90",
   "metadata": {},
   "outputs": [
    {
     "name": "stdout",
     "output_type": "stream",
     "text": [
      "<class 'numpy.str_'>\n",
      "<class 'numpy.str_'>\n",
      "<class 'numpy.str_'>\n",
      "<class 'numpy.str_'>\n",
      "<class 'numpy.str_'>\n"
     ]
    }
   ],
   "source": [
    "for i in array_list:\n",
    "    print(type(i))"
   ]
  },
  {
   "cell_type": "markdown",
   "id": "6a0cd8f4",
   "metadata": {},
   "source": [
    "<font color=\"red\">Q3. Considering the following changes in the variable, array_list: <br><br>\n",
    "array_list = np.array(object = list_, dtype = int) <br><br>\n",
    "Will there be any difference in the data type of the elements present in both the variables, list_ and\n",
    "array_list? If so then print the data types of each and every element present in both the variables, list_\n",
    "and arra_list.</font>"
   ]
  },
  {
   "cell_type": "markdown",
   "id": "2fad56eb",
   "metadata": {},
   "source": [
    "<font color=\"red\">Answer :-</font>\n"
   ]
  },
  {
   "cell_type": "code",
   "execution_count": 16,
   "id": "5f206c78",
   "metadata": {},
   "outputs": [
    {
     "name": "stdout",
     "output_type": "stream",
     "text": [
      "[1 2 3 4 5]\n",
      "['1', '2', '3', '4', '5']\n"
     ]
    }
   ],
   "source": [
    "array_list=np.array(object=list_,dtype=int)\n",
    "print(array_list)\n",
    "print(list_)"
   ]
  },
  {
   "cell_type": "markdown",
   "id": "0d82d8aa",
   "metadata": {},
   "source": [
    "yes,there will be differnece in the datatype of the elements present in both the variables list_ and array_list"
   ]
  },
  {
   "cell_type": "code",
   "execution_count": 17,
   "id": "e7c03cf3",
   "metadata": {},
   "outputs": [
    {
     "name": "stdout",
     "output_type": "stream",
     "text": [
      "<class 'numpy.int32'>\n",
      "<class 'numpy.int32'>\n",
      "<class 'numpy.int32'>\n",
      "<class 'numpy.int32'>\n",
      "<class 'numpy.int32'>\n"
     ]
    }
   ],
   "source": [
    "for i in array_list:\n",
    "    print(type(i))"
   ]
  },
  {
   "cell_type": "code",
   "execution_count": 20,
   "id": "205dfee3",
   "metadata": {},
   "outputs": [
    {
     "name": "stdout",
     "output_type": "stream",
     "text": [
      "<class 'str'>\n",
      "<class 'str'>\n",
      "<class 'str'>\n",
      "<class 'str'>\n",
      "<class 'str'>\n"
     ]
    }
   ],
   "source": [
    "for i in list_:\n",
    "    print(type(i))"
   ]
  },
  {
   "cell_type": "markdown",
   "id": "14592cb5",
   "metadata": {},
   "source": [
    "<font color=\"red\">\n",
    "Consider the below code to answer further questions:<br>\n",
    "import numpy as np<br>\n",
    "num_list = [ [ 1 , 2 , 3 ] , [ 4 , 5 , 6 ] ] <br>\n",
    "num_array = np.array(object = num_list) \n",
    "</font>"
   ]
  },
  {
   "cell_type": "code",
   "execution_count": 29,
   "id": "f5d46eb9",
   "metadata": {
    "scrolled": true
   },
   "outputs": [
    {
     "name": "stdout",
     "output_type": "stream",
     "text": [
      "num_list : [[1, 2, 3], [4, 5, 6]]\n",
      "\n",
      "num_array : [[1 2 3]\n",
      " [4 5 6]]\n"
     ]
    }
   ],
   "source": [
    "num_list=[[1,2,3],[4,5,6]]\n",
    "num_array=np.array(object=num_list)\n",
    "print(\"num_list :\",num_list)\n",
    "print()\n",
    "print(\"num_array :\",num_array)"
   ]
  },
  {
   "cell_type": "markdown",
   "id": "f12a779c",
   "metadata": {},
   "source": [
    "<font color=\"red\">Q4. Write a code to find the following characteristics of variable, num_array: <br>\n",
    "(i) shape<br>\n",
    "(ii) size\n",
    "</font>"
   ]
  },
  {
   "cell_type": "markdown",
   "id": "c21fe47e",
   "metadata": {},
   "source": [
    "<font color=\"red\">Answer i. :-</font>"
   ]
  },
  {
   "cell_type": "code",
   "execution_count": 34,
   "id": "82b3f7f5",
   "metadata": {},
   "outputs": [
    {
     "data": {
      "text/plain": [
       "(2, 3)"
      ]
     },
     "execution_count": 34,
     "metadata": {},
     "output_type": "execute_result"
    }
   ],
   "source": [
    "num_array.shape"
   ]
  },
  {
   "cell_type": "markdown",
   "id": "8672abc9",
   "metadata": {},
   "source": [
    "<font color=\"red\">Answer ii. :-</font>"
   ]
  },
  {
   "cell_type": "code",
   "execution_count": 38,
   "id": "3cdb12dd",
   "metadata": {},
   "outputs": [
    {
     "data": {
      "text/plain": [
       "6"
      ]
     },
     "execution_count": 38,
     "metadata": {},
     "output_type": "execute_result"
    }
   ],
   "source": [
    "num_array.size"
   ]
  },
  {
   "cell_type": "markdown",
   "id": "0c502ff3",
   "metadata": {},
   "source": [
    "<font color=\"red\">Q5. Write a code to create numpy array of 3*3 matrix containing zeros only, using a numpy array\n",
    "creation function.</font>"
   ]
  },
  {
   "cell_type": "markdown",
   "id": "08c8b71d",
   "metadata": {},
   "source": [
    "<font color=\"red\">Answer: </font>"
   ]
  },
  {
   "cell_type": "code",
   "execution_count": 43,
   "id": "4d2a2807",
   "metadata": {},
   "outputs": [
    {
     "data": {
      "text/plain": [
       "array([[0, 0, 0],\n",
       "       [0, 0, 0],\n",
       "       [0, 0, 0]])"
      ]
     },
     "execution_count": 43,
     "metadata": {},
     "output_type": "execute_result"
    }
   ],
   "source": [
    "np.zeros((3,3),dtype=int)"
   ]
  },
  {
   "cell_type": "markdown",
   "id": "dfc570f3",
   "metadata": {},
   "source": [
    "<font color=\"red\">Q6. Create an identity matrix of shape (5,5) using numpy functions? </font>"
   ]
  },
  {
   "cell_type": "markdown",
   "id": "54c2206b",
   "metadata": {},
   "source": [
    "<font color=\"red\">Answer:</font>"
   ]
  },
  {
   "cell_type": "code",
   "execution_count": 48,
   "id": "00f30e58",
   "metadata": {},
   "outputs": [
    {
     "data": {
      "text/plain": [
       "array([[0, 0, 0, 0, 0],\n",
       "       [0, 0, 0, 0, 0],\n",
       "       [0, 0, 0, 0, 0],\n",
       "       [0, 0, 0, 0, 0],\n",
       "       [0, 0, 0, 0, 0]])"
      ]
     },
     "execution_count": 48,
     "metadata": {},
     "output_type": "execute_result"
    }
   ],
   "source": [
    "mtx=np.zeros((5,5),dtype=int)\n",
    "mtx"
   ]
  },
  {
   "cell_type": "code",
   "execution_count": 49,
   "id": "83cc103c",
   "metadata": {},
   "outputs": [],
   "source": [
    "np.fill_diagonal(mtx,1)"
   ]
  },
  {
   "cell_type": "code",
   "execution_count": 50,
   "id": "5db82e30",
   "metadata": {},
   "outputs": [
    {
     "data": {
      "text/plain": [
       "array([[1, 0, 0, 0, 0],\n",
       "       [0, 1, 0, 0, 0],\n",
       "       [0, 0, 1, 0, 0],\n",
       "       [0, 0, 0, 1, 0],\n",
       "       [0, 0, 0, 0, 1]])"
      ]
     },
     "execution_count": 50,
     "metadata": {},
     "output_type": "execute_result"
    }
   ],
   "source": [
    "mtx"
   ]
  },
  {
   "cell_type": "code",
   "execution_count": 51,
   "id": "8a77d585",
   "metadata": {},
   "outputs": [],
   "source": [
    "# ----------------------- completed -------------------------------------"
   ]
  },
  {
   "cell_type": "code",
   "execution_count": null,
   "id": "b3622cfc",
   "metadata": {},
   "outputs": [],
   "source": []
  }
 ],
 "metadata": {
  "kernelspec": {
   "display_name": "Python 3 (ipykernel)",
   "language": "python",
   "name": "python3"
  },
  "language_info": {
   "codemirror_mode": {
    "name": "ipython",
    "version": 3
   },
   "file_extension": ".py",
   "mimetype": "text/x-python",
   "name": "python",
   "nbconvert_exporter": "python",
   "pygments_lexer": "ipython3",
   "version": "3.9.7"
  }
 },
 "nbformat": 4,
 "nbformat_minor": 5
}
