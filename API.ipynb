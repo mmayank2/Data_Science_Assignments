{
 "cells": [
  {
   "cell_type": "markdown",
   "id": "96d267b7-ca31-4ed0-9c68-62eecb177663",
   "metadata": {},
   "source": [
    "# API"
   ]
  },
  {
   "cell_type": "markdown",
   "id": "02ad88d4-71c7-478e-9a38-4e8a9dc5bec9",
   "metadata": {},
   "source": [
    "# Q1. What is an API? Give an example, where an API is used in real life."
   ]
  },
  {
   "cell_type": "markdown",
   "id": "37714c35-f88f-4e7b-ad1a-ce7f8ae4951c",
   "metadata": {},
   "source": [
    "API is stand for Application Programming Interface is like a messenger that allows two different software or systems to talk to each other.\n",
    "\n",
    "- Example: When you book a train ticket using an app like paytm, the app uses an API to communicate with the IRCTC service to show you the conform Ticket."
   ]
  },
  {
   "cell_type": "markdown",
   "id": "830cb4d0-f289-4b97-9982-0afe50170d58",
   "metadata": {},
   "source": [
    "# Q2. Give advantages and disadvantages of using API."
   ]
  },
  {
   "cell_type": "markdown",
   "id": "6feba9de-80df-400b-a726-0439818edac4",
   "metadata": {},
   "source": [
    "Advantages:\n",
    "- Easy Integration: APIs let different apps and systems work together seamlessly.\n",
    "- Automation: Tasks like data sharing or updates can be automated.\n",
    "- Customization: Developers can use APIs to add new features to their apps.\n",
    "- Efficiency: APIs reduce the need to start from scratch when building features.\n",
    "<br>Disadvantages:<br>\n",
    "- Security Risks: If not secured properly, APIs can expose sensitive data.\n",
    "- Maintenance: APIs need regular updates to keep working with newer systems.\n",
    "- Dependency: If the API provider makes changes, it can break your app's functionality."
   ]
  },
  {
   "cell_type": "markdown",
   "id": "6e59053e-c873-46e9-b246-4b344825ba58",
   "metadata": {},
   "source": [
    "# Q3. What is a Web API? Differentiate between API and Web API."
   ]
  },
  {
   "cell_type": "markdown",
   "id": "2d61606d-a10f-4a2b-aae1-2e0208732b45",
   "metadata": {},
   "source": [
    "Web API is a type of API specifically designed to be used over the internet, often using protocols like HTTP.<br>\n",
    "API:-\n",
    "- can work offline and online.\n",
    "Example:- Operating system API<br>\n",
    "Web API:-\n",
    "- work only on the internet.\n",
    "Example:- Google map API"
   ]
  },
  {
   "cell_type": "markdown",
   "id": "b280a392-f4ec-4c2b-b89b-5c97d0ce1483",
   "metadata": {},
   "source": [
    "# Q4. Explain REST and SOAP Architecture. Mention shortcomings of SOAP."
   ]
  },
  {
   "cell_type": "markdown",
   "id": "2d0eb50e-ad97-4ae9-849b-d94cbb929ab7",
   "metadata": {},
   "source": [
    "REST (Representational State Transfer):\n",
    "- A lightweight architecture for building web services that use HTTP for communication. It's simple, fast, and uses standard data formats like JSON or XML.\n",
    "<br>\n",
    "SOAP (Simple Object Access Protocol):\n",
    "- A more complex architecture using XML for communication. It has strict standards and is better for secure or transactional systems like banking."
   ]
  },
  {
   "cell_type": "markdown",
   "id": "33597e99-0bf2-4acc-ad01-d4dd7aa12cf3",
   "metadata": {},
   "source": [
    "Shortcomings of SOAP:\n",
    "- Complexity: Requires more coding and setup compared to REST.\n",
    "- Slower: SOAP messages are larger due to XML.\n",
    "- Limited Browser Support: Not ideal for modern web apps.\n"
   ]
  },
  {
   "cell_type": "code",
   "execution_count": null,
   "id": "4fbbdd19-1624-4489-84bd-2a613f49ef44",
   "metadata": {},
   "outputs": [],
   "source": []
  },
  {
   "cell_type": "markdown",
   "id": "9b373cb6-1f56-4d44-9847-2453bfe33383",
   "metadata": {},
   "source": [
    "Feature\tof REST :\n",
    "- Protocol:\tUses HTTP, lightweight.\n",
    "- Data Format:\tJSON, XML (flexible).\n",
    "- Ease of Use:\tEasier to learn and implement.\n",
    "- Speed:\tFaster due to small message size.\n",
    "- Security:\tLess secure but can use HTTPS.\n",
    "- Use Case:\tBest for lightweight web apps.\n",
    "\n",
    "Features of SOAP :\n",
    "- Protocol: Uses its own protocol.\n",
    "- Data: Only XML\n",
    "- Use: complex to implement.\n",
    "- Speed: Slower due to large XML Messages.\n",
    "- Security: Built-in security.\n",
    "- Use case: Best for banking and secure services."
   ]
  },
  {
   "cell_type": "code",
   "execution_count": null,
   "id": "6f0b83df-572c-485c-8820-b2f2c20d7376",
   "metadata": {},
   "outputs": [],
   "source": [
    "Feature\tREST\tSOAP\n",
    "Protocol\tUses HTTP, lightweight.\tUses its own protocol.\n",
    "Data Format\tJSON, XML (flexible).\tOnly XML.\n",
    "Ease of Use\tEasier to learn and implement.\tComplex to implement.\n",
    "Speed\tFaster due to small message size.\tSlower due to large XML messages.\n",
    "Security\tLess secure but can use HTTPS.\tBuilt-in security (WS-Security).\n",
    "Use Case\tBest for lightweight web apps.\tBest for banking and secure services."
   ]
  }
 ],
 "metadata": {
  "kernelspec": {
   "display_name": "Python 3 (ipykernel)",
   "language": "python",
   "name": "python3"
  },
  "language_info": {
   "codemirror_mode": {
    "name": "ipython",
    "version": 3
   },
   "file_extension": ".py",
   "mimetype": "text/x-python",
   "name": "python",
   "nbconvert_exporter": "python",
   "pygments_lexer": "ipython3",
   "version": "3.11.7"
  }
 },
 "nbformat": 4,
 "nbformat_minor": 5
}
