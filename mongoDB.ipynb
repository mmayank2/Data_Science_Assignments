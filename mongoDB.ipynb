{
 "cells": [
  {
   "cell_type": "markdown",
   "id": "82bdc222-60e5-4db8-b5a0-bce2ac3d19dd",
   "metadata": {},
   "source": [
    "# MongoDB "
   ]
  },
  {
   "cell_type": "markdown",
   "id": "aa52e700-cf2b-485b-9563-3124df0d88ee",
   "metadata": {},
   "source": [
    "# Q1. What is MongoDB? Explain non-relational databases in short. In which scenarios it is preferred to use MongoDB over SQL databases?"
   ]
  },
  {
   "cell_type": "markdown",
   "id": "df3951d9-66de-4df5-b5e2-a738fd8c4b89",
   "metadata": {},
   "source": [
    "- Mongodb is a NoSQL database that stores data in a flexible, JSON-like format. Unlike traditional databases, MongoDB doesn’t use tables, rows, or fixed schemas.\n",
    "- Non-relational databases databases don’t rely on a strict structure like SQL databases. They store data as key-value pairs, documents, or graphs, making them ideal for unstructured or semi-structured data.\n",
    "- we can prefer MongoDB over SQL in this scenarios:-\n",
    " 1. When dealing with unstructured or semi-structured data.\n",
    " 2. When you need high scalability and flexibility.\n",
    " 3. For applications with rapidly changing data or schema.\n",
    " 4. For handling large volumes of real-time data.\n",
    " 5. Handling image, video and mp3 datas."
   ]
  },
  {
   "cell_type": "markdown",
   "id": "04c88de6-cf2a-4576-b97b-8c08a2d73bf7",
   "metadata": {},
   "source": [
    "# Q2. State and Explain the features of MongoDB."
   ]
  },
  {
   "cell_type": "markdown",
   "id": "a7cc34f7-fec5-40b2-b628-902c4a7549ea",
   "metadata": {},
   "source": [
    "- Data is stored as JSON-like documents.\n",
    "- No fixed schema, making it adaptable to changing data structures.\n",
    "- Provides fast query execution with support for various types of indexes.\n",
    "- Offers a powerful aggregation framework for data analysis\n",
    "- Handles location-based queries."
   ]
  },
  {
   "cell_type": "markdown",
   "id": "3c03f68c-a82a-4ec5-9654-0b6ec79685ea",
   "metadata": {},
   "source": [
    "# Q3. Write a code to connect MongoDB to Python. Also, create a database and a collection in MongoDB."
   ]
  },
  {
   "cell_type": "raw",
   "id": "f7aa3441-bffd-4d60-8769-15d565386973",
   "metadata": {},
   "source": [
    "import pymongo\n",
    "\n",
    "# Connect to MongoDB\n",
    "client = pymongo.MongoClient(\"#link from mongodb site\")\n",
    "\n",
    "# Create a database\n",
    "db = client[\"mydatabase\"]\n",
    "\n",
    "# Create a collection\n",
    "col= db[\"mycollection\"]\n"
   ]
  },
  {
   "cell_type": "markdown",
   "id": "aa867504-25f2-4436-94fd-691eb33b686d",
   "metadata": {},
   "source": [
    "# Q4. Using the database and the collection created in question number 3, write a code to insert one record, and insert many records. Use the find() and find_one() methods to print the inserted record."
   ]
  },
  {
   "cell_type": "raw",
   "id": "d9063bbf-0287-42a9-9d65-eac9ed8599eb",
   "metadata": {},
   "source": [
    "# Insert one record\n",
    "data={\"name\":\"mayank\",\"age\":25,\"state\":\"Jharkhand\"}\n",
    "col.insert_one(data)"
   ]
  },
  {
   "cell_type": "raw",
   "id": "39b1e492-15ff-47d4-b8a9-0e3596a76d1d",
   "metadata": {},
   "source": [
    "# Insert many records\n",
    "datas=[{\"name\":\"maurya\",\"age\":22,\"state\":\"bihar\"},\n",
    "{\"name\":\"ankit\",\"age\":28,\"state\":\"Delhi\"}]\n",
    "col.insert_many(datas)"
   ]
  },
  {
   "cell_type": "raw",
   "id": "17042f19-115e-44e7-acf1-ae6f8fcda7c9",
   "metadata": {},
   "source": [
    "# Retrieve one record\n",
    "print(col.find_one())"
   ]
  },
  {
   "cell_type": "raw",
   "id": "2c1d17aa-5111-46f4-bf10-b935a47da005",
   "metadata": {},
   "source": [
    "# Retrieve all records\n",
    "for i in col.find():\n",
    "    print(i)"
   ]
  },
  {
   "cell_type": "markdown",
   "id": "b2f1910d-99ef-4ad4-8b86-e34e7140400a",
   "metadata": {},
   "source": [
    "# Q5. Explain how you can use the find() method to query the MongoDB database. Write a simple code to demonstrate this."
   ]
  },
  {
   "cell_type": "raw",
   "id": "961ac655-9588-42be-b125-e1234fe086a3",
   "metadata": {},
   "source": [
    "query = {\"age\": {\"$gt\": 23}}\n",
    "results = col.find(query)\n",
    "\n",
    "for result in results:\n",
    "    print(result)"
   ]
  },
  {
   "cell_type": "markdown",
   "id": "81b80677-4257-4b4d-b667-0faa55a3cb64",
   "metadata": {},
   "source": [
    "# Q6. Explain the sort() method. Give an example to demonstrate sorting in MongoDB."
   ]
  },
  {
   "cell_type": "raw",
   "id": "2ac8243e-3c78-44b8-87d4-3d837d3d5898",
   "metadata": {},
   "source": [
    "sorted_result = col.find().sort(\"age\", 1)\n",
    "\n",
    "for i in sorted_result:\n",
    "    print(i)"
   ]
  },
  {
   "cell_type": "markdown",
   "id": "7af9f61d-8efb-424a-8e01-d93205ef4a82",
   "metadata": {},
   "source": [
    "# Q7. Explain why delete_one(), delete_many(), and drop() is used."
   ]
  },
  {
   "cell_type": "code",
   "execution_count": null,
   "id": "cf16b63a-548a-4052-88b6-031a6c41c468",
   "metadata": {},
   "outputs": [],
   "source": [
    "# delete_one:- Remove first record matching the condition. \n",
    "col.delete_one({\"name\": \"ankit\"})\n",
    "\n",
    "# delete_many:-Removes all reords matching the conditions.\n",
    "col.delete_many({\"age\":})"
   ]
  }
 ],
 "metadata": {
  "kernelspec": {
   "display_name": "Python 3 (ipykernel)",
   "language": "python",
   "name": "python3"
  },
  "language_info": {
   "codemirror_mode": {
    "name": "ipython",
    "version": 3
   },
   "file_extension": ".py",
   "mimetype": "text/x-python",
   "name": "python",
   "nbconvert_exporter": "python",
   "pygments_lexer": "ipython3",
   "version": "3.11.7"
  }
 },
 "nbformat": 4,
 "nbformat_minor": 5
}
