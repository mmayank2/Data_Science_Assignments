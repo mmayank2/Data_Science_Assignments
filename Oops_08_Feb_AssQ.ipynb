{
 "cells": [
  {
   "cell_type": "markdown",
   "id": "4d968e70",
   "metadata": {},
   "source": [
    "# Oops_08_Feb_AssQ"
   ]
  },
  {
   "cell_type": "markdown",
   "id": "44a938c4",
   "metadata": {},
   "source": [
    "# Q1. What is Abstraction in Oops? Explain with an example."
   ]
  },
  {
   "cell_type": "markdown",
   "id": "a7174ce7",
   "metadata": {},
   "source": [
    "Abstraction is a fundamental concept of object oriented programming. Abstraction in Oops is used to hide unnecessary information and display only necessary information to the users interacting"
   ]
  },
  {
   "cell_type": "markdown",
   "id": "484f138f",
   "metadata": {},
   "source": [
    "In otherwords:- In Abstraction parent class restrict the child class to define those method that parent class make them abstractmethod.\n",
    "   - Abstract class is a class which contain at least one abstract method.\n",
    "   - Abstract method is a method which doesnot contain any thing inside."
   ]
  },
  {
   "cell_type": "markdown",
   "id": "c4ff5ce6",
   "metadata": {},
   "source": [
    "Example:-"
   ]
  },
  {
   "cell_type": "code",
   "execution_count": 5,
   "id": "35fafe63",
   "metadata": {},
   "outputs": [],
   "source": [
    "from abc import ABC, abstractmethod\n",
    "class Bank(ABC):\n",
    "    \n",
    "    def __init__(self,name,account_number):\n",
    "        self.Account_Holder_Name=name\n",
    "        self.Account_Number=account_number\n",
    "        \n",
    "    @abstractmethod\n",
    "    def security(self):\n",
    "        pass\n",
    "\n",
    "class WebApp(Bank):  # here we didn't define security method that why if we create an object of this class then we get error message.\n",
    "    \n",
    "    def transaction(self):\n",
    "        print(\"Here transation happen\")\n",
    "        \n",
    "class MobileApp(Bank):\n",
    "    \n",
    "    def transaction(self):\n",
    "        print(\"Here transation happen\")\n",
    "    \n",
    "    def security(self):\n",
    "        print(\"Here security code define\")"
   ]
  },
  {
   "cell_type": "code",
   "execution_count": 6,
   "id": "32752934",
   "metadata": {},
   "outputs": [],
   "source": [
    "user1=MobileApp(\"Maurya\",123456)"
   ]
  },
  {
   "cell_type": "code",
   "execution_count": 7,
   "id": "73556205",
   "metadata": {},
   "outputs": [
    {
     "ename": "TypeError",
     "evalue": "Can't instantiate abstract class WebApp with abstract method security",
     "output_type": "error",
     "traceback": [
      "\u001b[1;31m---------------------------------------------------------------------------\u001b[0m",
      "\u001b[1;31mTypeError\u001b[0m                                 Traceback (most recent call last)",
      "Cell \u001b[1;32mIn[7], line 1\u001b[0m\n\u001b[1;32m----> 1\u001b[0m user2\u001b[38;5;241m=\u001b[39mWebApp(\u001b[38;5;124m\"\u001b[39m\u001b[38;5;124mMayank\u001b[39m\u001b[38;5;124m\"\u001b[39m,\u001b[38;5;241m1234567\u001b[39m)\n",
      "\u001b[1;31mTypeError\u001b[0m: Can't instantiate abstract class WebApp with abstract method security"
     ]
    }
   ],
   "source": [
    "user2=WebApp(\"Mayank\",1234567)"
   ]
  },
  {
   "cell_type": "markdown",
   "id": "afd9f4bc",
   "metadata": {},
   "source": [
    "Explaination:- \n",
    "1. Abstract Class Bank:\n",
    "\n",
    "- Contains an abstract method security that must be implemented by any subclass.\n",
    "- Contains an initializer to set the account holder's name and account number.\n",
    "\n",
    "2. Subclass WebApp:\n",
    "\n",
    "- Does not implement the security method, which means it's still an abstract class.\n",
    "- Attempting to instantiate WebApp will raise a TypeError.\n",
    "\n",
    "3. Subclass MobileApp:\n",
    "\n",
    "- Implements the security method, fulfilling the contract of the abstract base class Bank.\n",
    "- Can be instantiated, and both transaction and security methods can be called."
   ]
  },
  {
   "cell_type": "markdown",
   "id": "49c1b68d",
   "metadata": {},
   "source": [
    "# Q2. Differentiate between Abstraction and Encapsulation. Explain with an example."
   ]
  },
  {
   "cell_type": "markdown",
   "id": "d2e808d2",
   "metadata": {},
   "source": [
    "1. Abstraction\n",
    "- Definition: Abstraction is the process of hiding the complex implementation details and showing only the essential features of an object. It focuses on what an object does rather than how it does it.\n",
    "\n",
    "- Purpose: To simplify the interaction with objects by exposing only the relevant features and functionality, making it easier to use and understand.\n",
    "\n",
    "- Example: Consider a car. When you drive a car, you use the steering wheel, accelerator, brake pedals, etc., without needing to know the inner workings of the engine, transmission, or braking system. These internal mechanisms are abstracted away.\n",
    "\n",
    "2. Encapsulation\n",
    "- Definition: Encapsulation is the process of bundling the data (attributes) and methods (functions) that operate on the data into a single unit or class, and restricting access to some of the object's components. It is achieved using access specifiers (e.g., private, protected, public).\n",
    "\n",
    "- Purpose: To protect the internal state of an object and ensure that data is accessed and modified only through well-defined interfaces. This enhances the security and robustness of the code.\n",
    "\n"
   ]
  },
  {
   "cell_type": "code",
   "execution_count": 18,
   "id": "0aadaf36",
   "metadata": {},
   "outputs": [],
   "source": [
    "# Example :- Abstraction \n",
    "from abc import ABC, abstractmethod\n",
    "class Bank(ABC):\n",
    "    \n",
    "    def __init__(self,name,account_number):\n",
    "        self.Account_Holder_Name=name\n",
    "        self.Account_Number=account_number\n",
    "        \n",
    "    @abstractmethod\n",
    "    def security(self):\n",
    "        pass\n",
    "\n",
    "class WebApp(Bank):  # here we didn't define security method that why if we create an object of this class then we get error message.\n",
    "    \n",
    "    def transaction(self):\n",
    "        print(\"Here transation happen\")\n",
    "        \n",
    "class MobileApp(Bank):\n",
    "    \n",
    "    def transaction(self):\n",
    "        print(\"Here transation happen\")\n",
    "    \n",
    "    def security(self):\n",
    "        print(\"Here security code define\")"
   ]
  },
  {
   "cell_type": "markdown",
   "id": "68c350ce",
   "metadata": {},
   "source": [
    "Explaination:- \n",
    "1. Abstract Class Bank:\n",
    "\n",
    "- Contains an abstract method security that must be implemented by any subclass.\n",
    "- Contains an initializer to set the account holder's name and account number.\n",
    "\n",
    "2. Subclass WebApp:\n",
    "\n",
    "- Does not implement the security method, which means it's still an abstract class.\n",
    "- Attempting to instantiate WebApp will raise a TypeError.\n",
    "\n",
    "3. Subclass MobileApp:\n",
    "\n",
    "- Implements the security method, fulfilling the contract of the abstract base class Bank.\n",
    "- Can be instantiated, and both transaction and security methods can be called."
   ]
  },
  {
   "cell_type": "code",
   "execution_count": 16,
   "id": "c10d7575",
   "metadata": {},
   "outputs": [],
   "source": [
    "# Example of Encapsulation \n",
    "class ATM:\n",
    "    def __init__(self,name,pin,card_number,balance):\n",
    "        self.__Name=name\n",
    "        self.__pin=pin\n",
    "        self.__card_number=card_number\n",
    "        self.__balance=int(balance)\n",
    "        self.menu()\n",
    "        \n",
    "    def menu(self):\n",
    "        n=input('''\n",
    "                       1. Enter 1 for set pin\n",
    "                       2. Enter 2 for check balance\n",
    "                       3. Enter 3 to withdraw\n",
    "                       4. Enter 4 to deposit \n",
    "                       5. Enter other Number to Exit\n",
    "                       ''')\n",
    "        if n==\"1\":\n",
    "            self.set_pin()\n",
    "        elif n==\"2\":\n",
    "            self.check_balance()\n",
    "        elif n==\"3\":\n",
    "            self.withdraw()\n",
    "        elif n==\"4\":\n",
    "            self.credit()\n",
    "        else:\n",
    "            print(\"Select given choose\")\n",
    "    \n",
    "    def set_pin(self):\n",
    "        cd_number=int(input(\"Enter card Number\"))\n",
    "        name=input(\"Enter account holder name\")\n",
    "        \n",
    "        if name==self.__Name and cd_number==self.__card_number:\n",
    "            self.__pin=input(\" Enter your new password\")\n",
    "            print(\"pin changed successfully\")\n",
    "            self.menu()\n",
    "        \n",
    "        else:\n",
    "            print(\"sorry your input not match\")\n",
    "            self.menu()\n",
    "            \n",
    "    def check_balance(self):\n",
    "        print(self.__balance)\n",
    "        self.menu()\n",
    "    \n",
    "    def withdraw(self): # nikalna\n",
    "        amount=int(input(\"Enter your amount\"))\n",
    "        pin=input(\"Enter your password\")\n",
    "        if pin==self.__pin:\n",
    "            if amount<self.__balance:\n",
    "                self.__balance=self.__balance-amount\n",
    "                print(self.__balance)\n",
    "                self.menu()\n",
    "            else:\n",
    "                print(\"you does not have sufficient balance\")\n",
    "                self.menu()\n",
    "        else:\n",
    "            print(\"wrong password\")\n",
    "            self.menu()\n",
    "            \n",
    "    def credit(self):  # daalna\n",
    "        amount=int(input(\"Enter your amount\"))\n",
    "        self.__balance=self.__balance + amount\n",
    "        print(self.__balance)\n",
    "        self.menu()\n",
    "    "
   ]
  },
  {
   "cell_type": "code",
   "execution_count": 17,
   "id": "5a521a5c",
   "metadata": {},
   "outputs": [
    {
     "name": "stdout",
     "output_type": "stream",
     "text": [
      "\n",
      "                       1. Enter 1 for set pin\n",
      "                       2. Enter 2 for check balance\n",
      "                       3. Enter 3 to withdraw\n",
      "                       4. Enter 4 to deposit \n",
      "                       5. Enter other Number to Exit\n",
      "                       \n",
      "Select given choose\n"
     ]
    }
   ],
   "source": [
    "p1=ATM(\"Maurya\",\"1234\",12345,100000)"
   ]
  },
  {
   "cell_type": "markdown",
   "id": "b02dfb53",
   "metadata": {},
   "source": [
    "Encapsulation involves bundling the data (attributes) and the methods (functions) that operate on the data into a single unit or class, and restricting access to some of the object's components to protect the internal state and maintain the integrity of the data."
   ]
  },
  {
   "cell_type": "markdown",
   "id": "f30e7121",
   "metadata": {},
   "source": [
    "1. Private Attributes:\n",
    "\n",
    "- self.__Name\n",
    "- self.__pin\n",
    "- self.__card_number\n",
    "- self.__balance\n",
    "- These attributes are prefixed with double underscores (__), making them private. This means they cannot be accessed directly from outside the class. This encapsulation protects the internal state of the object.\n",
    "\n",
    "2. Public Methods:\n",
    "\n",
    "- menu()\n",
    "- set_pin()\n",
    "- check_balance()\n",
    "- withdraw()\n",
    "- credit()\n",
    "- These methods are public and provide controlled access to the private attributes. For example, set_pin allows the user to change the pin securely, and withdraw ensures that the balance is updated only if the correct pin is provided and there are sufficient funds."
   ]
  },
  {
   "cell_type": "markdown",
   "id": "8ed3fc3b",
   "metadata": {},
   "source": [
    "# Q3. What is abc module in python? Why is it used?"
   ]
  },
  {
   "cell_type": "markdown",
   "id": "b29e4fce",
   "metadata": {},
   "source": [
    "The abc module in Python stands for \"Abstract Base Classes.\" It is a module that provides the infrastructure for defining abstract base classes (ABCs) in Python. The abc module is used to create abstract classes and methods, which enforce that certain methods must be implemented by any subclass, ensuring a consistent interface."
   ]
  },
  {
   "cell_type": "markdown",
   "id": "b1ca92d8",
   "metadata": {},
   "source": [
    "this abc Module is used because :- \n",
    "- Design Consistency: It ensures that all subclasses implement certain methods, providing a consistent API.\n",
    "- Code Organization: Helps in organizing and structuring code by clearly defining what methods subclasses should implement.\n",
    "- Prevents Instantiation: Prevents instantiation of base classes that are meant to serve as templates only."
   ]
  },
  {
   "cell_type": "markdown",
   "id": "f0733aa4",
   "metadata": {},
   "source": [
    "# Q4. How can we achieve data abstraction?"
   ]
  },
  {
   "cell_type": "markdown",
   "id": "1381b838",
   "metadata": {},
   "source": [
    "Here are the steps to achieve data abstraction:\n",
    "\n",
    "- Define an Abstract Class: Use the abc module to create an abstract class with abstract methods that must be implemented by any subclass.\n",
    "- Hide Internal Data: Use access specifiers to hide internal data and expose only what is necessary through methods."
   ]
  },
  {
   "cell_type": "code",
   "execution_count": 19,
   "id": "5c6fa86f",
   "metadata": {},
   "outputs": [],
   "source": [
    "# Example :- Abstraction \n",
    "from abc import ABC, abstractmethod\n",
    "class Bank(ABC):\n",
    "    \n",
    "    def __init__(self,name,account_number):\n",
    "        self._Account_Holder_Name=name\n",
    "        self._Account_Number=account_number\n",
    "        \n",
    "    @abstractmethod\n",
    "    def security(self):\n",
    "        pass\n",
    "\n",
    "class WebApp(Bank):  # here we didn't define security method that why if we create an object of this class then we get error message.\n",
    "    \n",
    "    def transaction(self):\n",
    "        print(\"Here transation happen\")\n",
    "        \n",
    "class MobileApp(Bank):\n",
    "    \n",
    "    def transaction(self):\n",
    "        print(\"Here transation happen\")\n",
    "    \n",
    "    def security(self):\n",
    "        print(\"Here security code define\")"
   ]
  },
  {
   "cell_type": "markdown",
   "id": "4e4e5424",
   "metadata": {},
   "source": [
    "# Q5. Can we create an instance of an abstract class? Explain your answer."
   ]
  },
  {
   "cell_type": "markdown",
   "id": "957cdacc",
   "metadata": {},
   "source": [
    "No, you cannot create an instance of an abstract class in Python. Abstract classes are meant to serve as blueprints for other classes, defining a common interface and ensuring that certain methods are implemented by any subclass. An abstract class itself is incomplete and may contain abstract methods that do not have implementations. Therefore, instantiating an abstract class would be meaningless as it cannot provide a complete functional object."
   ]
  },
  {
   "cell_type": "markdown",
   "id": "08b022c4",
   "metadata": {},
   "source": [
    "- Incomplete Implementation: Abstract classes often contain one or more abstract methods. These methods are declared but not implemented in the abstract class. Without concrete implementations of these methods, the class is not fully functional.\n",
    "- Design Intent: The purpose of an abstract class is to define a common interface for a family of subclasses. Instantiating the abstract class would violate this design principle, as it is intended to be a template rather than a fully realized object."
   ]
  },
  {
   "cell_type": "code",
   "execution_count": null,
   "id": "79bfa0cb",
   "metadata": {},
   "outputs": [],
   "source": []
  }
 ],
 "metadata": {
  "kernelspec": {
   "display_name": "Python 3 (ipykernel)",
   "language": "python",
   "name": "python3"
  },
  "language_info": {
   "codemirror_mode": {
    "name": "ipython",
    "version": 3
   },
   "file_extension": ".py",
   "mimetype": "text/x-python",
   "name": "python",
   "nbconvert_exporter": "python",
   "pygments_lexer": "ipython3",
   "version": "3.11.7"
  }
 },
 "nbformat": 4,
 "nbformat_minor": 5
}
