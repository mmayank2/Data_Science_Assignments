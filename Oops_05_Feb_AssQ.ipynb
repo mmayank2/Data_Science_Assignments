{
 "cells": [
  {
   "cell_type": "markdown",
   "id": "bcb60920",
   "metadata": {},
   "source": [
    "# 05_Feb_AssQ"
   ]
  },
  {
   "cell_type": "markdown",
   "id": "8f856cda",
   "metadata": {},
   "source": [
    "# Q1. Explain Class and Object with respect to Object-Oriented Programming. Give a suitable example."
   ]
  },
  {
   "cell_type": "markdown",
   "id": "350a10df",
   "metadata": {},
   "source": [
    "<font color=\"red\">Answer :- </font>"
   ]
  },
  {
   "cell_type": "markdown",
   "id": "b2b43868",
   "metadata": {},
   "source": [
    "Class :- A class in oops is a blueprint of the object. it define a set of attributes and methods that created object can use. <br>\n",
    "Object :- An Object is the instance of the class. it is an entity based of class blueprint which hold actual data and use class methods which is define in class.\n"
   ]
  },
  {
   "cell_type": "code",
   "execution_count": 2,
   "id": "e81dae28",
   "metadata": {},
   "outputs": [],
   "source": [
    "class vehicle:\n",
    "    def __init__(self,name,company):\n",
    "        self.vehicle_name=name\n",
    "        self.company=company\n",
    "    \n",
    "    def show(self):\n",
    "        return self.company,self.vehicle_name"
   ]
  },
  {
   "cell_type": "code",
   "execution_count": 3,
   "id": "76c6c4bf",
   "metadata": {},
   "outputs": [],
   "source": [
    "A8=vehicle(\"A8\",\"Audi\")"
   ]
  },
  {
   "cell_type": "code",
   "execution_count": 4,
   "id": "f14dafe1",
   "metadata": {},
   "outputs": [
    {
     "data": {
      "text/plain": [
       "('Audi', 'A8')"
      ]
     },
     "execution_count": 4,
     "metadata": {},
     "output_type": "execute_result"
    }
   ],
   "source": [
    "A8.show()"
   ]
  },
  {
   "cell_type": "code",
   "execution_count": null,
   "id": "75a1d362",
   "metadata": {},
   "outputs": [],
   "source": [
    "\n",
    "The four pillars of Object-Oriented Programming (OOP) are:\n",
    "\n",
    "Encapsulation: Bundling the data (attributes) and methods (functions) that operate on the data into a single unit or class, and restricting access to some of the object's components.\n",
    "Abstraction: Hiding the complex implementation details and showing only the necessary features of an object.\n",
    "Inheritance: Allowing a new class to inherit the properties and methods of an existing class.\n",
    "Polymorphism: Allowing objects to be treated as instances of their parent class rather than their actual class. This is typically achieved through method overriding and method overloading."
   ]
  },
  {
   "cell_type": "markdown",
   "id": "ff1fe0ea",
   "metadata": {},
   "source": [
    "# Q2. Name the four pillars of OOPs."
   ]
  },
  {
   "cell_type": "markdown",
   "id": "e3530c4e",
   "metadata": {},
   "source": [
    "<font color=\"red\">Answer :- </font>"
   ]
  },
  {
   "cell_type": "markdown",
   "id": "3069c916",
   "metadata": {},
   "source": [
    "\n",
    "The four pillars of Object-Oriented Programming (OOP) are:\n",
    "\n",
    "- Encapsulation: Bundling the data (attributes) and methods (functions) that operate on the data into a single unit or class, and restricting access to some of the object's components.\n",
    "- Abstraction: Hiding the complex implementation details and showing only the necessary features of an object.\n",
    "- Inheritance: Allowing a new class to inherit the properties and methods of an existing class.\n",
    "- Polymorphism: Allowing objects to be treated as instances of their parent class rather than their actual class. This is typically achieved through method overriding and method overloading."
   ]
  },
  {
   "cell_type": "markdown",
   "id": "85b03d7f",
   "metadata": {},
   "source": []
  },
  {
   "cell_type": "markdown",
   "id": "c0690934",
   "metadata": {},
   "source": [
    "# Q3. Explain why the __init__() function is used. Give a suitable example."
   ]
  },
  {
   "cell_type": "markdown",
   "id": "8c65b217",
   "metadata": {},
   "source": [
    "<font color=\"red\">Answer :- </font>"
   ]
  },
  {
   "cell_type": "markdown",
   "id": "152eb447",
   "metadata": {},
   "source": [
    "\n",
    "The __init__() function is a special method in Python classes, known as the constructor. It is automatically called when a new instance of the class is created. The primary purpose of __init__() is to initialize the instance variables of the class."
   ]
  },
  {
   "cell_type": "code",
   "execution_count": 9,
   "id": "5282d3bc",
   "metadata": {},
   "outputs": [
    {
     "name": "stdout",
     "output_type": "stream",
     "text": [
      "Employee Name: Mayank, Employee ID: 12345\n"
     ]
    }
   ],
   "source": [
    "class Employee:\n",
    "    def __init__(self, name, employee_id):\n",
    "        self.name = name\n",
    "        self.employee_id = employee_id\n",
    "\n",
    "    def display_employee_info(self):\n",
    "        return f\"Employee Name: {self.name}, Employee ID: {self.employee_id}\"\n",
    "\n",
    "employee1 = Employee(\"Mayank\", 12345)\n",
    "print(employee1.display_employee_info())"
   ]
  },
  {
   "cell_type": "markdown",
   "id": "fd6a2af7",
   "metadata": {},
   "source": []
  },
  {
   "cell_type": "markdown",
   "id": "0121e025",
   "metadata": {},
   "source": [
    "# Q4. Why self is used in OOPs?"
   ]
  },
  {
   "cell_type": "markdown",
   "id": "92848eb3",
   "metadata": {},
   "source": [
    "<font color=\"red\">Answer :- </font>"
   ]
  },
  {
   "cell_type": "markdown",
   "id": "26c0f52a",
   "metadata": {},
   "source": [
    "\n",
    "In Python, self is used as the first parameter in instance methods to refer to the instance of the class. It allows access to the attributes and methods of the class within its methods. By convention, self is used, but any valid variable name can be used."
   ]
  },
  {
   "cell_type": "markdown",
   "id": "6f1c76d3",
   "metadata": {},
   "source": [
    "# Q5. What is inheritance? Give an example for each type of inheritance."
   ]
  },
  {
   "cell_type": "markdown",
   "id": "9edce7e0",
   "metadata": {},
   "source": [
    "<font color=\"red\">Answer :- </font>"
   ]
  },
  {
   "cell_type": "markdown",
   "id": "53c39007",
   "metadata": {},
   "source": [
    "Inheritance is a feature in OOP that allows a new class (derived class) to inherit attributes and methods from an existing class (base class). This promotes code reuse and logical hierarchy."
   ]
  },
  {
   "cell_type": "markdown",
   "id": "0c518ec3",
   "metadata": {},
   "source": [
    "Types of Inheritance:\n",
    "\n",
    "1. Single Inheritance: A derived class inherits from a single base class.\n"
   ]
  },
  {
   "cell_type": "code",
   "execution_count": 12,
   "id": "7460f1a2",
   "metadata": {},
   "outputs": [
    {
     "name": "stdout",
     "output_type": "stream",
     "text": [
      "Dog barks\n"
     ]
    }
   ],
   "source": [
    "class Animal:\n",
    "    def speak(self):\n",
    "        return \"Animal speaks\"\n",
    "\n",
    "class Dog(Animal):\n",
    "    def speak(self):\n",
    "        return \"Dog barks\"\n",
    "\n",
    "# Creating an instance of Dog\n",
    "dog = Dog()\n",
    "print(dog.speak()) "
   ]
  },
  {
   "cell_type": "markdown",
   "id": "8ed2ca89",
   "metadata": {},
   "source": [
    "2. Multiple Inheritance: A derived class inherits from more than one base class."
   ]
  },
  {
   "cell_type": "code",
   "execution_count": 14,
   "id": "82c9b29f",
   "metadata": {},
   "outputs": [
    {
     "name": "stdout",
     "output_type": "stream",
     "text": [
      "Dog barks\n",
      "True\n"
     ]
    }
   ],
   "source": [
    "class Mammal:\n",
    "    def has_hair(self):\n",
    "        return True\n",
    "\n",
    "class Animal:\n",
    "    def speak(self):\n",
    "        return \"Animal speaks\"\n",
    "\n",
    "class Dog(Mammal, Animal):\n",
    "    def speak(self):\n",
    "        return \"Dog barks\"\n",
    "\n",
    "# Creating an instance of Dog\n",
    "dog = Dog()\n",
    "print(dog.speak())  \n",
    "print(dog.has_hair())  "
   ]
  },
  {
   "cell_type": "markdown",
   "id": "8247f2a5",
   "metadata": {},
   "source": [
    "3. Multilevel Inheritance: A derived class inherits from another derived class."
   ]
  },
  {
   "cell_type": "code",
   "execution_count": 16,
   "id": "ad9f75d2",
   "metadata": {},
   "outputs": [
    {
     "name": "stdout",
     "output_type": "stream",
     "text": [
      "Dog barks\n",
      "True\n"
     ]
    }
   ],
   "source": [
    "class Animal:\n",
    "    def speak(self):\n",
    "        return \"Animal speaks\"\n",
    "\n",
    "class Mammal(Animal):\n",
    "    def has_hair(self):\n",
    "        return True\n",
    "\n",
    "class Dog(Mammal):\n",
    "    def speak(self):\n",
    "        return \"Dog barks\"\n",
    "\n",
    "# Creating an instance of Dog\n",
    "dog = Dog()\n",
    "print(dog.speak())  \n",
    "print(dog.has_hair())  "
   ]
  },
  {
   "cell_type": "markdown",
   "id": "cf39a857",
   "metadata": {},
   "source": [
    "4. Hierarchical Inheritance: Multiple derived classes inherit from a single base class."
   ]
  },
  {
   "cell_type": "code",
   "execution_count": 20,
   "id": "d81a2f81",
   "metadata": {},
   "outputs": [
    {
     "name": "stdout",
     "output_type": "stream",
     "text": [
      "Dog barks\n",
      "Cat meows\n"
     ]
    }
   ],
   "source": [
    "class Animal:\n",
    "    def speak(self):\n",
    "        return \"Animal speaks\"\n",
    "\n",
    "class Dog(Animal):\n",
    "    def speak(self):\n",
    "        return \"Dog barks\"\n",
    "\n",
    "class Cat(Animal):\n",
    "    def speak(self):\n",
    "        return \"Cat meows\"\n",
    "\n",
    "# Creating instances of Dog and Cat\n",
    "dog = Dog()\n",
    "cat = Cat()\n",
    "print(dog.speak())  \n",
    "print(cat.speak())  "
   ]
  },
  {
   "cell_type": "markdown",
   "id": "f9e0bfeb",
   "metadata": {},
   "source": [
    "5. Hybrid Inheritance: A combination of two or more types of inheritance."
   ]
  },
  {
   "cell_type": "code",
   "execution_count": 21,
   "id": "9b3fe6f1",
   "metadata": {},
   "outputs": [
    {
     "name": "stdout",
     "output_type": "stream",
     "text": [
      "Bat screeches\n",
      "True\n",
      "True\n"
     ]
    }
   ],
   "source": [
    "class Animal:\n",
    "    def speak(self):\n",
    "        return \"Animal speaks\"\n",
    "\n",
    "class Mammal(Animal):\n",
    "    def has_hair(self):\n",
    "        return True\n",
    "\n",
    "class Bird(Animal):\n",
    "    def has_feathers(self):\n",
    "        return True\n",
    "\n",
    "class Bat(Mammal, Bird):\n",
    "    def speak(self):\n",
    "        return \"Bat screeches\"\n",
    "\n",
    "# Creating an instance of Bat\n",
    "bat = Bat()\n",
    "print(bat.speak())  \n",
    "print(bat.has_hair())  \n",
    "print(bat.has_feathers())  "
   ]
  },
  {
   "cell_type": "code",
   "execution_count": null,
   "id": "20c1e532",
   "metadata": {},
   "outputs": [],
   "source": []
  }
 ],
 "metadata": {
  "kernelspec": {
   "display_name": "Python 3 (ipykernel)",
   "language": "python",
   "name": "python3"
  },
  "language_info": {
   "codemirror_mode": {
    "name": "ipython",
    "version": 3
   },
   "file_extension": ".py",
   "mimetype": "text/x-python",
   "name": "python",
   "nbconvert_exporter": "python",
   "pygments_lexer": "ipython3",
   "version": "3.11.7"
  }
 },
 "nbformat": 4,
 "nbformat_minor": 5
}
