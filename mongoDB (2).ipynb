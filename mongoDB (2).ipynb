{
 "cells": [
  {
   "cell_type": "markdown",
   "id": "82bdc222-60e5-4db8-b5a0-bce2ac3d19dd",
   "metadata": {},
   "source": [
    "# MongoDB "
   ]
  },
  {
   "cell_type": "code",
   "execution_count": null,
   "id": "93e6db44-f6cf-4c18-97e5-67fea01c897b",
   "metadata": {},
   "outputs": [],
   "source": []
  },
  {
   "cell_type": "code",
   "execution_count": null,
   "id": "1b8b355c-5da4-4570-a21d-d77abf3b9b90",
   "metadata": {},
   "outputs": [],
   "source": [
    "pip install --upgrade pymongo"
   ]
  },
  {
   "cell_type": "markdown",
   "id": "aa52e700-cf2b-485b-9563-3124df0d88ee",
   "metadata": {},
   "source": [
    "# Q1. What is MongoDB? Explain non-relational databases in short. In which scenarios it is preferred to use MongoDB over SQL databases?"
   ]
  },
  {
   "cell_type": "markdown",
   "id": "df3951d9-66de-4df5-b5e2-a738fd8c4b89",
   "metadata": {},
   "source": [
    "- Mongodb is a NoSQL database that stores data in a flexible, JSON-like format. Unlike traditional databases, MongoDB doesn’t use tables, rows, or fixed schemas.\n",
    "- Non-relational databases databases don’t rely on a strict structure like SQL databases. They store data as key-value pairs, documents, or graphs, making them ideal for unstructured or semi-structured data.\n",
    "- we can prefer MongoDB over SQL in this scenarios:-\n",
    " 1. When dealing with unstructured or semi-structured data.\n",
    " 2. When you need high scalability and flexibility.\n",
    " 3. For applications with rapidly changing data or schema.\n",
    " 4. For handling large volumes of real-time data.\n",
    " 5. Handling image, video and mp3 datas."
   ]
  },
  {
   "cell_type": "markdown",
   "id": "04c88de6-cf2a-4576-b97b-8c08a2d73bf7",
   "metadata": {},
   "source": [
    "# Q2. State and Explain the features of MongoDB."
   ]
  },
  {
   "cell_type": "markdown",
   "id": "a7cc34f7-fec5-40b2-b628-902c4a7549ea",
   "metadata": {},
   "source": [
    "- Data is stored as JSON-like documents.\n",
    "- No fixed schema, making it adaptable to changing data structures.\n",
    "- Provides fast query execution with support for various types of indexes.\n",
    "- Offers a powerful aggregation framework for data analysis\n",
    "- Handles location-based queries."
   ]
  },
  {
   "cell_type": "markdown",
   "id": "3c03f68c-a82a-4ec5-9654-0b6ec79685ea",
   "metadata": {},
   "source": [
    "# Q3. Write a code to connect MongoDB to Python. Also, create a database and a collection in MongoDB."
   ]
  },
  {
   "cell_type": "code",
   "execution_count": 12,
   "id": "0d11aa4d-8d05-4511-a4ba-adcb413661d5",
   "metadata": {},
   "outputs": [],
   "source": [
    "from pymongo.mongo_client import MongoClient\n",
    "uri = \"mongodb+srv://mmayank3585:<mauryamayank>@cluster0.hpn6g.mongodb.net/?retryWrites=true&w=majority&appName=Cluster0\""
   ]
  },
  {
   "cell_type": "code",
   "execution_count": 13,
   "id": "724cf1e5-b810-4ae3-92a5-e9d5840ad160",
   "metadata": {},
   "outputs": [],
   "source": [
    "# Connect to MongoDB"
   ]
  },
  {
   "cell_type": "code",
   "execution_count": 16,
   "id": "42cb853b-23a8-44c6-9b65-0c523209e278",
   "metadata": {},
   "outputs": [],
   "source": [
    "client = MongoClient(uri)"
   ]
  },
  {
   "cell_type": "code",
   "execution_count": 17,
   "id": "80daf9a7-bbe4-4508-9057-5e9764951e44",
   "metadata": {},
   "outputs": [],
   "source": [
    "# Create a database"
   ]
  },
  {
   "cell_type": "code",
   "execution_count": 18,
   "id": "0b02ea95-1f70-482c-81e4-00000e7c3f23",
   "metadata": {},
   "outputs": [],
   "source": [
    "db = client[\"mydatabase\"]"
   ]
  },
  {
   "cell_type": "code",
   "execution_count": 19,
   "id": "25fbc98b-b7f6-463a-ae84-9d60d7670661",
   "metadata": {},
   "outputs": [],
   "source": [
    "# Create a collection"
   ]
  },
  {
   "cell_type": "code",
   "execution_count": 20,
   "id": "92713d07-6444-4250-89f9-ac9dadab3f33",
   "metadata": {},
   "outputs": [],
   "source": [
    "col= db[\"mycollection\"]"
   ]
  },
  {
   "cell_type": "markdown",
   "id": "aa867504-25f2-4436-94fd-691eb33b686d",
   "metadata": {},
   "source": [
    "# Q4. Using the database and the collection created in question number 3, write a code to insert one record, and insert many records. Use the find() and find_one() methods to print the inserted record."
   ]
  },
  {
   "cell_type": "code",
   "execution_count": 26,
   "id": "d4dfb011-d786-483f-bbe0-94ea53943093",
   "metadata": {},
   "outputs": [],
   "source": [
    "# Insert one record"
   ]
  },
  {
   "cell_type": "markdown",
   "id": "95c4b7a7-f74b-4f42-8dce-52b00568dcad",
   "metadata": {},
   "source": [
    "data={\"name\":\"mayank\",\"age\":25,\"state\":\"Jharkhand\"} <br>\n",
    "col.insert_one(data)"
   ]
  },
  {
   "cell_type": "code",
   "execution_count": 5,
   "id": "2259dced-b20f-4654-975b-81253bce4df7",
   "metadata": {},
   "outputs": [],
   "source": [
    "# Insert many records"
   ]
  },
  {
   "cell_type": "markdown",
   "id": "8ee58292-f214-47a9-9cf7-dddca2675a48",
   "metadata": {},
   "source": [
    "datas=[{\"name\":\"maurya\",\"age\":22,\"state\":\"bihar\"},\n",
    "{\"name\":\"ankit\",\"age\":28,\"state\":\"Delhi\"}]\n",
    "<br>\n",
    "col.insert_many(datas)"
   ]
  },
  {
   "cell_type": "code",
   "execution_count": 9,
   "id": "a37a2a76-6a09-40b9-82cf-785d641e28a8",
   "metadata": {},
   "outputs": [],
   "source": [
    "# Retrieve one record"
   ]
  },
  {
   "cell_type": "markdown",
   "id": "4ff71a79-6c87-48b1-9387-6a6dff1c9ab6",
   "metadata": {},
   "source": [
    "print(col.find_one())"
   ]
  },
  {
   "cell_type": "code",
   "execution_count": 12,
   "id": "72f064b9-c17e-4fdb-97ee-4cd58000612a",
   "metadata": {},
   "outputs": [],
   "source": [
    "# Retrieve all records"
   ]
  },
  {
   "cell_type": "markdown",
   "id": "ccab9125-853b-4e5d-ac3a-0a4630de7bd7",
   "metadata": {},
   "source": [
    "for i in col.find(): print(i)"
   ]
  },
  {
   "cell_type": "markdown",
   "id": "b2f1910d-99ef-4ad4-8b86-e34e7140400a",
   "metadata": {},
   "source": [
    "# Q5. Explain how you can use the find() method to query the MongoDB database. Write a simple code to demonstrate this."
   ]
  },
  {
   "cell_type": "markdown",
   "id": "6413fda4-dc6e-4725-9853-dfb7a7c1c83f",
   "metadata": {},
   "source": [
    "query = {\"age\": {\"$gt\": 23}}\n",
    "results = col.find(query)\n",
    "\n",
    "for result in results:\n",
    "    print(result)"
   ]
  },
  {
   "cell_type": "markdown",
   "id": "81b80677-4257-4b4d-b667-0faa55a3cb64",
   "metadata": {},
   "source": [
    "# Q6. Explain the sort() method. Give an example to demonstrate sorting in MongoDB."
   ]
  },
  {
   "cell_type": "code",
   "execution_count": null,
   "id": "ffb8b70b-36e2-41ee-9deb-703cf5bccbbc",
   "metadata": {},
   "outputs": [],
   "source": [
    "sorted_result = col.find().sort(\"age\", 1)\n",
    "\n",
    "for i in sorted_result:\n",
    "    print(i)"
   ]
  },
  {
   "cell_type": "markdown",
   "id": "7af9f61d-8efb-424a-8e01-d93205ef4a82",
   "metadata": {},
   "source": [
    "# Q7. Explain why delete_one(), delete_many(), and drop() is used."
   ]
  },
  {
   "cell_type": "code",
   "execution_count": null,
   "id": "030c1e2a-9ab7-46f0-b3fd-5f670a440d7d",
   "metadata": {},
   "outputs": [],
   "source": [
    "# delete_one:- Remove first record matching the condition. \n",
    "col.delete_one({\"name\": \"ankit\"})\n",
    "\n",
    "# delete_many:-Removes all reords matching the conditions.\n",
    "col.delete_many({\"age\":25})\n",
    "\n",
    "# drop:- delete entire collection\n",
    "col.drop()"
   ]
  },
  {
   "cell_type": "code",
   "execution_count": null,
   "id": "8148bfef-2ec0-406c-ad2a-3758f42c5cef",
   "metadata": {},
   "outputs": [],
   "source": []
  }
 ],
 "metadata": {
  "kernelspec": {
   "display_name": "Python 3 (ipykernel)",
   "language": "python",
   "name": "python3"
  },
  "language_info": {
   "codemirror_mode": {
    "name": "ipython",
    "version": 3
   },
   "file_extension": ".py",
   "mimetype": "text/x-python",
   "name": "python",
   "nbconvert_exporter": "python",
   "pygments_lexer": "ipython3",
   "version": "3.11.7"
  }
 },
 "nbformat": 4,
 "nbformat_minor": 5
}
