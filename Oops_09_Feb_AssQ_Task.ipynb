{
 "cells": [
  {
   "cell_type": "markdown",
   "id": "d1f28f24",
   "metadata": {},
   "source": [
    "# 09 Feb_AssQ_Task"
   ]
  },
  {
   "cell_type": "markdown",
   "id": "35f13b51",
   "metadata": {},
   "source": [
    "# Q1. Create a vehicle class with an init method having instance variables as name_of_vehicle, max_speed and average_of_vehicle."
   ]
  },
  {
   "cell_type": "markdown",
   "id": "461160fa",
   "metadata": {},
   "source": [
    "<font color=\"red\">Answer :-</font> "
   ]
  },
  {
   "cell_type": "code",
   "execution_count": 3,
   "id": "c4201fa8",
   "metadata": {},
   "outputs": [],
   "source": [
    "class vehicle :\n",
    "    def __init__(self,name_of_vehicle,max_speed,average_of_vehicle):\n",
    "        self.name_of_vehicle=name_of_vehicle\n",
    "        self.max_speed=max_speed\n",
    "        self.average_of_vehicle=average_of_vehicle"
   ]
  },
  {
   "cell_type": "markdown",
   "id": "ecc2fdd8",
   "metadata": {},
   "source": [
    "# Q2. Create a child class car from the vehicle class created in Que 1, which will inherit the vehicle class. Create a method named seating_capacity which takes capacity as an argument and returns the name of the vehicle and its seating capacity."
   ]
  },
  {
   "cell_type": "markdown",
   "id": "471418a8",
   "metadata": {},
   "source": [
    "<font color=\"red\">Answer :-</font> "
   ]
  },
  {
   "cell_type": "code",
   "execution_count": 5,
   "id": "69d878b9",
   "metadata": {},
   "outputs": [],
   "source": [
    "class car(vehicle):\n",
    "    def seating_capacity(self,capacity):\n",
    "        self.capacity=capacity\n",
    "        return self.name_of_vehicle,self.capacity"
   ]
  },
  {
   "cell_type": "code",
   "execution_count": 7,
   "id": "3ed91c64",
   "metadata": {},
   "outputs": [],
   "source": [
    "audi=car(\"AudiA10\",350,25)"
   ]
  },
  {
   "cell_type": "code",
   "execution_count": 8,
   "id": "18512b8e",
   "metadata": {},
   "outputs": [
    {
     "data": {
      "text/plain": [
       "('AudiA10', 2)"
      ]
     },
     "execution_count": 8,
     "metadata": {},
     "output_type": "execute_result"
    }
   ],
   "source": [
    "audi.seating_capacity(2)"
   ]
  },
  {
   "cell_type": "markdown",
   "id": "d033234a",
   "metadata": {},
   "source": [
    "# Q3. What is multiple inheritance? Write a python code to demonstrate multiple inheritance."
   ]
  },
  {
   "cell_type": "markdown",
   "id": "79269d7d",
   "metadata": {},
   "source": [
    "<font color=\"red\">Answer :-</font> "
   ]
  },
  {
   "cell_type": "markdown",
   "id": "5a41369f",
   "metadata": {},
   "source": [
    "when a class derived from more than one base class then it is called Multiple inheritance."
   ]
  },
  {
   "cell_type": "code",
   "execution_count": 35,
   "id": "42d619cf",
   "metadata": {},
   "outputs": [],
   "source": [
    "class Mother:\n",
    "    def mother(self,name):\n",
    "        self.mother_name=name\n",
    "\n",
    "class Father:\n",
    "    def father(self,name):\n",
    "        self.father_name=name\n",
    "\n",
    "class child(Mother,Father):           # inherite to classes Mother and Father\n",
    "    def parents(self):\n",
    "        return \"Mother name : {} , Father name : {} \".format(self.mother_name,self.father_name)"
   ]
  },
  {
   "cell_type": "code",
   "execution_count": 36,
   "id": "2a701b6a",
   "metadata": {},
   "outputs": [],
   "source": [
    "cld=child()"
   ]
  },
  {
   "cell_type": "code",
   "execution_count": 37,
   "id": "5db16a00",
   "metadata": {},
   "outputs": [],
   "source": [
    "cld.mother(\"veena devi\")"
   ]
  },
  {
   "cell_type": "code",
   "execution_count": 38,
   "id": "5facb327",
   "metadata": {},
   "outputs": [],
   "source": [
    "cld.father(\"Suresh kumar\")"
   ]
  },
  {
   "cell_type": "code",
   "execution_count": 39,
   "id": "b4e448ef",
   "metadata": {},
   "outputs": [
    {
     "data": {
      "text/plain": [
       "'Mother name : veena devi , Father name : Suresh kumar '"
      ]
     },
     "execution_count": 39,
     "metadata": {},
     "output_type": "execute_result"
    }
   ],
   "source": [
    "cld.parents()"
   ]
  },
  {
   "cell_type": "markdown",
   "id": "213ca8ba",
   "metadata": {},
   "source": [
    "# Q4. What are getter and setter in python? Create a class and create a getter and a setter method in this class."
   ]
  },
  {
   "cell_type": "markdown",
   "id": "4e2ae306",
   "metadata": {},
   "source": [
    "<font color=\"red\">Answer :-</font> "
   ]
  },
  {
   "cell_type": "markdown",
   "id": "759db5da",
   "metadata": {},
   "source": [
    "Getters and setters are methods used to access and modify the values of private attributes in a class. They provide a way to encapsulate and protect the data."
   ]
  },
  {
   "cell_type": "code",
   "execution_count": 53,
   "id": "0bdbff7d",
   "metadata": {},
   "outputs": [],
   "source": [
    "class New_Atm:\n",
    "    def __init__(self,name,password,cust_id):\n",
    "        self._name=name\n",
    "        self._password=password\n",
    "        self._cust_id=cust_id\n",
    "        \n",
    "    \n",
    "    def get_password(self,customer_id):\n",
    "        self.customer_id=customer_id\n",
    "        if self._cust_id==self.customer_id:\n",
    "            return self._password\n",
    "    \n",
    "    def change_password(self,customer_id,new_password):\n",
    "        if self._cust_id==self.customer_id:\n",
    "            self.new_password=new_password\n",
    "            self._password=new_password\n",
    "        \n",
    "            \n",
    "        "
   ]
  },
  {
   "cell_type": "code",
   "execution_count": 54,
   "id": "d9f4a329",
   "metadata": {},
   "outputs": [],
   "source": [
    "mayank=New_Atm(\"mayank\",1234,1)"
   ]
  },
  {
   "cell_type": "code",
   "execution_count": 55,
   "id": "d3f9eb84",
   "metadata": {},
   "outputs": [
    {
     "data": {
      "text/plain": [
       "1234"
      ]
     },
     "execution_count": 55,
     "metadata": {},
     "output_type": "execute_result"
    }
   ],
   "source": [
    "mayank.get_password(1)"
   ]
  },
  {
   "cell_type": "code",
   "execution_count": 56,
   "id": "25dd6dcc",
   "metadata": {},
   "outputs": [],
   "source": [
    "mayank.change_password(1,9876)"
   ]
  },
  {
   "cell_type": "code",
   "execution_count": 57,
   "id": "71097fcb",
   "metadata": {},
   "outputs": [
    {
     "data": {
      "text/plain": [
       "9876"
      ]
     },
     "execution_count": 57,
     "metadata": {},
     "output_type": "execute_result"
    }
   ],
   "source": [
    "mayank.get_password(1)"
   ]
  },
  {
   "cell_type": "markdown",
   "id": "ea2d54d7",
   "metadata": {},
   "source": [
    "# Q5.What is method overriding in python? Write a python code to demonstrate method overriding."
   ]
  },
  {
   "cell_type": "markdown",
   "id": "9c2efe63",
   "metadata": {},
   "source": [
    "<font color=\"red\">Answer :-</font> "
   ]
  },
  {
   "cell_type": "markdown",
   "id": "f7621fb3",
   "metadata": {},
   "source": [
    "Method overriding is an ability of any object-oriented programming language that allows a subclass or child class to provide a specific implementation of a method that is already provided by one of its super-classes or parent classes. When a method in a subclass has the same name, same parameters or signature and same return type(or sub-type) as a method in its super-class, then the method in the subclass is said to override the method in the super-class."
   ]
  },
  {
   "cell_type": "code",
   "execution_count": 71,
   "id": "d44d5e0e",
   "metadata": {},
   "outputs": [],
   "source": [
    "class A:\n",
    "    def __init__(self,name):\n",
    "        self.name=name\n",
    "    \n",
    "    def show(self):\n",
    "        return self.name + \" kumar\"\n",
    "    \n",
    "class B(A):\n",
    "    def show(self):\n",
    "        super()\n",
    "        return self.name+ \" Singh\" # override parent class method\n"
   ]
  },
  {
   "cell_type": "code",
   "execution_count": 72,
   "id": "0163e333",
   "metadata": {},
   "outputs": [],
   "source": [
    "mayank=B(\"mayank\")"
   ]
  },
  {
   "cell_type": "code",
   "execution_count": 73,
   "id": "3303978c",
   "metadata": {},
   "outputs": [
    {
     "data": {
      "text/plain": [
       "'mayank Singh'"
      ]
     },
     "execution_count": 73,
     "metadata": {},
     "output_type": "execute_result"
    }
   ],
   "source": [
    "mayank.show()"
   ]
  },
  {
   "cell_type": "code",
   "execution_count": null,
   "id": "9467dd3c",
   "metadata": {},
   "outputs": [],
   "source": []
  }
 ],
 "metadata": {
  "kernelspec": {
   "display_name": "Python 3 (ipykernel)",
   "language": "python",
   "name": "python3"
  },
  "language_info": {
   "codemirror_mode": {
    "name": "ipython",
    "version": 3
   },
   "file_extension": ".py",
   "mimetype": "text/x-python",
   "name": "python",
   "nbconvert_exporter": "python",
   "pygments_lexer": "ipython3",
   "version": "3.11.7"
  }
 },
 "nbformat": 4,
 "nbformat_minor": 5
}
