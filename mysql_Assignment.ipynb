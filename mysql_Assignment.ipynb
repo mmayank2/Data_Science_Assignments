{
 "cells": [
  {
   "cell_type": "markdown",
   "id": "09d970b8-b5f7-47f5-b3c0-6545daf0caa7",
   "metadata": {},
   "source": [
    "# Assignment "
   ]
  },
  {
   "cell_type": "markdown",
   "id": "7772a9ca-e131-4bc3-948d-d2385c3c91ca",
   "metadata": {},
   "source": [
    "# Q1. What is a database? Differentiate between SQL and NoSQL databases."
   ]
  },
  {
   "cell_type": "markdown",
   "id": "c23239ec-e17d-47e3-8b41-9d2806e7c03c",
   "metadata": {},
   "source": [
    "A database is a structured collection of data that can be easily accessed, managed, and updated. Databases are managed through Database Management Systems (DBMS), which provide tools to create, read, update, and delete data.\n",
    "\n",
    "- SQL:- SQL is stand for structure query language, Relational (Tables with rows and columns)\n",
    "Example:- MySQL, PostgreSQL, Oracle Database, SQL Server\n",
    "\n",
    "- NoSQL:- Not only SQL. Non-relational (Document, Key-Value, Graph, or Columns) \n",
    "Example:- MongoDB, Cassandra, DynamoDB, Redis"
   ]
  },
  {
   "cell_type": "markdown",
   "id": "5d2d3904-38a6-4cc9-b096-1cec9d759382",
   "metadata": {},
   "source": [
    "# Q2. What is DDL? Explain why CREATE, DROP, ALTER, and TRUNCATE are used with an example."
   ]
  },
  {
   "cell_type": "markdown",
   "id": "b2ad3ad3-ba30-4651-b72b-ff75594414e8",
   "metadata": {},
   "source": [
    "DDL is stand of Data defination language.DDL commands operate on the schema level.\n",
    "DDL commands are automatically committed in most databases, meaning changes are permanent and cannot be rolled back.\n",
    "\n",
    "- Create :- Used to create new database objects like tables, views.\n",
    "Eg:- Create table employee(\n",
    "    E_id int Primary key,\n",
    "    name varchar(50),\n",
    "    age int\n",
    ");\n",
    "\n",
    "- Drop :- Used to permanently delete database objects such as tables, views, or databases.\n",
    "Example:- drop table employee;\n",
    "\n",
    "- Alter:- Used to modify an existing database object, such as adding, deleting, or modifying columns in a table.\n",
    "    - Adding columns:-\n",
    "Example:- Alter table employee add salary Decimal(10,2);\n",
    "    - Modify an existing column\n",
    "Example:- ALTER TABLE employees MODIFY age SMALLINT;\n",
    "    - drop a columns\n",
    "Example :- Alter table employee drop columns age;\n",
    "    - TRUNCATE\n",
    "Used to remove all rows from a table quickly without logging individual row deletions. Unlike DROP, the table structure remains intact."
   ]
  },
  {
   "cell_type": "markdown",
   "id": "fa5d9de1-0904-4039-a587-75b7784bfc4c",
   "metadata": {},
   "source": [
    "# Q3. What is DML? Explain INSERT, UPDATE, and DELETE with an example."
   ]
  },
  {
   "cell_type": "markdown",
   "id": "8e8f7334-52bb-4a0a-8213-f6521de16782",
   "metadata": {},
   "source": [
    "DML is stand for Data Manipulation Language is a subset of SQL used to interact with and manipulate data stored in a database. DML commands allow users to insert, update, retrieve, and delete data in tables.\n",
    "\n",
    "DML operations are typically transactional, meaning changes can be rolled back or committed based on the desired outcome.\n",
    "1. INSERT :- Used to add new rows of data into a table.\n",
    "- Example:- INSERT INTO employees (id, name, age, department, salary) VALUES (1, 'John Doe', 30, 'HR', 50000);\n",
    "\n",
    "2. UPDATE :- Used to modify existing data in a table based on specific conditions.\n",
    "- Example:- UPDATE employees SET salary = 55000 WHERE id = 1;\n",
    "\n",
    "3. DELETE :- Used to remove specific rows of data from a table based on conditions. It does not delete the table structure.\n",
    "- Example:- DELETE FROM employees WHERE department = 'HR';\n",
    "\n"
   ]
  },
  {
   "cell_type": "markdown",
   "id": "472b9eec-584f-4bed-8477-b21a8a9ab014",
   "metadata": {},
   "source": [
    "# Q4. What is DQL? Explain SELECT with an example."
   ]
  },
  {
   "cell_type": "markdown",
   "id": "1f7a812e-d9a4-4f36-ad49-855b7c4c7ec4",
   "metadata": {},
   "source": [
    "DQL (Data Query Language) is a subset of SQL used to query and retrieve data from a database.\n",
    "The SELECT statement retrieves data from one or more tables in a database. It can include filters, sorting, grouping, and more to extract and display data precisely as required.\n",
    "\n",
    "syntax:- SELECT column1, column2, ... FROM table_name WHERE condition GROUP BY column HAVING condition ORDER BY column ASC|DESC LIMIT number;"
   ]
  },
  {
   "cell_type": "markdown",
   "id": "53e83b33-99e7-4255-adfd-8270acba028d",
   "metadata": {},
   "source": [
    "- SELECT: Specifies the columns to retrieve.\n",
    "- FROM: Specifies the table(s) to query data from.\n",
    "- WHERE: Filters rows based on conditions.\n",
    "- GROUP BY: Groups rows sharing common values.\n",
    "- HAVING: Filters grouped rows.\n",
    "- ORDER BY: Sorts the results.\n",
    "- LIMIT: Restricts the number of rows returned."
   ]
  },
  {
   "cell_type": "markdown",
   "id": "29bdea0f-4bd5-4623-9b7a-1dac2ad437ca",
   "metadata": {},
   "source": [
    "# Q5. Explain Primary Key and Foreign Key."
   ]
  },
  {
   "cell_type": "markdown",
   "id": "d640341a-dc5c-4fc6-97fb-ce0a945f5e7c",
   "metadata": {},
   "source": [
    "primary key:- \n",
    "- A primary key is a column or a set of columns in a database table that uniquely identifies each row in that table.\n",
    "- primary key columns must contain unique values and not null values.\n",
    "- Example :- Create table employee(\n",
    "        Id INT PRIMARY,\n",
    "        name varchar(50),\n",
    "        email varchar (50)\n",
    ");\n",
    "\n",
    "Foreign key :-\n",
    "- A foreign key is a column or a set of columns in one table that establishes a link between the data in two tables.\n",
    "- It refers to the primary key in another table, creating a relationship between the two tables.\n",
    "- A foreign key ensures that the value in a column matches a value in the primary key of the referenced table.\n",
    "- Foreign key columns can have duplicate values."
   ]
  },
  {
   "cell_type": "markdown",
   "id": "0b1d92a7-eb42-456e-8a1e-715df6005aaa",
   "metadata": {},
   "source": [
    "Example:- Parent table\n",
    "- CREATE TABLE departments (\n",
    "    id INT PRIMARY KEY, \n",
    "    department_name VARCHAR(50)\n",
    ");\n",
    "\n",
    "children table\n",
    "- CREATE TABLE employees (\n",
    "    id INT PRIMARY KEY,\n",
    "    name VARCHAR(50),\n",
    "    department_id INT,\n",
    "    FOREIGN KEY (department_id) REFERENCES departments(id)\n",
    ");"
   ]
  },
  {
   "cell_type": "markdown",
   "id": "756e707e-99bb-4030-a27b-e62cbbb6e29a",
   "metadata": {},
   "source": [
    "# Q6. Write a python code to connect MySQL to python. Explain the cursor() and execute() method."
   ]
  },
  {
   "cell_type": "raw",
   "id": "f16d4ba6-161d-40f5-bf39-b162f0870b04",
   "metadata": {},
   "source": [
    "import mysql.connector\n",
    "\n",
    "# Establish connection\n",
    "try:\n",
    "    connection = mysql.connector.connect(\n",
    "        host=\"localhost\",        # MySQL server address (use appropriate IP or hostname)\n",
    "        user=\"your_username\",    # Your MySQL username\n",
    "        password=\"your_password\",# Your MySQL password\n",
    "        database=\"your_database\" # Database to connect to\n",
    "    )\n",
    "\n",
    "    if connection.is_connected():\n",
    "        print(\"Successfully connected to MySQL\")\n",
    "\n",
    "        # Create a cursor object\n",
    "        cursor = connection.cursor()\n",
    "\n",
    "        # Execute an SQL query\n",
    "        cursor.execute(\"SELECT * FROM employees\")\n",
    "\n",
    "        # Fetch and display results\n",
    "        for row in cursor.fetchall():\n",
    "            print(row)\n",
    "\n",
    "except mysql.connector.Error as e:\n",
    "    print(f\"Error: {e}\")\n",
    "\n",
    "finally:\n",
    "    if connection.is_connected():\n",
    "        cursor.close()  # Close the cursor\n",
    "        connection.close()  # Close the connection\n",
    "        print(\"MySQL connection is closed\")"
   ]
  },
  {
   "cell_type": "markdown",
   "id": "525edf9a-c09b-4334-bbd0-e229b54ea49f",
   "metadata": {},
   "source": [
    "# Q7. Give the order of execution of SQL clauses in an SQL query."
   ]
  },
  {
   "cell_type": "markdown",
   "id": "fbd4ebcf-e361-4217-ab88-eb3c043efafa",
   "metadata": {},
   "source": [
    "1. From clause,\n",
    "2. where clause,\n",
    "3. group by clause,\n",
    "4. having clause,\n",
    "5. select clause,order by clause,Limit clause."
   ]
  },
  {
   "cell_type": "code",
   "execution_count": null,
   "id": "550a17b3-9690-4bd0-8bc5-0ceaefb284f1",
   "metadata": {},
   "outputs": [],
   "source": []
  }
 ],
 "metadata": {
  "kernelspec": {
   "display_name": "Python 3 (ipykernel)",
   "language": "python",
   "name": "python3"
  },
  "language_info": {
   "codemirror_mode": {
    "name": "ipython",
    "version": 3
   },
   "file_extension": ".py",
   "mimetype": "text/x-python",
   "name": "python",
   "nbconvert_exporter": "python",
   "pygments_lexer": "ipython3",
   "version": "3.11.7"
  }
 },
 "nbformat": 4,
 "nbformat_minor": 5
}
