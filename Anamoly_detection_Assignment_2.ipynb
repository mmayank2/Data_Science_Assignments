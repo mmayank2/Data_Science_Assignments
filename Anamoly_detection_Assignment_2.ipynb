{
 "cells": [
  {
   "cell_type": "markdown",
   "id": "c59808a2-c744-4682-a941-4259bbe723d5",
   "metadata": {},
   "source": [
    "# Anamoly_detection_Assignment_2"
   ]
  },
  {
   "cell_type": "markdown",
   "id": "55d10011-5de0-44fc-97b7-59cc93e0c139",
   "metadata": {},
   "source": [
    "# Q1. What is the role of feature selection in anomaly detection?"
   ]
  },
  {
   "cell_type": "markdown",
   "id": "71ff404a-df40-48f8-8317-6892639540cd",
   "metadata": {},
   "source": [
    "the role of feature selection is crucial for this reason :-\n",
    "1. Dimensionality Reduction :- Many dataset contains large number of features which may be irrelevant or redundant. Feature selection helps in reducing the dimensionality of the data by identifying and selecting only the most relevant features.\n",
    "2. Improved Performance :- by selecting most important feature the anamoly detection model can focus on most important aspect of data.\n",
    "3. Reduce computational complexity of model."
   ]
  },
  {
   "cell_type": "markdown",
   "id": "66bde762-124b-454a-843a-18900a1da565",
   "metadata": {},
   "source": [
    "# Q2. What are some common evaluation metrics for anomaly detection algorithms and how are they computed?"
   ]
  },
  {
   "cell_type": "markdown",
   "id": "c9237dea-1bee-4100-af36-a8928356097d",
   "metadata": {},
   "source": [
    "There are several common evaluation metrics for anomaly detection algorithms .<br><br>\n",
    "1. Precision and Recall :- Precision measure the true positive prediction among all the positve prediction.<br>\n",
    "Precision =True Positive/(True Positive + False Positive)<br>\n",
    "Recall measure the true positive predition among with all the actual positive instance of data.<br>\n",
    "Recall=True Positive /(True Positive + False Negative)<br>\n",
    "Where True Positives are the correctly identified anomalies, False Positives are the normal instances incorrectly identified as anomalies, and False Negatives are the anomalies that were missed by the model.\n",
    "2. F1 Score: The F1 score is the harmonic mean of precision and recall, providing a single metric that balances both. <br>\n",
    "F1 Score=2*(Precision *Recall)/(Precision + Recall) <br>"
   ]
  },
  {
   "cell_type": "markdown",
   "id": "41e528c6-8b11-4440-a620-e9cc3c470a54",
   "metadata": {},
   "source": [
    "# Q3. What is DBSCAN and how does it work for clustering?"
   ]
  },
  {
   "cell_type": "markdown",
   "id": "21fe2333-e7b6-4f93-9e8f-bd4f86c1e4d6",
   "metadata": {},
   "source": [
    "DBSCAN is a unsupervised Machine Learning Algorithm which is used for clustering.\n",
    "- it is stand for density based Spatial Clustering of Applications with Noise\n",
    "- it is also used for detecting outliers.\n",
    "- it uses density based approach in which it seprate the low density region.\n",
    "- Core and Boarder Point:- Each point in DBSCAN is categorizied by core point, border point and noise point.\n",
    "core point are the point in which at least minpts point are avialable within the epsilon radius.\n",
    "Border Point are the point in which point with in the epsilon radius is less the minpts and atleast one core point should be avialable.\n",
    "Noise point are the rest point which are not a core or border point\n",
    "- Cluster Formation: DBSCAN starts by randomly selecting a data point. If it's a core point, it forms a cluster around it by expanding the cluster to all reachable points (core points or border points) within the ε radius. If it's a border point, it's assigned to a nearby cluster. If it's a noise point, it's discarded.\n",
    "- Cluster Identification: DBSCAN continues this process until all data points have been assigned to a cluster or labeled as noise. Each cluster is assigned a unique label."
   ]
  },
  {
   "cell_type": "markdown",
   "id": "52bf174a-e5d2-4c0d-84a1-f9b065a46d3e",
   "metadata": {},
   "source": [
    "# Q4. How does the epsilon parameter affect the performance of DBSCAN in detecting anomalies?"
   ]
  },
  {
   "cell_type": "markdown",
   "id": "18400aea-5f26-4719-8736-0ed9f37b312c",
   "metadata": {},
   "source": [
    "The epsilon parameter in DBSCAN plays a crucial role in anomaly detection. It determines the size and density of clusters, affecting which points are considered part of a cluster and which are classified as anomalies. Careful selection and tuning of ε are necessary to achieve accurate and effective anomaly detection with DBSCAN."
   ]
  },
  {
   "cell_type": "markdown",
   "id": "e1e57c29-81b0-4f6e-aaf9-734bba3d185b",
   "metadata": {},
   "source": [
    "# Q5. What are the differences between the core, border, and noise points in DBSCAN, and how do they relate to anomaly detection?"
   ]
  },
  {
   "cell_type": "markdown",
   "id": "1dcbdf90-d3b4-4864-a32b-d60200b39157",
   "metadata": {},
   "source": [
    "- Each point in DBSCAN is categorizied by core point, border point and noise point. core point are the point in which at least minpts point are avialable within the epsilon radius.Core points are central to forming clusters in DBSCAN. They represent regions of high density within the dataset. Core points are unlikely to be anomalies because they are surrounded by a sufficient number of neighboring points, indicating they belong to a dense cluster. \n",
    "- Border Point are the point in which point with in the epsilon radius is less the minpts and atleast one core point should be avialable.Border points are on the edge of clusters and help connect core points to form clusters.Border points are less likely to be anomalies than noise points but are not as firmly part of a cluster as core points. They could potentially be anomalies if they are outliers relative to the cluster they are associated with, but this is less common.\n",
    "- Noise point are the rest point which are not a core or border point. Noise points do not belong to any cluster and are considered outliers or anomalies. Noise points are the primary focus of anomaly detection in DBSCAN. They represent instances that do not conform to any discernible pattern or cluster in the data and are often considered anomalous."
   ]
  },
  {
   "cell_type": "markdown",
   "id": "d7f4accd-4cfc-4575-8759-d9566ddf8229",
   "metadata": {},
   "source": [
    "# Q6. How does DBSCAN detect anomalies and what are the key parameters involved in the process?"
   ]
  },
  {
   "cell_type": "markdown",
   "id": "3310ab96-43e6-4f4e-ae99-833c3615b0c6",
   "metadata": {},
   "source": [
    "- DBSCAN indirectly detects anomalies by identifying noise points, which are data points that do not belong to any cluster. The key parameters involved in the process are ε (epsilon) and MinPts, which determine the size of the neighborhood and the minimum number of points required for cluster formation. Proper parameter tuning is essential for accurate anomaly detection with DBSCAN."
   ]
  },
  {
   "cell_type": "markdown",
   "id": "3e75acec-4cf5-475c-ab88-a8f59ac95c6e",
   "metadata": {},
   "source": [
    "# Q7. What is the make_circles package in scikit-learn used for?"
   ]
  },
  {
   "cell_type": "markdown",
   "id": "49d88e2e-56ff-4691-8b3c-8021f55c515a",
   "metadata": {},
   "source": [
    "The make_circles function in scikit-learn is used for generating synthetic data consisting of concentric circles."
   ]
  },
  {
   "cell_type": "markdown",
   "id": "dd75e562-abf6-49b4-ab13-044f06272764",
   "metadata": {},
   "source": [
    "# Q8. What are local outliers and global outliers, and how do they differ from each other?"
   ]
  },
  {
   "cell_type": "markdown",
   "id": "4715d047-eac0-4e8a-8a9b-89cc47531ebf",
   "metadata": {},
   "source": [
    "- Local outliers are abnormal relative to their local neighborhood, while global outliers are abnormal when considering the entire dataset. \n",
    "- Local outliers are anomalous within their local neighborhood but may appear normal when considering the entire dataset. Global outliers, on the other hand, stand out when considering the entire dataset.\n",
    "-  Local outliers are identified based on the behavior of individual data points relative to their neighbors, while global outliers are identified based on the overall distribution of the dataset."
   ]
  },
  {
   "cell_type": "markdown",
   "id": "da428054-2caa-4483-9f49-b389dec5f951",
   "metadata": {},
   "source": [
    "# Q9. How can local outliers be detected using the Local Outlier Factor (LOF) algorithm?"
   ]
  },
  {
   "cell_type": "markdown",
   "id": "ba7b98f8-57b7-4abf-ad78-27c4cf3f83bf",
   "metadata": {},
   "source": [
    "The Local Outlier Factor (LOF) algorithm detects local outliers by comparing the local density of each data point with the local densities of its neighbors. Points with significantly higher LOF values than their neighbors are considered local outliers. Proper parameter selection is essential for the accurate detection of local outliers using LOF."
   ]
  },
  {
   "cell_type": "markdown",
   "id": "c6ad73ab-2375-4351-b53b-f5cfa34a5a8d",
   "metadata": {},
   "source": [
    "# Q10. How can global outliers be detected using the Isolation Forest algorithm?"
   ]
  },
  {
   "cell_type": "markdown",
   "id": "43ba45df-50ee-484a-bae6-b7032cdecd54",
   "metadata": {},
   "source": [
    "Isolation Forest work are :- \n",
    "- The Isolation Forest algorithm randomly selects a feature and a random value within the range of that feature to partition the data and make isolation tree.\n",
    "- we check the probability of each data to be a outlier by calculating anomaly score.\n",
    "- by calculating average depth of data point from the isolation tree and Average depth of all the data point.\n",
    "- After computing the outlier score for each data point, a threshold is applied to determine which points are considered outliers.\n",
    "  Points with outlier scores exceeding the threshold are identified as global outliers."
   ]
  },
  {
   "cell_type": "markdown",
   "id": "da8a8670-65f8-4123-9106-029eab71239c",
   "metadata": {},
   "source": [
    "# Q11. What are some real-world applications where local outlier detection is more appropriate than global outlier detection, and vice versa?"
   ]
  },
  {
   "cell_type": "markdown",
   "id": "743fcca4-4e8b-479e-928f-2646c352fe10",
   "metadata": {},
   "source": [
    "Local Outlier Detection:\n",
    "\n",
    "- Network Intrusion Detection:\n",
    " Imagine you have a computer network with lots of devices connected to it, like computers and servers.\n",
    " Local outlier detection helps find strange activities happening on specific devices or within small parts of the network, like a sudden surge in data   traffic on one computer, which might indicate a possible hacker attack on that device.\n",
    "\n",
    "- Health Monitoring:\n",
    "Think about monitoring your health with wearable devices like fitness trackers or smartwatches.\n",
    "Local outlier detection helps spot sudden changes in your health data, like a big jump in your heart rate or a drop in oxygen levels, which could mean something's wrong and you need medical help.\n",
    "\n",
    "- Sensor Networks:\n",
    "\n",
    "Picture a network of sensors placed around an area, like in a forest to monitor wildlife or in a factory to check machines.\n",
    "Local outlier detection helps find unusual readings from individual sensors, like a sudden spike in temperature in one corner of the forest or a drop in pressure in a specific machine, which might indicate a problem in that area.\n",
    "\n",
    "- Manufacturing Quality Control:\n",
    "\n",
    "Imagine a factory where products are made and checked for quality at different stages of production.\n",
    "Local outlier detection helps catch defects or errors in specific products or production steps, like a flaw in the surface of one item or a size inconsistency in a batch, which might mean there's a problem with that particular machine or process.\n",
    "\n",
    "- Global Outlier Detection:\n",
    "\n",
    "- Financial Fraud Detection:\n",
    "\n",
    "Think about all the transactions happening in a bank or online payment system.\n",
    "Global outlier detection helps identify unusual transactions or patterns across the entire system, like a sudden large transfer of money to an unfamiliar account or multiple small purchases from different locations in a short time, which might indicate fraudulent activity.\n",
    "Environmental Monitoring:\n",
    "\n",
    "Picture a map showing environmental data collected from various sources like satellites or weather stations.\n",
    "Global outlier detection helps find extreme events or unusual changes in environmental conditions, like a sudden increase in temperature over a wide area or a significant drop in air quality across multiple cities, which could signal a natural disaster or pollution problem.\n",
    "Customer Behavior Analysis:\n",
    "\n",
    "Imagine a company analyzing data from its website or stores to understand customer behavior.\n",
    "Global outlier detection helps spot unexpected trends or behaviors across all customers, like a sudden surge in website visits or a drop in sales across different regions, which might indicate changes in market conditions or customer preferences.\n",
    "Supply Chain Management:\n",
    "\n",
    "Think about a company managing its supply chain, from production to delivery of goods.\n",
    "Global outlier detection helps identify disruptions or inefficiencies affecting the entire supply chain, like a delay in shipping affecting multiple orders or a sudden increase in demand for a product across different markets, which could impact the company's operations and planning."
   ]
  }
 ],
 "metadata": {
  "kernelspec": {
   "display_name": "Python 3 (ipykernel)",
   "language": "python",
   "name": "python3"
  },
  "language_info": {
   "codemirror_mode": {
    "name": "ipython",
    "version": 3
   },
   "file_extension": ".py",
   "mimetype": "text/x-python",
   "name": "python",
   "nbconvert_exporter": "python",
   "pygments_lexer": "ipython3",
   "version": "3.10.8"
  }
 },
 "nbformat": 4,
 "nbformat_minor": 5
}
